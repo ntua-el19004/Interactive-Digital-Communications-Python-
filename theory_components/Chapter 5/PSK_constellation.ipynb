{
 "cells": [
  {
   "cell_type": "code",
   "execution_count": 1,
   "metadata": {},
   "outputs": [
    {
     "data": {
      "application/vnd.jupyter.widget-view+json": {
       "model_id": "c2dd01537efa429baa7eff18de73ee18",
       "version_major": 2,
       "version_minor": 0
      },
      "text/plain": [
       "interactive(children=(Dropdown(description='M-PSK:', index=2, options=(4, 8, 16, 32, 64), value=16), Output())…"
      ]
     },
     "metadata": {},
     "output_type": "display_data"
    }
   ],
   "source": [
    "import numpy as np\n",
    "import matplotlib.pyplot as plt\n",
    "from ipywidgets import Layout, widgets, IntSlider, FloatSlider, Dropdown, VBox, HBox, interactive, Output, interact\n",
    "from IPython.display import display, clear_output\n",
    "import time\n",
    "\n",
    "# Function to generate PSK constellation points for a given M\n",
    "def generate_psk_constellation(M):\n",
    "    # Calculate the number of bits per symbol\n",
    "    k = int(np.log2(M))\n",
    "\n",
    "    # Initialize starting phase angles (for 4-PSK)\n",
    "    ph1 = np.pi / 4\n",
    "    theta = np.array([ph1, -ph1, np.pi - ph1, -np.pi + ph1])\n",
    "\n",
    "    # Generate the initial 4-PSK constellation points\n",
    "    mapping = np.exp(1j * theta)\n",
    "\n",
    "    # Expand the constellation for higher-order PSK (M > 4)\n",
    "    if k > 2:\n",
    "        for j in range(3, k + 1):\n",
    "            # Halve the angle for the next level of PSK\n",
    "            theta = theta / 2\n",
    "            \n",
    "            # Generate new PSK points\n",
    "            mapping = np.exp(1j * theta)\n",
    "            \n",
    "            # Mirror the points to fill the other half of the constellation\n",
    "            mapping = np.concatenate((mapping, -np.conjugate(mapping)))\n",
    "            \n",
    "            # Update theta for the next iteration\n",
    "            theta = np.real(np.log(mapping) / 1j)\n",
    "\n",
    "    # Return the PSK constellation points\n",
    "    return mapping\n",
    "\n",
    "# Function to plot the PSK constellation\n",
    "def plot_psk_constellation(M):\n",
    "    # Generate PSK points based on M value\n",
    "    constellation = generate_psk_constellation(M)\n",
    "    \n",
    "    # Calculate the number of bits per symbol\n",
    "    k = int(np.log2(M))\n",
    "\n",
    "    # Plotting the PSK constellation\n",
    "    plt.figure(figsize=(10, 7))\n",
    "    plt.scatter(np.real(constellation), np.imag(constellation))  # Plot the real vs imaginary components\n",
    "    plt.grid(True)\n",
    "    \n",
    "    # Add title and axis labels\n",
    "    plt.title(f'{M}-PSK Constellation')\n",
    "    plt.xlabel('In-Phase')\n",
    "    plt.ylabel('Quadrature')\n",
    "\n",
    "    # Add grid lines through the origin\n",
    "    plt.axhline(0, color='gray', linewidth=0.5)\n",
    "    plt.axvline(0, color='gray', linewidth=0.5)\n",
    "\n",
    "    # Label each point with its binary representation\n",
    "    for m in range(len(constellation)):\n",
    "        plt.text(np.real(constellation[m]) + 0.05, np.imag(constellation[m]), \n",
    "                 format(m, '0{}b'.format(k)),  # Binary label\n",
    "                 bbox=dict(facecolor='red', alpha=0.5))\n",
    "    \n",
    "    # Display the plot\n",
    "    plt.show()\n",
    "\n",
    "# Dropdown widget for selecting M value (order of PSK)\n",
    "M_dropdown = Dropdown(\n",
    "    options=[4, 8, 16, 32, 64],  # Available PSK options\n",
    "    value=16,  # Default value\n",
    "    description='M-PSK:'  # Dropdown label\n",
    ")\n",
    "\n",
    "# Create an interactive widget to update the PSK plot based on the dropdown selection\n",
    "interactive_plot_psk = interact(plot_psk_constellation, M=M_dropdown)\n"
   ]
  }
 ],
 "metadata": {
  "kernelspec": {
   "display_name": "digital_communications",
   "language": "python",
   "name": "python3"
  },
  "language_info": {
   "codemirror_mode": {
    "name": "ipython",
    "version": 3
   },
   "file_extension": ".py",
   "mimetype": "text/x-python",
   "name": "python",
   "nbconvert_exporter": "python",
   "pygments_lexer": "ipython3",
   "version": "3.8.18"
  }
 },
 "nbformat": 4,
 "nbformat_minor": 2
}
