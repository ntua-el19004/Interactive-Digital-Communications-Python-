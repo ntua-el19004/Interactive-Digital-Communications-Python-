{
 "cells": [
  {
   "cell_type": "code",
   "execution_count": 1,
   "metadata": {},
   "outputs": [
    {
     "data": {
      "application/vnd.jupyter.widget-view+json": {
       "model_id": "713578f9ccef4bcca999bad5319117d1",
       "version_major": 2,
       "version_minor": 0
      },
      "text/plain": [
       "VBox(children=(VBox(children=(FloatText(value=8.0, description='R (Mbps):'), FloatText(value=16.0, description…"
      ]
     },
     "metadata": {},
     "output_type": "display_data"
    }
   ],
   "source": [
    "import numpy as np\n",
    "import time\n",
    "import ipywidgets as widgets\n",
    "from IPython.display import display, clear_output\n",
    "from ipywidgets import HBox, VBox, Layout\n",
    "\n",
    "# Function to calculate maximum achievable transmission rate R' and percentage increase\n",
    "def calculate_R_and_percentage_increase(M, a, R):\n",
    "    W = 2.5 * (10 ** 6)  # Fixed bandwidth in Hz\n",
    "    log2M = np.log2(M)  # Calculate log2(M) for QAM modulation\n",
    "    R_prime = (log2M * W) / (1 + a)  # Maximum achievable rate in bps\n",
    "    R_prime_mbps = R_prime / (10 ** 6)  # Convert rate to Mbps\n",
    "    percentage_increase = ((R_prime_mbps - R) / R) * 100  # Calculate percentage increase\n",
    "    return R_prime_mbps, percentage_increase\n",
    "\n",
    "# Create input widgets for user input\n",
    "R_input = widgets.FloatText(description='R (Mbps):', value=8.0)  # Input for current rate (R)\n",
    "M_input = widgets.FloatText(description='M:', value=16)  # Input for modulation order (M)\n",
    "a_input = widgets.FloatText(description='α\\' (roll-off):', value=0.125)  # Input for roll-off factor (a)\n",
    "\n",
    "# Output widget to display the calculated results\n",
    "output_vals = widgets.Output()\n",
    "\n",
    "# Function to update the result when input values change\n",
    "def update_result(change=None):\n",
    "    with output_vals:\n",
    "        output_vals.clear_output()  # Clear previous output\n",
    "        R = R_input.value  # Get current rate from input\n",
    "        M = M_input.value  # Get modulation order from input\n",
    "        a = a_input.value  # Get roll-off factor from input\n",
    "        R_prime_mbps, percentage_increase = calculate_R_and_percentage_increase(M, a, R)  # Calculate rate and increase\n",
    "        # Display the results\n",
    "        print(f\"Maximum Achievable Rate (R') = {R_prime_mbps:.3f} Mbps\")\n",
    "        print(f\"Percentage Increase = {percentage_increase:.2f}%\")\n",
    "\n",
    "# Set observers to call update_result whenever an input value changes\n",
    "R_input.observe(update_result, names='value')\n",
    "M_input.observe(update_result, names='value')\n",
    "a_input.observe(update_result, names='value')\n",
    "\n",
    "# Organize widgets into a vertical box layout\n",
    "input_widgets = VBox([R_input, M_input, a_input], layout=Layout(width='auto'))\n",
    "\n",
    "# Create a UI layout that includes input widgets and output\n",
    "ui = VBox([input_widgets, output_vals])\n",
    "\n",
    "# Display the UI components\n",
    "clear_output(wait=True)\n",
    "display(ui)\n",
    "\n",
    "# Perform the initial calculation\n",
    "update_result()\n"
   ]
  }
 ],
 "metadata": {
  "kernelspec": {
   "display_name": "digital_communications",
   "language": "python",
   "name": "python3"
  },
  "language_info": {
   "codemirror_mode": {
    "name": "ipython",
    "version": 3
   },
   "file_extension": ".py",
   "mimetype": "text/x-python",
   "name": "python",
   "nbconvert_exporter": "python",
   "pygments_lexer": "ipython3",
   "version": "3.8.18"
  }
 },
 "nbformat": 4,
 "nbformat_minor": 2
}
