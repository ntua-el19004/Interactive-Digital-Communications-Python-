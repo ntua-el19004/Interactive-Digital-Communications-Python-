{
 "cells": [
  {
   "cell_type": "code",
   "execution_count": 1,
   "metadata": {},
   "outputs": [
    {
     "data": {
      "application/vnd.jupyter.widget-view+json": {
       "model_id": "03dcf7bedf994d02bc1d351a48c2ffe1",
       "version_major": 2,
       "version_minor": 0
      },
      "text/plain": [
       "Dropdown(description='QAM Type:', index=1, options=(4, 16, 64), value=16)"
      ]
     },
     "metadata": {},
     "output_type": "display_data"
    },
    {
     "data": {
      "application/vnd.jupyter.widget-view+json": {
       "model_id": "329d7955fb7845fab419f0fd1af34998",
       "version_major": 2,
       "version_minor": 0
      },
      "text/plain": [
       "FloatText(value=6.75, description='f1:')"
      ]
     },
     "metadata": {},
     "output_type": "display_data"
    },
    {
     "data": {
      "application/vnd.jupyter.widget-view+json": {
       "model_id": "b40dd1f562aa44889604a00363b8d27d",
       "version_major": 2,
       "version_minor": 0
      },
      "text/plain": [
       "FloatText(value=9.25, description='f2:')"
      ]
     },
     "metadata": {},
     "output_type": "display_data"
    },
    {
     "data": {
      "application/vnd.jupyter.widget-view+json": {
       "model_id": "645c205956b9419b95d3b1008eb491ea",
       "version_major": 2,
       "version_minor": 0
      },
      "text/plain": [
       "Output()"
      ]
     },
     "metadata": {},
     "output_type": "display_data"
    }
   ],
   "source": [
    "import numpy as np\n",
    "import matplotlib.pyplot as plt\n",
    "from scipy.signal import upfirdn, convolve, welch\n",
    "import ipywidgets as widgets\n",
    "from IPython.display import display, clear_output\n",
    "\n",
    "# Function to generate Root Trapezium filter (used for shaping the signal)\n",
    "def rtrapezium(nsamp, rolloff, delay):\n",
    "    T = 1  # Symbol time\n",
    "    # Time vector for the filter\n",
    "    t = np.arange(-delay*T, (delay*T) + 1/nsamp, 1/nsamp)\n",
    "    rrc = np.zeros_like(t)  # Initialize filter coefficients array\n",
    "    for i, ti in enumerate(t):\n",
    "        if ti == 0.0:  # Special case when time equals zero\n",
    "            rrc[i] = 1.0 - rolloff + 4*rolloff/np.pi\n",
    "        elif abs(ti) == T / (4 * rolloff):  # Special case when t is related to rolloff\n",
    "            rrc[i] = (rolloff / np.sqrt(2)) * (\n",
    "                (1 + 2/np.pi) * (np.sin(np.pi / (4 * rolloff))) + \n",
    "                (1 - 2/np.pi) * (np.cos(np.pi / (4 * rolloff))))\n",
    "        else:  # General case for other time values\n",
    "            rrc[i] = (np.sin(np.pi * ti * (1 - rolloff) / T) + \n",
    "                      4 * rolloff * ti * np.cos(np.pi * ti * (1 + rolloff) / T)) / (\n",
    "                      np.pi * ti * (1 - (4 * rolloff * ti / T) ** 2))\n",
    "    return rrc / np.sqrt(np.sum(rrc**2))  # Normalize filter energy\n",
    "\n",
    "# Function to run QAM simulation\n",
    "def run_simulation(f1, f2, qam_type):\n",
    "    with output:  # Output to specific widget area\n",
    "        clear_output(wait=True)  # Clear previous output\n",
    "\n",
    "        # Parameters\n",
    "        k = int(np.log2(qam_type))  # Number of bits per symbol\n",
    "        M = 2**k  # Modulation order\n",
    "        Nsymb = 30000  # Number of symbols\n",
    "        pulse_type = 1  # 1 for rtrapezium shaping filter, 0 for rectangular pulse\n",
    "        nsamp = 32  # Oversampling factor\n",
    "        fc = (f1 + f2) / 2  # Carrier frequency\n",
    "        bandwidth = f2 - f1  # Signal bandwidth\n",
    "        rolloff = bandwidth / (2 * fc)  # Rolloff factor based on bandwidth\n",
    "        EbNo = 10  # Eb/No in dB\n",
    "        SNR = EbNo - 10 * np.log10(nsamp / k / 2)  # SNR per signal sample\n",
    "\n",
    "        # Phase and mapping initialization for QAM\n",
    "        ph1 = np.pi / 4\n",
    "        theta = np.array([ph1, -ph1, np.pi - ph1, -np.pi + ph1])\n",
    "        mapping = np.exp(1j * theta)\n",
    "\n",
    "        # Generate higher-order QAM mappings if necessary\n",
    "        if k > 2:\n",
    "            for j in range(3, k + 1):\n",
    "                theta = theta / 2\n",
    "                mapping = np.exp(1j * theta)\n",
    "                mapping = np.concatenate([mapping, -np.conj(mapping)])\n",
    "                theta = np.angle(mapping)\n",
    "\n",
    "        # Transmitter: Generate random symbols and map to QAM constellation points\n",
    "        x = np.random.randint(0, 2, k * Nsymb)  # Random binary sequence\n",
    "        xsym = x.reshape(-1, k)\n",
    "        xsym = xsym.dot(2**np.arange(xsym.shape[-1])[::-1])  # Convert binary to decimal\n",
    "        y = mapping[xsym]  # Map to QAM symbols\n",
    "\n",
    "        # Define shaping filter\n",
    "        if pulse_type == 1:  # Nyquist pulse -- rtrapezium\n",
    "            delay = 8  # Group delay (# of symbol periods)\n",
    "            shaping_filter = rtrapezium(nsamp, rolloff, delay)\n",
    "        else:  # Rectangular pulse shaping\n",
    "            delay = 0.5\n",
    "            shaping_filter = np.ones(nsamp) / np.sqrt(nsamp)  # Normalized rectangular pulse\n",
    "\n",
    "        # Transmitted signal: Upsample and apply shaping filter\n",
    "        ytx = upfirdn([1], y, nsamp)\n",
    "        ytx = convolve(ytx, shaping_filter, mode='same')\n",
    "\n",
    "        # Quadrature modulation with carrier frequency\n",
    "        m = np.arange(len(ytx))\n",
    "        s = np.real(ytx * np.exp(1j * 2 * np.pi * fc * m / nsamp))\n",
    "\n",
    "        # Adding white Gaussian noise\n",
    "        Ps = 10 * np.log10(np.mean(s**2))  # Signal power in dB\n",
    "        Pn = Ps - SNR  # Noise power in dB\n",
    "        n = np.sqrt(10**(Pn / 10)) * np.random.randn(len(ytx))  # Generate noise\n",
    "        snoisy = s + n  # Noisy bandpass signal\n",
    "\n",
    "        # Receiver: Demodulation and filtering\n",
    "        yrx = 2 * snoisy * np.exp(-1j * 2 * np.pi * fc * m / nsamp)\n",
    "        yrx = convolve(yrx, shaping_filter, mode='same')\n",
    "\n",
    "        # Spectrum plot of the received signal\n",
    "        f, Pxx_den = welch(np.real(s), fs=nsamp, nperseg=1024)\n",
    "        Pxx_den = 10 * np.log10(Pxx_den)\n",
    "        plt.figure(figsize=(10, 8))\n",
    "        plt.plot(f, Pxx_den, 'r')\n",
    "        plt.title('Welch Power Spectral Density Estimate')\n",
    "        plt.xlabel('Frequency (Hz)')\n",
    "        plt.ylabel('Power Spectral Density (V^2/Hz)')\n",
    "        plt.xlim(0, max(f1, f2) + 5)\n",
    "        plt.grid()\n",
    "        plt.show()\n",
    "\n",
    "# Widgets for f1, f2, and QAM type\n",
    "f1_widget = widgets.FloatText(value=6.75, description='f1:')  # Start frequency\n",
    "f2_widget = widgets.FloatText(value=9.25, description='f2:')  # End frequency\n",
    "qam_widget = widgets.Dropdown(options=[4, 16, 64], value=16, description='QAM Type:')  # QAM type dropdown\n",
    "\n",
    "# Callback function when any widget value changes\n",
    "def on_value_change(change):\n",
    "    run_simulation(f1_widget.value, f2_widget.value, qam_widget.value)\n",
    "\n",
    "# Observe changes in widget values\n",
    "f1_widget.observe(on_value_change, names='value')\n",
    "f2_widget.observe(on_value_change, names='value')\n",
    "qam_widget.observe(on_value_change, names='value')\n",
    "\n",
    "# Output widget for displaying simulation results\n",
    "output = widgets.Output()\n",
    "\n",
    "# Display the widgets and output area\n",
    "display(qam_widget, f1_widget, f2_widget, output)\n",
    "\n",
    "# Run initial simulation\n",
    "run_simulation(f1_widget.value, f2_widget.value, qam_widget.value)\n"
   ]
  }
 ],
 "metadata": {
  "kernelspec": {
   "display_name": "digital_communications",
   "language": "python",
   "name": "python3"
  },
  "language_info": {
   "codemirror_mode": {
    "name": "ipython",
    "version": 3
   },
   "file_extension": ".py",
   "mimetype": "text/x-python",
   "name": "python",
   "nbconvert_exporter": "python",
   "pygments_lexer": "ipython3",
   "version": "3.8.18"
  }
 },
 "nbformat": 4,
 "nbformat_minor": 2
}
