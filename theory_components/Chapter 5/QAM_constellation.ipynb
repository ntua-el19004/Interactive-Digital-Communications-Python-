{
 "cells": [
  {
   "cell_type": "code",
   "execution_count": 1,
   "metadata": {},
   "outputs": [
    {
     "data": {
      "application/vnd.jupyter.widget-view+json": {
       "model_id": "1e12b03a49914aeb833ac06cb695315e",
       "version_major": 2,
       "version_minor": 0
      },
      "text/plain": [
       "interactive(children=(Dropdown(description='L-QAM:', index=2, options=(2, 4, 8, 16, 32, 64), value=8), Output(…"
      ]
     },
     "metadata": {},
     "output_type": "display_data"
    }
   ],
   "source": [
    "import numpy as np\n",
    "import matplotlib.pyplot as plt\n",
    "from ipywidgets import Layout, widgets, IntSlider, FloatSlider, Dropdown, VBox, HBox, interactive, Output, interact\n",
    "from IPython.display import display, clear_output\n",
    "import time\n",
    "\n",
    "# Function to generate QAM constellation points\n",
    "def generate_qam_constellation(L):\n",
    "    # Calculate total constellation points and bit length per symbol\n",
    "    M = L * L\n",
    "    l = int(np.log2(L))\n",
    "    \n",
    "    # Generate x and y values for the grid of points in the QAM constellation\n",
    "    x = np.arange(-(L - 1), L, 2)\n",
    "    y = np.arange(-(L - 1), L, 2)\n",
    "    \n",
    "    # Create a grid of constellation points\n",
    "    xv, yv = np.meshgrid(x, y)\n",
    "    mapping = xv + 1j * yv  # Combine in-phase and quadrature components\n",
    "    mapping = mapping.flatten()  # Flatten the grid to a 1D array\n",
    "\n",
    "    return mapping  # Return the QAM constellation points\n",
    "\n",
    "# Function to plot the QAM constellation\n",
    "def plot_qam_constellation(L):\n",
    "    # Generate QAM points based on L value\n",
    "    mapping = generate_qam_constellation(L)\n",
    "    M = L * L\n",
    "    l = int(np.log2(L))\n",
    "\n",
    "    # Plotting the QAM constellation\n",
    "    plt.figure(figsize=(10, 7))\n",
    "    plt.scatter(mapping.real, mapping.imag)  # Plot in-phase vs quadrature components\n",
    "    \n",
    "    # Add binary labels for points if L is small enough\n",
    "    if L < 16:  \n",
    "        # Generate Gray code labels for the points\n",
    "        labels = [bin(i)[2:].zfill(2 * l) for i in range(M)]\n",
    "        dx, dy = -0.5, 0.3  # Label offsets to avoid overlap\n",
    "        for i in range(len(labels)):\n",
    "            plt.text(mapping[i].real + dx, mapping[i].imag + dy, labels[i], bbox=dict(facecolor='red', alpha=0.5))\n",
    "    \n",
    "    # Set plot limits and labels\n",
    "    plt.grid(True)\n",
    "    plt.xlim(-1 * L, 1 * L)\n",
    "    plt.ylim(-1 * L, 1 * L)\n",
    "    plt.title(f\"{L}x{L} QAM Constellation\")\n",
    "    plt.xlabel(\"In-phase\")\n",
    "    plt.ylabel(\"Quadrature\")\n",
    "    plt.show()\n",
    "\n",
    "# Dropdown widget for selecting L value (size of the QAM constellation)\n",
    "L_dropdown = Dropdown(options=[2, 4, 8, 16, 32, 64], value=8, description='L-QAM:', continuous_update=False)\n",
    "\n",
    "# Create interactive widget to update plot based on dropdown selection\n",
    "interactive_plot = interact(plot_qam_constellation, L=L_dropdown)\n"
   ]
  }
 ],
 "metadata": {
  "kernelspec": {
   "display_name": "digital_communications",
   "language": "python",
   "name": "python3"
  },
  "language_info": {
   "codemirror_mode": {
    "name": "ipython",
    "version": 3
   },
   "file_extension": ".py",
   "mimetype": "text/x-python",
   "name": "python",
   "nbconvert_exporter": "python",
   "pygments_lexer": "ipython3",
   "version": "3.8.18"
  }
 },
 "nbformat": 4,
 "nbformat_minor": 2
}
