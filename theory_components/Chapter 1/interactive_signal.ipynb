{
 "cells": [
  {
   "cell_type": "code",
   "execution_count": 5,
   "metadata": {},
   "outputs": [
    {
     "data": {
      "application/vnd.jupyter.widget-view+json": {
       "model_id": "3a29920417974b94a64be5eb2c96bfba",
       "version_major": 2,
       "version_minor": 0
      },
      "text/plain": [
       "interactive(children=(FloatSlider(value=1.0, description='Amplitude', max=5.0), FloatSlider(value=1.0, descrip…"
      ]
     },
     "metadata": {},
     "output_type": "display_data"
    },
    {
     "data": {
      "text/plain": [
       "<function __main__.signal_generator(amplitude, frequency, phase, time_duration)>"
      ]
     },
     "execution_count": 5,
     "metadata": {},
     "output_type": "execute_result"
    }
   ],
   "source": [
    "import numpy as np\n",
    "import matplotlib.pyplot as plt\n",
    "from ipywidgets import interact, FloatSlider\n",
    "import ipywidgets as widgets\n",
    "\n",
    "# Initial signal parameters\n",
    "def signal_generator(amplitude, frequency, phase, time_duration):\n",
    "    # Time interval\n",
    "    t = np.linspace(0, time_duration, 1000)\n",
    "\n",
    "    # Signal generator (sine wave)\n",
    "    signal = amplitude * np.sin(2 * np.pi * frequency * t + phase)\n",
    "\n",
    "    # Signal plot\n",
    "    plt.figure(figsize=(10, 5))\n",
    "    plt.plot(t, signal, label=f'Signal (A={amplitude:.2f}, f={frequency:.2f}, φ={phase:.2f})')\n",
    "    plt.title('Signal in Time Domain')\n",
    "    plt.xlabel('Time (s)')\n",
    "    plt.ylabel('Amplitude')\n",
    "    plt.grid(True)\n",
    "    plt.legend()\n",
    "    plt.show()\n",
    "\n",
    "# Create interactive widgets\n",
    "amplitude_slider = FloatSlider(min=0, max=5, step=0.1, value=1, description='Amplitude', readout_format='.2f')\n",
    "frequency_slider = FloatSlider(min=0.1, max=10, step=0.1, value=1, description='Frequency (Hz)', readout_format='.2f')\n",
    "phase_slider = FloatSlider(min=0, max=2*np.pi, step=0.1, value=0, description='Phase (rad)', readout_format='.2f')\n",
    "time_slider = FloatSlider(min=0.5, max=5, step=0.1, value=1, description='Time Duration (s)', readout_format='.2f')\n",
    "\n",
    "# Interactive execution\n",
    "interact(signal_generator, amplitude=amplitude_slider, frequency=frequency_slider, phase=phase_slider, time_duration=time_slider)\n"
   ]
  }
 ],
 "metadata": {
  "kernelspec": {
   "display_name": "digital_communications",
   "language": "python",
   "name": "python3"
  },
  "language_info": {
   "codemirror_mode": {
    "name": "ipython",
    "version": 3
   },
   "file_extension": ".py",
   "mimetype": "text/x-python",
   "name": "python",
   "nbconvert_exporter": "python",
   "pygments_lexer": "ipython3",
   "version": "3.8.18"
  }
 },
 "nbformat": 4,
 "nbformat_minor": 2
}
