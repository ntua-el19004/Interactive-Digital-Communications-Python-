{
 "cells": [
  {
   "cell_type": "code",
   "execution_count": 1,
   "metadata": {},
   "outputs": [
    {
     "data": {
      "application/vnd.jupyter.widget-view+json": {
       "model_id": "81142c5be353487cac10ecc67d20ca8c",
       "version_major": 2,
       "version_minor": 0
      },
      "text/plain": [
       "VBox(children=(HBox(children=(VBox(children=(IntText(value=600, description='f1 (Hz):'), IntText(value=1100, d…"
      ]
     },
     "metadata": {},
     "output_type": "display_data"
    }
   ],
   "source": [
    "import numpy as np\n",
    "import matplotlib.pyplot as plt\n",
    "from ipywidgets import Layout, widgets\n",
    "from IPython.display import display, clear_output\n",
    "import time\n",
    "from scipy.signal import firwin2, freqz, welch\n",
    "import warnings\n",
    "warnings.filterwarnings('ignore')\n",
    "\n",
    "# Define the interactive widgets\n",
    "f1_input = widgets.IntText(value=600, description='f1 (Hz):', continuous_update=False)\n",
    "f2_input = widgets.IntText(value=1100, description='f2 (Hz):', continuous_update=False)\n",
    "output_area = widgets.Output()\n",
    "\n",
    "# Load an example signal\n",
    "s = np.random.randn(5000)  # Example signal\n",
    "Fs = 8192  # Sampling frequency\n",
    "\n",
    "# Function to update plots based on filter frequencies\n",
    "def update_plots(change):\n",
    "    # Read the values from the input widgets\n",
    "    f1, f2 = f1_input.value, f2_input.value\n",
    "\n",
    "    if not (f1 < f2) or any(freq < 0 for freq in [f1, f2]) or any(freq > 3900 for freq in [f1, f2]):\n",
    "        # Clear the output and display a warning message\n",
    "        with output_area:\n",
    "            output_area.clear_output(wait=True)\n",
    "            warning_html = widgets.HTML(\n",
    "                value=\"<div style='color: black; background-color: #ffffcc; padding: 10px; border-radius: 5px; font-size: 16px; text-align: center;'>\" \n",
    "                      \"<b>⚠️ Warning:</b> Frequency should not exceed 3900 and must be non-negative! Also, make sure f1 < f2!</div>\",\n",
    "                placeholder='',\n",
    "                description='',\n",
    "            )\n",
    "            display(warning_html)\n",
    "    else:\n",
    "        # Proceed with the plot if all frequencies are valid\n",
    "        with output_area:\n",
    "            output_area.clear_output(wait=True)\n",
    "\n",
    "            # Design the bandpass FIR filter\n",
    "            freq11 = np.array([0, f1 * 0.95, f1 * 1.05, f2 * 0.95, f2 * 1.05, Fs / 2]) / (Fs / 2)\n",
    "            gain = [0, 0, 1, 1, 0, 0]\n",
    "            hbp_pm = firwin2(129, freq11, gain)\n",
    "\n",
    "            # Compute the frequency response of the filter\n",
    "            w, h = freqz(hbp_pm, worN=8000, fs=Fs)\n",
    "\n",
    "            fig, axs = plt.subplots(1, 3, figsize=(14, 4))\n",
    "\n",
    "            # Plot the impulse response\n",
    "            axs[0].plot(hbp_pm, label='Bandpass Filter')\n",
    "            axs[0].set_title('Impulse Response')\n",
    "            axs[0].set_xlabel('Sample')\n",
    "            axs[0].set_ylabel('Amplitude')\n",
    "            axs[0].legend()\n",
    "            axs[0].grid(True)\n",
    "\n",
    "            # Plot the frequency response\n",
    "            axs[1].plot(w, 20 * np.log10(abs(h)))\n",
    "            axs[1].set_title('Frequency Response')\n",
    "            axs[1].set_xlabel('Frequency [Hz]')\n",
    "            axs[1].set_ylabel('Magnitude [dB]')\n",
    "            axs[1].grid(True)\n",
    "\n",
    "            # Convolve the signal with the filter coefficients\n",
    "            s_pm = np.convolve(s, hbp_pm, 'same')\n",
    "\n",
    "            # Plot the Power Spectral Density (PSD) of the filtered signal\n",
    "            f, Pxx_spec = welch(s_pm, Fs, 'flattop', 1024, scaling='spectrum')\n",
    "            axs[2].semilogy(f, np.sqrt(Pxx_spec))\n",
    "            axs[2].set_xlabel('Frequency [Hz]')\n",
    "            axs[2].set_ylabel('Linear spectrum [V RMS]')\n",
    "            axs[2].set_title('Power Spectrum (Welch)')\n",
    "            axs[2].grid(True)\n",
    "\n",
    "            plt.tight_layout()\n",
    "            plt.show()\n",
    "\n",
    "# Attach the update_plots function to the frequency inputs\n",
    "f1_input.observe(update_plots, names='value')\n",
    "f2_input.observe(update_plots, names='value')\n",
    "\n",
    "# Display widgets\n",
    "input_ui = widgets.VBox([f1_input, f2_input])\n",
    "ui = widgets.HBox([input_ui], layout=Layout(align_items='center'))\n",
    "\n",
    "out = widgets.VBox([ui, output_area])\n",
    "display(out)\n",
    "\n",
    "# Call update_plots initially\n",
    "update_plots(None)\n"
   ]
  }
 ],
 "metadata": {
  "kernelspec": {
   "display_name": "digital_communications",
   "language": "python",
   "name": "python3"
  },
  "language_info": {
   "codemirror_mode": {
    "name": "ipython",
    "version": 3
   },
   "file_extension": ".py",
   "mimetype": "text/x-python",
   "name": "python",
   "nbconvert_exporter": "python",
   "pygments_lexer": "ipython3",
   "version": "3.8.18"
  }
 },
 "nbformat": 4,
 "nbformat_minor": 2
}
