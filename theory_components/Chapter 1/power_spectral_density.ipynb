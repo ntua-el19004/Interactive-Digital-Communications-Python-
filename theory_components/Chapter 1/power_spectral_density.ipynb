{
 "cells": [
  {
   "cell_type": "code",
   "execution_count": 2,
   "metadata": {},
   "outputs": [
    {
     "data": {
      "application/vnd.jupyter.widget-view+json": {
       "model_id": "e2515270573349ddb8cae0de306bea1f",
       "version_major": 2,
       "version_minor": 0
      },
      "text/plain": [
       "VBox(children=(HBox(children=(VBox(children=(Checkbox(value=True, description='Equiripple Filter 32+1 Q3'), Ch…"
      ]
     },
     "metadata": {},
     "output_type": "display_data"
    }
   ],
   "source": [
    "import numpy as np\n",
    "import matplotlib.pyplot as plt\n",
    "from ipywidgets import Layout, widgets\n",
    "from IPython.display import display, clear_output\n",
    "import scipy.signal as signal\n",
    "import time\n",
    "import warnings\n",
    "warnings.filterwarnings('ignore')\n",
    "\n",
    "# Sampling frequency\n",
    "Fs = 8192  \n",
    "# Signal duration\n",
    "t = np.arange(0, 1.0, 1/Fs)  \n",
    "# Re-define the signal with new frequencies\n",
    "s_new = np.sin(2*np.pi*400*t) + np.sin(2*np.pi*950*t) + np.sin(2*np.pi*1500*t) + np.sin(2*np.pi*3000*t)\n",
    "\n",
    "# Re-define the filters with different lengths and parameters\n",
    "filters5 = {\n",
    "    'Equiripple Filter 32+1 Q3': signal.remez(33, [0, 0.1*Fs, 0.15*Fs, 0.5*Fs], [1, 0], Hz=Fs),\n",
    "    'Equiripple Filter 32+1 Q4': signal.remez(33, [0, 0.11*Fs, 0.12*Fs, 0.5*Fs], [1, 0], Hz=Fs),\n",
    "    'Equiripple Filter 64+1 Q3': signal.remez(65, [0, 0.1*Fs, 0.15*Fs, 0.5*Fs], [1, 0], Hz=Fs),\n",
    "    'Equiripple Filter 64+1 Q4': signal.remez(65, [0, 0.11*Fs, 0.12*Fs, 0.5*Fs], [1, 0], Hz=Fs),\n",
    "    'Equiripple Filter 128+1 Q3': signal.remez(129, [0, 0.1*Fs, 0.15*Fs, 0.5*Fs], [1, 0], Hz=Fs),\n",
    "    'Equiripple Filter 128+1 Q4': signal.remez(129, [0, 0.11*Fs, 0.12*Fs, 0.5*Fs], [1, 0], Hz=Fs),\n",
    "    'Equiripple Filter 140+1 Q3': signal.remez(141, [0, 0.1*Fs, 0.15*Fs, 0.5*Fs], [1, 0], Hz=Fs),\n",
    "    'Equiripple Filter 140+1 Q4': signal.remez(141, [0, 0.11*Fs, 0.12*Fs, 0.5*Fs], [1, 0], Hz=Fs),\n",
    "}\n",
    "\n",
    "# Create checkboxes for each filter\n",
    "checkboxes = [widgets.Checkbox(value=True, description=name) for name in filters5.keys()]\n",
    "\n",
    "# Create output widget for the plot\n",
    "output_plot = widgets.Output()\n",
    "\n",
    "# Function to update the plot based on selected filters\n",
    "def update_plot(dummy=None):\n",
    "    with output_plot:\n",
    "        clear_output(wait=True)\n",
    "        # Start a new plot\n",
    "        plt.figure(figsize=(14, 4))\n",
    "        # Add original signal Power Spectral Density (PSD)\n",
    "        f, Pxx_den_original = signal.welch(s_new, Fs, nperseg=1024)\n",
    "        plt.semilogy(f, Pxx_den_original, label='Original Signal')\n",
    "        # Plot PSD for each selected filter\n",
    "        for cb in checkboxes:\n",
    "            if cb.value:  # only plot if the checkbox is checked\n",
    "                filter_name = cb.description\n",
    "                filter_coeffs = filters5[filter_name]\n",
    "                filtered_signal = signal.lfilter(filter_coeffs, 1.0, s_new)\n",
    "                f, Pxx_den_filtered = signal.welch(filtered_signal, Fs, nperseg=1024)\n",
    "                plt.semilogy(f, Pxx_den_filtered, label=filter_name)\n",
    "        # Formatting the plot\n",
    "        plt.title('Power Spectral Density')\n",
    "        plt.xlabel('Frequency (Hz)')\n",
    "        plt.ylabel('Power/Frequency (dB/Hz)')\n",
    "        plt.legend()\n",
    "        plt.grid(which='both', axis='both')\n",
    "        plt.show()\n",
    "\n",
    "# Attach the update_plot function to the checkboxes\n",
    "for cb in checkboxes:\n",
    "    cb.observe(update_plot, names='value')\n",
    "\n",
    "# Initial plot update\n",
    "update_plot()\n",
    "\n",
    "# Create a VBox to hold the checkboxes\n",
    "vbox_checkboxes = widgets.VBox(checkboxes)\n",
    "\n",
    "# Create an HBox to center the checkboxes\n",
    "ui = widgets.HBox([vbox_checkboxes], layout=Layout(justify_content='center', align_items='center'))\n",
    "\n",
    "# Create a VBox to display both the checkboxes and the plot\n",
    "out = widgets.VBox([ui, output_plot])\n",
    "\n",
    "# Display the checkboxes and the plot\n",
    "display(out)\n",
    "\n",
    "# Initialize the first plot update\n",
    "update_plot()\n"
   ]
  }
 ],
 "metadata": {
  "kernelspec": {
   "display_name": "digital_communications",
   "language": "python",
   "name": "python3"
  },
  "language_info": {
   "codemirror_mode": {
    "name": "ipython",
    "version": 3
   },
   "file_extension": ".py",
   "mimetype": "text/x-python",
   "name": "python",
   "nbconvert_exporter": "python",
   "pygments_lexer": "ipython3",
   "version": "3.8.18"
  }
 },
 "nbformat": 4,
 "nbformat_minor": 2
}
