{
 "cells": [
  {
   "cell_type": "code",
   "execution_count": 2,
   "metadata": {},
   "outputs": [
    {
     "data": {
      "application/vnd.jupyter.widget-view+json": {
       "model_id": "aec9bb710761423c9351826a955ff7c8",
       "version_major": 2,
       "version_minor": 0
      },
      "text/plain": [
       "VBox(children=(HBox(children=(Dropdown(description='Filter:', options=(('lpass32', 'lpass32'), ('lpass64', 'lp…"
      ]
     },
     "metadata": {},
     "output_type": "display_data"
    }
   ],
   "source": [
    "import numpy as np\n",
    "import matplotlib.pyplot as plt\n",
    "from ipywidgets import Layout, widgets\n",
    "from IPython.display import display, clear_output\n",
    "import scipy.signal\n",
    "import requests\n",
    "import warnings\n",
    "warnings.filterwarnings('ignore')\n",
    "\n",
    "# Replace the URL with the URL of the raw content\n",
    "url = \"https://raw.githubusercontent.com/ntua-el17840/Interactive-Digital-Communications/main/test-book/_static/sima.txt\"\n",
    "response = requests.get(url)\n",
    "\n",
    "# Split the response text by new lines and convert each line to a float\n",
    "s = np.array([float(line) for line in response.text.splitlines()])\n",
    "\n",
    "# Sampling frequency\n",
    "Fs = 8192\n",
    "\n",
    "# Low-pass filter coefficients dictionary (lp_filters)\n",
    "lp_filters = {\n",
    "    'lpass32': scipy.signal.remez(33, [0, 0.1 * Fs, 0.15 * Fs, 0.5 * Fs], [1, 0], Hz=Fs),\n",
    "    'lpass64': scipy.signal.remez(65, [0, 0.1 * Fs, 0.15 * Fs, 0.5 * Fs], [1, 0], Hz=Fs),\n",
    "    'lpass128': scipy.signal.remez(129, [0, 0.1 * Fs, 0.15 * Fs, 0.5 * Fs], [1, 0], Hz=Fs),\n",
    "    'lpass140': scipy.signal.remez(141, [0, 0.1 * Fs, 0.15 * Fs, 0.5 * Fs], [1, 0], Hz=Fs)\n",
    "}\n",
    "\n",
    "# Output widget for the plot\n",
    "plot_output = widgets.Output()\n",
    "\n",
    "# Function to display the frequency response of the filtered signal\n",
    "def plot_freq_response(filter_name):\n",
    "    with plot_output:\n",
    "        clear_output(wait=True)\n",
    "        # Apply the selected filter to the original signal\n",
    "        s_lp_filtered = scipy.signal.convolve(s, lp_filters[filter_name], mode='same') / np.sum(lp_filters[filter_name])\n",
    "        \n",
    "        # Calculate FFT of the filtered signal\n",
    "        freqs = np.fft.rfftfreq(len(s_lp_filtered), 1 / Fs)\n",
    "        fft_mag = np.abs(np.fft.rfft(s_lp_filtered))\n",
    "        \n",
    "        # Convert magnitude to dB scale\n",
    "        fft_mag_db = 20 * np.log10(fft_mag)\n",
    "        \n",
    "        # Plot the frequency response\n",
    "        plt.figure(figsize=(10, 5))\n",
    "        plt.plot(freqs, fft_mag_db)\n",
    "        plt.title(f'Frequency Response of Filtered Signal with {filter_name}')\n",
    "        plt.xlabel('Frequency (Hz)')\n",
    "        plt.ylabel('Magnitude (dB)')\n",
    "        plt.grid(True)\n",
    "        plt.xlim(0, Fs / 2)\n",
    "        plt.show()\n",
    "\n",
    "# Dropdown widget to select the filter\n",
    "filter_dropdown = widgets.Dropdown(\n",
    "    options=[(name, name) for name in lp_filters.keys()],\n",
    "    value='lpass32',\n",
    "    description='Filter:'\n",
    ")\n",
    "\n",
    "# Function to handle dropdown selection change\n",
    "def on_filter_change(change):\n",
    "    filter_name = change['new']\n",
    "    plot_freq_response(filter_name)\n",
    "\n",
    "filter_dropdown.observe(on_filter_change, names='value')\n",
    "\n",
    "# VBox layout for alignment and presentation\n",
    "vbox_layout = widgets.Layout(align_items='center', justify_content='center')\n",
    "vbox_loader = widgets.HBox([filter_dropdown], layout=vbox_layout)\n",
    "\n",
    "# Final VBox layout for the filter selection and plot display\n",
    "vbox_final = widgets.VBox([vbox_loader, plot_output])\n",
    "\n",
    "# Display the final layout\n",
    "display(vbox_final)\n",
    "\n",
    "# Initialize the plot with the default filter\n",
    "on_filter_change({'new': filter_dropdown.value})\n"
   ]
  }
 ],
 "metadata": {
  "kernelspec": {
   "display_name": "digital_communications",
   "language": "python",
   "name": "python3"
  },
  "language_info": {
   "codemirror_mode": {
    "name": "ipython",
    "version": 3
   },
   "file_extension": ".py",
   "mimetype": "text/x-python",
   "name": "python",
   "nbconvert_exporter": "python",
   "pygments_lexer": "ipython3",
   "version": "3.8.18"
  }
 },
 "nbformat": 4,
 "nbformat_minor": 2
}
