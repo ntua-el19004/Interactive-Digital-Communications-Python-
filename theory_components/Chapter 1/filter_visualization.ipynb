{
 "cells": [
  {
   "cell_type": "code",
   "execution_count": 1,
   "metadata": {},
   "outputs": [
    {
     "data": {
      "application/vnd.jupyter.widget-view+json": {
       "model_id": "95f5394ec97a4ac597e1b73ed349e418",
       "version_major": 2,
       "version_minor": 0
      },
      "text/plain": [
       "VBox(children=(HBox(children=(Dropdown(description='Filter:', options=('h32', 'h64', 'h128', 'h140', 'h256'), …"
      ]
     },
     "metadata": {},
     "output_type": "display_data"
    }
   ],
   "source": [
    "# Import necessary libraries\n",
    "import numpy as np\n",
    "import matplotlib.pyplot as plt\n",
    "from ipywidgets import Layout\n",
    "import ipywidgets as widgets\n",
    "from IPython.display import display, clear_output\n",
    "import requests\n",
    "import warnings\n",
    "import scipy\n",
    "from scipy import signal\n",
    "\n",
    "# Fetch data from a remote source\n",
    "url = \"https://raw.githubusercontent.com/ntua-el17840/Interactive-Digital-Communications/main/test-book/_static/sima.txt\"\n",
    "response = requests.get(url)\n",
    "\n",
    "# Convert the response text to a numpy array of floats\n",
    "s = np.array([float(line) for line in response.text.splitlines()])\n",
    "\n",
    "# Set sampling frequency and calculate power spectral density\n",
    "Fs = 8192\n",
    "f, Pxx = scipy.signal.welch(s, Fs)\n",
    "\n",
    "# Define filter characteristics\n",
    "N = Fs \n",
    "H = np.concatenate((np.ones(N//8), np.zeros(N//4), np.ones(N//8)))\n",
    "h = np.fft.ifft(H, n=N).real\n",
    "h = np.fft.fftshift(h)\n",
    "\n",
    "# Create filter variants of different lengths\n",
    "H = np.hstack((np.ones(int(Fs/8)), np.zeros(int(Fs-Fs/4)), np.ones(int(Fs/8))))\n",
    "h = np.real(np.fft.ifft(H))\n",
    "middle = int(len(h)/2)\n",
    "h = np.hstack((h[middle:], h[:middle]))\n",
    "\n",
    "# Create a dictionary of filter variants\n",
    "h_variants = {\n",
    "    'h32': h[middle-16:middle+16],\n",
    "    'h64': h[middle-32:middle+32],\n",
    "    'h128': h[middle-64:middle+64],\n",
    "    'h140': h[middle-70:middle+70],\n",
    "    'h256': h[middle-128:middle+128],\n",
    "}\n",
    "\n",
    "# Create an output widget for displaying plots\n",
    "output2 = widgets.Output()\n",
    "output2.layout = Layout(width='auto', margin='0 auto')\n",
    "\n",
    "# Function to plot the selected filter\n",
    "def plot_stem(h_key):\n",
    "    with output2:\n",
    "        clear_output(wait=True)  # Clear the previous plots\n",
    "        h_data = h_variants[h_key]\n",
    "        x_values = np.arange(len(h_data))\n",
    "        plt.close('all')  # Close all existing figures\n",
    "        fig, ax = plt.subplots()\n",
    "        markerline, stemlines, baseline = ax.stem(x_values, h_data, '-.')\n",
    "        plt.setp(baseline, 'color', 'k', 'linewidth', 2)\n",
    "        plt.title('Stem plot of selected filter')\n",
    "        plt.xlabel('Index')\n",
    "        plt.ylabel('Amplitude')\n",
    "        plt.show()\n",
    "\n",
    "# Create a dropdown widget for filter selection\n",
    "dropdown = widgets.Dropdown(options=list(h_variants.keys()), value='h32', description='Filter:')\n",
    "\n",
    "# Function to update the plot when the dropdown value changes\n",
    "def update_plot(change):\n",
    "    plot_stem(change['new'])\n",
    "\n",
    "# Observe dropdown for changes\n",
    "dropdown.observe(update_plot, names='value')\n",
    "\n",
    "# Create layouts for organizing widgets\n",
    "vbox_layout = Layout(display='flex', flex_flow='column', align_items='center', justify_content='space-between')\n",
    "ui = widgets.HBox([dropdown], layout=Layout(align_items='center', justify_content='center'))\n",
    "\n",
    "# Group the dropdown and output widget in a vertical box layout\n",
    "vbox_final = widgets.VBox([ui, output2])\n",
    "\n",
    "# Display the final VBox\n",
    "display(vbox_final)\n",
    "\n",
    "# Initial call to display the plot\n",
    "plot_stem(dropdown.value)"
   ]
  }
 ],
 "metadata": {
  "kernelspec": {
   "display_name": "digital_communications",
   "language": "python",
   "name": "python3"
  },
  "language_info": {
   "codemirror_mode": {
    "name": "ipython",
    "version": 3
   },
   "file_extension": ".py",
   "mimetype": "text/x-python",
   "name": "python",
   "nbconvert_exporter": "python",
   "pygments_lexer": "ipython3",
   "version": "3.8.18"
  }
 },
 "nbformat": 4,
 "nbformat_minor": 2
}
