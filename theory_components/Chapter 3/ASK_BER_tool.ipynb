{
 "cells": [
  {
   "cell_type": "code",
   "execution_count": 1,
   "metadata": {},
   "outputs": [
    {
     "data": {
      "application/vnd.jupyter.widget-view+json": {
       "model_id": "2dc78482fcae4e3383eca21d0b341714",
       "version_major": 2,
       "version_minor": 0
      },
      "text/plain": [
       "HBox(children=(VBox(children=(HBox(children=(HBox(children=(Dropdown(description='Samples per Symbol:', index=…"
      ]
     },
     "metadata": {},
     "output_type": "display_data"
    },
    {
     "data": {
      "application/vnd.jupyter.widget-view+json": {
       "model_id": "a6c960ecee0b4ee2a7b058333e32e88e",
       "version_major": 2,
       "version_minor": 0
      },
      "text/plain": [
       "Output()"
      ]
     },
     "metadata": {},
     "output_type": "display_data"
    }
   ],
   "source": [
    "import numpy as np\n",
    "import matplotlib.pyplot as plt\n",
    "from ipywidgets import Layout, widgets, Output, RadioButtons, Checkbox, Dropdown\n",
    "from IPython.display import display\n",
    "from scipy.special import erfc\n",
    "from scipy.signal import upfirdn\n",
    "\n",
    "# Function to calculate the number of errors in ASK modulation\n",
    "def ask_errors_sin(k, M, nsamp, EbN0_db, matched_filter_type='Normal'):\n",
    "    # Determine number of levels in ASK constellation\n",
    "    L = 2**k\n",
    "    \n",
    "    # Calculate signal-to-noise ratio (SNR) in dB and linear scale\n",
    "    SNR_db = EbN0_db - 10 * np.log10(nsamp / (2 * k))\n",
    "    SNR_linear = 10 ** (SNR_db / 10)\n",
    "    \n",
    "    # Generate random ASK symbols and apply cosine pulse shaping\n",
    "    x = 2 * np.floor(L * np.random.rand(M)) - L + 1\n",
    "    h = np.cos(2 * np.pi * np.arange(1, nsamp + 1) / nsamp)\n",
    "    h = h / np.sqrt(np.sum(h**2))\n",
    "    \n",
    "    # Apply pulse shaping filter using upsample-filter-downsample method\n",
    "    y = upfirdn(h, x, up=nsamp)\n",
    "    y = y[:M * nsamp]\n",
    "    \n",
    "    # Calculate noise variance and generate noise\n",
    "    P_x = np.mean(y ** 2)\n",
    "    noise_variance = P_x / SNR_linear\n",
    "    noise = np.random.normal(0, np.sqrt(noise_variance), len(y))\n",
    "    \n",
    "    # Add noise to signal\n",
    "    y_noisy = y + noise\n",
    "\n",
    "    # Apply matched filter (normal or reversed) and sample at decision points\n",
    "    matched = h[::-1] if matched_filter_type == 'Reversed' else h\n",
    "    yrx = np.convolve(y_noisy, matched, mode='full')\n",
    "    z = yrx[nsamp - 1:M * nsamp:nsamp]\n",
    "\n",
    "    # Decision based on closest constellation levels\n",
    "    levels = np.arange(-L + 1, L, 2)\n",
    "    z_decided = levels[np.abs(levels[:, None] - z).argmin(axis=0)]\n",
    "\n",
    "    # Return the number of symbol errors\n",
    "    return np.count_nonzero(x != z_decided)\n",
    "\n",
    "# Set experiment parameters\n",
    "M = 10000\n",
    "EbN0_db = np.arange(0, 21, 2)\n",
    "\n",
    "# Create interactive UI components\n",
    "checkbox_4qam = Checkbox(value=True, description='4-ASK')\n",
    "checkbox_8qam = Checkbox(value=False, description='8-ASK')\n",
    "checkbox_16qam = Checkbox(value=False, description='16-ASK')\n",
    "nsamp_dropdown = Dropdown(options=[4, 8, 16, 32, 64], value=16, description='Samples per Symbol:')\n",
    "matched_radio = RadioButtons(options=['Normal', 'Reversed'], value='Normal', description='Matched Filter:')\n",
    "plot_output = Output()\n",
    "\n",
    "# Plot selected modulations based on user input\n",
    "def plot_selected_modulations(change):\n",
    "    with plot_output:\n",
    "        plot_output.clear_output(wait=True)\n",
    "        nsamp = nsamp_dropdown.value\n",
    "        matched_filter_type = matched_radio.value\n",
    "        plt.figure(figsize=(10, 7))\n",
    "        colors = {'4-ASK': 'red', '8-ASK': 'green', '16-ASK': 'blue'}\n",
    "\n",
    "        for k, checkbox, color in zip([2, 3, 4], [checkbox_4qam, checkbox_8qam, checkbox_16qam], colors.values()):\n",
    "            if checkbox.value:\n",
    "                L = 2**k\n",
    "                modulation_name = f'{L}-ASK'\n",
    "                ber = np.zeros(len(EbN0_db))\n",
    "                for index, eb_n0 in enumerate(EbN0_db):\n",
    "                    ber[index] = ask_errors_sin(k, M, nsamp, eb_n0, matched_filter_type) / (M * np.log2(L))\n",
    "\n",
    "                plt.semilogy(EbN0_db, ber, 'o', label=f'Experimental {modulation_name}', color=color)\n",
    "                ber_theoretical = (((L-1)/L) * erfc(np.sqrt(10**(EbN0_db / 10) * (3 * np.log2(L)) / (L**2 - 1)))) / k\n",
    "                plt.semilogy(EbN0_db, ber_theoretical, linestyle='-', label=f'Theoretical {modulation_name}', color=color)\n",
    "\n",
    "        plt.grid(True, which='both')\n",
    "        plt.xlabel(\"Eb/N0 (dB)\")\n",
    "        plt.ylabel(\"BER\")\n",
    "        plt.title(f'Theoretical and Experimental BER of ASK Modulations [nsamp={nsamp}]')\n",
    "        plt.legend()\n",
    "        plt.show()\n",
    "\n",
    "# Attach the plot function to UI interactions\n",
    "checkbox_4qam.observe(plot_selected_modulations, names='value')\n",
    "checkbox_8qam.observe(plot_selected_modulations, names='value')\n",
    "checkbox_16qam.observe(plot_selected_modulations, names='value')\n",
    "nsamp_dropdown.observe(plot_selected_modulations, names='value')\n",
    "matched_radio.observe(plot_selected_modulations, names='value')\n",
    "\n",
    "# Set up the UI layout\n",
    "inputs1 = widgets.HBox([nsamp_dropdown])\n",
    "inputs2 = widgets.HBox([matched_radio], layout=Layout(margin=\"0 0 0 20px\"))\n",
    "inputs12 = widgets.HBox([inputs1, inputs2], layout=Layout(align_items='center'))\n",
    "inputs3 = widgets.VBox([checkbox_4qam, checkbox_8qam, checkbox_16qam])\n",
    "\n",
    "inputs = widgets.VBox([inputs12, inputs3])\n",
    "\n",
    "ui = widgets.HBox([inputs], layout=Layout(align_items='center'))\n",
    "\n",
    "# Display UI and initial plot\n",
    "display(ui, plot_output)\n",
    "plot_selected_modulations(None)\n"
   ]
  }
 ],
 "metadata": {
  "kernelspec": {
   "display_name": "digital_communications",
   "language": "python",
   "name": "python3"
  },
  "language_info": {
   "codemirror_mode": {
    "name": "ipython",
    "version": 3
   },
   "file_extension": ".py",
   "mimetype": "text/x-python",
   "name": "python",
   "nbconvert_exporter": "python",
   "pygments_lexer": "ipython3",
   "version": "3.8.18"
  }
 },
 "nbformat": 4,
 "nbformat_minor": 2
}
