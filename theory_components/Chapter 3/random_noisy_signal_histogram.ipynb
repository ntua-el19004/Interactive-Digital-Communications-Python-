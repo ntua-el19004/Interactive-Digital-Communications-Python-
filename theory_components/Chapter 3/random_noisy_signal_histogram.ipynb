{
 "cells": [
  {
   "cell_type": "code",
   "execution_count": 1,
   "metadata": {},
   "outputs": [
    {
     "data": {
      "application/vnd.jupyter.widget-view+json": {
       "model_id": "7efab9dd39314342abdec311e68a0e6a",
       "version_major": 2,
       "version_minor": 0
      },
      "text/plain": [
       "VBox(children=(IntText(value=3, description='k:'), IntText(value=5, description='d:'), FloatSlider(value=12.0,…"
      ]
     },
     "metadata": {},
     "output_type": "display_data"
    },
    {
     "data": {
      "application/vnd.jupyter.widget-view+json": {
       "model_id": "9af7499d359d4764b43c6242e41fbe13",
       "version_major": 2,
       "version_minor": 0
      },
      "text/plain": [
       "Output()"
      ]
     },
     "metadata": {},
     "output_type": "display_data"
    }
   ],
   "source": [
    "import numpy as np\n",
    "import matplotlib.pyplot as plt\n",
    "from ipywidgets import Layout, widgets\n",
    "from IPython.display import display\n",
    "\n",
    "# Function to generate histogram based on k, Eb/N0, and d inputs\n",
    "def generate_histogram(k, EbN0_db, d):\n",
    "    M = 60000  # Number of symbols\n",
    "    nsamp = 16  # Number of samples per symbol\n",
    "\n",
    "    L = 2 ** k  # Number of levels\n",
    "    SNR_db = EbN0_db - 10 * np.log10(nsamp / (2 * k))  # Calculate SNR in dB\n",
    "    SNR = 10 ** (SNR_db * 0.1)  # Convert SNR from dB to linear scale\n",
    "\n",
    "    # Generate random signal with L levels\n",
    "    x = (2 * np.floor(L * np.random.rand(M)) - L + 1) * d / 2\n",
    "\n",
    "    # Power of the original signal\n",
    "    Px = (d ** 2 / 4) * (L ** 2 - 1) / 3\n",
    "    Measured_x = np.sum(x ** 2) / len(x)\n",
    "\n",
    "    # Upsample the signal\n",
    "    y = np.repeat(x, nsamp)\n",
    "\n",
    "    # Generate Gaussian noise\n",
    "    noise = np.random.normal(0, np.sqrt(Measured_x / SNR), len(y))\n",
    "    y_noisy = y + noise\n",
    "\n",
    "    # Matched filter (average over nsamp samples)\n",
    "    y_reshaped = np.reshape(y_noisy, (M, nsamp))\n",
    "    matched = np.ones((nsamp, 1))\n",
    "    z = np.matmul(y_reshaped, matched) / nsamp\n",
    "\n",
    "    # Set up the bins for the histogram\n",
    "    A = np.arange(-(L - 1) * d / 2, L * d / 2, d)\n",
    "\n",
    "    # Plot the histogram\n",
    "    fig, ax = plt.subplots(1, 1, figsize=(14, 4))\n",
    "    ax.hist(z, bins=200, edgecolor='white', color='#1F77B4')\n",
    "    ax.set_xticks(A)\n",
    "    ax.set_xlabel(\"Integers\")\n",
    "    ax.set_ylabel(\"Frequency\")\n",
    "    ax.legend([f\"Eb/N0 = {EbN0_db} dB\"])\n",
    "    ax.set_title('Histogram of the Noisy Signal')\n",
    "\n",
    "    plt.show()\n",
    "\n",
    "# UI Components for input\n",
    "k_input = widgets.IntText(value=3, description='k:', continuous_update=False)\n",
    "d_input = widgets.IntText(value=5, description='d:', continuous_update=False)\n",
    "EbN0_db_slider = widgets.FloatSlider(value=12, min=0, max=20, step=0.1, description='Eb/N0 (dB):', continuous_update=False)\n",
    "\n",
    "# Arrange inputs in a VBox\n",
    "inputs = widgets.VBox([k_input, d_input, EbN0_db_slider])\n",
    "\n",
    "# Interactive output to update the plot based on k, d, and Eb/N0 values\n",
    "out = widgets.interactive_output(generate_histogram, {'k': k_input, 'd': d_input, 'EbN0_db': EbN0_db_slider})\n",
    "\n",
    "# Display the UI and output\n",
    "display(inputs, out)\n"
   ]
  }
 ],
 "metadata": {
  "kernelspec": {
   "display_name": "digital_communications",
   "language": "python",
   "name": "python3"
  },
  "language_info": {
   "codemirror_mode": {
    "name": "ipython",
    "version": 3
   },
   "file_extension": ".py",
   "mimetype": "text/x-python",
   "name": "python",
   "nbconvert_exporter": "python",
   "pygments_lexer": "ipython3",
   "version": "3.8.18"
  }
 },
 "nbformat": 4,
 "nbformat_minor": 2
}
