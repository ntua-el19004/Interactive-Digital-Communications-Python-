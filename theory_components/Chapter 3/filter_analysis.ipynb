{
 "cells": [
  {
   "cell_type": "code",
   "execution_count": 1,
   "metadata": {},
   "outputs": [
    {
     "data": {
      "application/vnd.jupyter.widget-view+json": {
       "model_id": "1d3e84cb1f3243489e93dbaf358ae85b",
       "version_major": 2,
       "version_minor": 0
      },
      "text/plain": [
       "VBox(children=(HBox(children=(VBox(children=(Dropdown(description='nsamp:', options=(8, 16, 32, 64), value=8),…"
      ]
     },
     "metadata": {},
     "output_type": "display_data"
    }
   ],
   "source": [
    "# Necessary imports for numerical calculations, plotting, and interactive UI\n",
    "import numpy as np\n",
    "import matplotlib.pyplot as plt\n",
    "from ipywidgets import Layout, widgets\n",
    "from IPython.display import display\n",
    "\n",
    "# Output widget to display the plot\n",
    "output = widgets.Output()\n",
    "\n",
    "# Function to plot filters based on nsamp input\n",
    "def plot_filters(change):\n",
    "    # Get the current value of nsamp from the dropdown\n",
    "    nsamp = nsamp_input.value\n",
    "\n",
    "    # Clear the previous output before plotting the new data\n",
    "    with output:\n",
    "        output.clear_output(wait=True)\n",
    "\n",
    "        # Generate orthogonal and sinusoidal signals, both normalized\n",
    "        orthogonal = np.ones(nsamp) / np.sqrt(nsamp)\n",
    "        sinusoidal = np.cos(2 * np.pi * np.arange(1, nsamp + 1) / nsamp)\n",
    "        sinusoidal = sinusoidal / np.sqrt(np.sum(sinusoidal**2))\n",
    "\n",
    "        # Create matched filters by reversing the signal arrays\n",
    "        matched_orthogonal = orthogonal[::-1]\n",
    "        matched_sinusoidal = sinusoidal[::-1]\n",
    "\n",
    "        # Create a 2x2 subplot layout for plotting the filters\n",
    "        fig, axs = plt.subplots(2, 2, figsize=(14, 8))\n",
    "\n",
    "        # Plot orthogonal signal\n",
    "        markerline, stemlines, baseline = axs[0, 0].stem(orthogonal)\n",
    "        plt.setp(stemlines, 'linewidth', 0.5)\n",
    "        plt.setp(markerline, 'markersize', 4)\n",
    "        axs[0, 0].set_title('Orthogonal')\n",
    "        axs[0, 0].set_xlabel('Index')\n",
    "        axs[0, 0].set_ylabel('Amplitude')\n",
    "\n",
    "        # Plot sinusoidal signal\n",
    "        markerline, stemlines, baseline = axs[0, 1].stem(sinusoidal)\n",
    "        plt.setp(stemlines, 'linewidth', 0.5)\n",
    "        plt.setp(markerline, 'markersize', 4)\n",
    "        axs[0, 1].set_title('Sinusoidal')\n",
    "        axs[0, 1].set_xlabel('Index')\n",
    "        axs[0, 1].set_ylabel('Amplitude')\n",
    "\n",
    "        # Plot matched orthogonal filter\n",
    "        markerline, stemlines, baseline = axs[1, 0].stem(matched_orthogonal)\n",
    "        plt.setp(stemlines, 'linewidth', 0.5)\n",
    "        plt.setp(markerline, 'markersize', 4)\n",
    "        axs[1, 0].set_title('Matched Orthogonal')\n",
    "        axs[1, 0].set_xlabel('Index')\n",
    "        axs[1, 0].set_ylabel('Amplitude')\n",
    "\n",
    "        # Plot matched sinusoidal filter\n",
    "        markerline, stemlines, baseline = axs[1, 1].stem(matched_sinusoidal)\n",
    "        plt.setp(stemlines, 'linewidth', 0.5)\n",
    "        plt.setp(markerline, 'markersize', 4)\n",
    "        axs[1, 1].set_title('Matched Sinusoidal')\n",
    "        axs[1, 1].set_xlabel('Index')\n",
    "        axs[1, 1].set_ylabel('Amplitude')\n",
    "\n",
    "        # Adjust layout to prevent overlap\n",
    "        plt.tight_layout()\n",
    "        plt.show()\n",
    "\n",
    "# Create a dropdown widget for selecting nsamp values\n",
    "nsamp_input = widgets.Dropdown(\n",
    "    options=[8, 16, 32, 64],  # Available options for nsamp\n",
    "    value=8,  # Default value\n",
    "    description='nsamp:',\n",
    ")\n",
    "\n",
    "# Trigger the plot function when nsamp is changed\n",
    "nsamp_input.observe(plot_filters, names='value')\n",
    "\n",
    "# Create a vertical layout for the dropdown and output\n",
    "inputs = widgets.VBox([nsamp_input])\n",
    "\n",
    "# Combine inputs and output into a horizontal layout\n",
    "ui = widgets.HBox([inputs], layout=Layout(align_items='center'))\n",
    "out = widgets.VBox([ui, output])\n",
    "\n",
    "# Display the UI\n",
    "display(out)\n",
    "\n",
    "# Initial plot when the page loads\n",
    "plot_filters(None)\n"
   ]
  }
 ],
 "metadata": {
  "kernelspec": {
   "display_name": "digital_communications",
   "language": "python",
   "name": "python3"
  },
  "language_info": {
   "codemirror_mode": {
    "name": "ipython",
    "version": 3
   },
   "file_extension": ".py",
   "mimetype": "text/x-python",
   "name": "python",
   "nbconvert_exporter": "python",
   "pygments_lexer": "ipython3",
   "version": "3.8.18"
  }
 },
 "nbformat": 4,
 "nbformat_minor": 2
}
