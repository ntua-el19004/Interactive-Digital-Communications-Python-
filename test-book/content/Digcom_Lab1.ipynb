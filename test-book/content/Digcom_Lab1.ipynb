{
 "cells": [
  {
   "cell_type": "markdown",
   "metadata": {},
   "source": [
    "# Lab Exercise 1: Introduction\n",
    "The purpose of the first set of exercises is, on one hand, to familiarize with the programming environment of Python and Matlab, and on the other hand, to introduce the methods of representation and processing of telecommunication signals in these specific programming languages."
   ]
  },
  {
   "cell_type": "markdown",
   "metadata": {},
   "source": [
    "## Setup"
   ]
  },
  {
   "cell_type": "markdown",
   "metadata": {},
   "source": [
    "```{admonition} Live Code\n",
    "Press the following button to make python code interactive. It will connect you to a kernel once it says \"ready\" (might take a bit, especially the first time it runs).\n",
    "```\n",
    "\n",
    "<div style=\"text-align: center;\">\n",
    "  <button title=\"Launch thebe\" class=\"thebelab-button thebe-launch-button\" onclick=\"initThebe()\">Python Interactive Code</button>\n",
    "</div>\n"
   ]
  },
  {
   "cell_type": "markdown",
   "metadata": {},
   "source": [
    "#### Importing packages we will need later in Python"
   ]
  },
  {
   "cell_type": "code",
   "execution_count": 1,
   "metadata": {
    "tags": [
     "thebe-init",
     "remove-output"
    ]
   },
   "outputs": [
    {
     "name": "stdout",
     "output_type": "stream",
     "text": [
      "Libraries added successfully!\n"
     ]
    }
   ],
   "source": [
    "# Import signal processing functions from SciPy\n",
    "from scipy import signal\n",
    "\n",
    "# Import FFT functions for computing the Fast Fourier Transform\n",
    "from scipy.fft import fft, fftfreq\n",
    "from scipy.fftpack import fftshift, ifftshift\n",
    "\n",
    "# Import Matplotlib for plotting graphs\n",
    "import matplotlib\n",
    "import matplotlib.pyplot as plt\n",
    "\n",
    "# Import NumPy for numerical operations\n",
    "import numpy as np\n",
    "from numpy import random\n",
    "\n",
    "# Suppress warning messages\n",
    "import warnings\n",
    "warnings.filterwarnings('ignore')\n",
    "\n",
    "# Import time module to measure execution time\n",
    "import time\n",
    "\n",
    "# Import interactive widgets for Jupyter notebooks\n",
    "import ipywidgets as widgets\n",
    "from ipywidgets import IntSlider, FloatSlider, interactive, Layout, Dropdown, IntText, HBox, VBox, Output\n",
    "\n",
    "# Import display functions from IPython\n",
    "from IPython.display import display, clear_output\n",
    "\n",
    "# Print a message indicating successful import of libraries\n",
    "print(\"Libraries added successfully!\")\n"
   ]
  },
  {
   "cell_type": "markdown",
   "metadata": {},
   "source": [
    "## Part 1: Training"
   ]
  },
  {
   "cell_type": "markdown",
   "metadata": {},
   "source": [
    "#### Create a scalar (one-dimensional) quantity"
   ]
  },
  {
   "cell_type": "markdown",
   "metadata": {},
   "source": [
    "`````{tab} Python\n",
    "<div class=\"cell tag_thebe-init docutils container\">\n",
    "<div class=\"cell_input docutils container\">\n",
    "<div class=\"highlight-ipython3 notranslate\"><div class=\"highlight\"><pre id=\"codecell2\"><span></span><span class=\"n\">s</span><span class=\"o\">=</span><span class=\"mi\">2</span>\n",
    "<span class=\"nb\">print</span><span class=\"p\">(</span><span class=\"s1\">&#39;s =&#39;</span><span class=\"p\">,</span><span class=\"n\">s</span><span class=\"p\">)</span>\n",
    "</pre></div>\n",
    "</div>\n",
    "</div>\n",
    "</div>\n",
    "`````\n",
    "`````{tab} Matlab\n",
    "````matlab\n",
    "s = 2;\n",
    "disp(['s = ', num2str(s)]);\n",
    "````\n",
    "`````"
   ]
  },
  {
   "cell_type": "code",
   "execution_count": 2,
   "metadata": {
    "tags": [
     "remove-input",
     "remove-output",
     "thebe-init"
    ]
   },
   "outputs": [
    {
     "name": "stdout",
     "output_type": "stream",
     "text": [
      "s = 2\n"
     ]
    }
   ],
   "source": [
    "s=2\n",
    "print('s =',s)"
   ]
  },
  {
   "cell_type": "markdown",
   "metadata": {},
   "source": [
    "#### Create a vector of real values"
   ]
  },
  {
   "cell_type": "markdown",
   "metadata": {},
   "source": [
    "`````{tab} Python\n",
    "<div class=\"cell tag_thebe-init docutils container\">\n",
    "<div class=\"cell_input docutils container\">\n",
    "<div class=\"highlight-ipython3 notranslate\"><div class=\"highlight\"><pre id=\"codecell4\"><span></span><span class=\"n\">v</span><span class=\"o\">=</span><span class=\"n\">np</span><span class=\"o\">.</span><span class=\"n\">array</span><span class=\"p\">([</span><span class=\"mi\">1</span><span class=\"p\">,</span><span class=\"mi\">5</span><span class=\"p\">,</span><span class=\"mi\">9</span><span class=\"p\">])</span>\n",
    "<span class=\"nb\">print</span><span class=\"p\">(</span><span class=\"s1\">'v ='</span><span class=\"p\">,</span><span class=\"n\">v</span><span class=\"p\">)</span>\n",
    "</pre></div>\n",
    "</div>\n",
    "</div>\n",
    "</div>\n",
    "`````\n",
    "`````{tab} Matlab\n",
    "````matlab\n",
    "v = [1,5,9];\n",
    "disp(['v = ', mat2str(v)]);\n",
    "````\n",
    "`````"
   ]
  },
  {
   "cell_type": "code",
   "execution_count": 3,
   "metadata": {
    "tags": [
     "remove-input",
     "remove-output",
     "thebe-init"
    ]
   },
   "outputs": [
    {
     "name": "stdout",
     "output_type": "stream",
     "text": [
      "v = [1 5 9]\n"
     ]
    }
   ],
   "source": [
    "v=np.array([1,5,9])\n",
    "print('v =',v)"
   ]
  },
  {
   "cell_type": "markdown",
   "metadata": {},
   "source": [
    "#### Create a matrix of real values"
   ]
  },
  {
   "cell_type": "markdown",
   "metadata": {},
   "source": [
    "`````{tab} Python\n",
    "<div class=\"cell tag_thebe-init docutils container\">\n",
    "<div class=\"cell_input docutils container\">\n",
    "<div class=\"highlight-ipython3 notranslate\"><div class=\"highlight\"><pre id=\"codecell6\"><span></span><span class=\"n\">a</span><span class=\"o\">=</span><span class=\"n\">np</span><span class=\"o\">.</span><span class=\"n\">array</span><span class=\"p\">([[</span><span class=\"mi\">1</span><span class=\"p\">,</span><span class=\"mi\">2</span><span class=\"p\">,</span><span class=\"mi\">3</span><span class=\"p\">],[</span><span class=\"mi\">4</span><span class=\"p\">,</span><span class=\"mi\">5</span><span class=\"p\">,</span><span class=\"mi\">6</span><span class=\"p\">],[</span><span class=\"mi\">7</span><span class=\"p\">,</span><span class=\"mi\">8</span><span class=\"p\">,</span><span class=\"mi\">9</span><span class=\"p\">]])</span>\n",
    "<span class=\"nb\">print</span><span class=\"p\">(</span><span class=\"s1\">'a ='</span><span class=\"p\">,</span><span class=\"n\">a</span><span class=\"p\">)</span>\n",
    "</pre></div>\n",
    "</div>\n",
    "</div>\n",
    "</div>\n",
    "`````\n",
    "`````{tab} Matlab\n",
    "````matlab\n",
    "a = [1,2,3; 4,5,6; 7,8,9];\n",
    "disp(['a = ', mat2str(a)]);\n",
    "````\n",
    "`````"
   ]
  },
  {
   "cell_type": "code",
   "execution_count": 4,
   "metadata": {
    "tags": [
     "remove-input",
     "remove-output",
     "thebe-init"
    ]
   },
   "outputs": [
    {
     "name": "stdout",
     "output_type": "stream",
     "text": [
      "a = [[1 2 3]\n",
      " [4 5 6]\n",
      " [7 8 9]]\n"
     ]
    }
   ],
   "source": [
    "a=np.array([[1,2,3],[4,5,6],[7,8,9]])\n",
    "print('a =',a)"
   ]
  },
  {
   "cell_type": "markdown",
   "metadata": {},
   "source": [
    "#### Sum"
   ]
  },
  {
   "cell_type": "markdown",
   "metadata": {},
   "source": [
    "`````{tab} Python\n",
    "<div class=\"cell tag_thebe-init docutils container\">\n",
    "<div class=\"cell_input docutils container\">\n",
    "<div class=\"highlight-ipython3 notranslate\"><div class=\"highlight\"><pre id=\"codecell8\"><span></span><span class=\"n\">a</span><span class=\"o\">+</span><span class=\"mi\">5</span>\n",
    "</pre></div>\n",
    "</div>\n",
    "</div>\n",
    "</div>\n",
    "`````\n",
    "`````{tab} Matlab\n",
    "````matlab\n",
    "a_plus_5 = a + 5;\n",
    "disp(a_plus_5);\n",
    "````\n",
    "`````"
   ]
  },
  {
   "cell_type": "code",
   "execution_count": 5,
   "metadata": {
    "tags": [
     "remove-input",
     "remove-output",
     "thebe-init"
    ]
   },
   "outputs": [
    {
     "data": {
      "text/plain": [
       "array([[ 6,  7,  8],\n",
       "       [ 9, 10, 11],\n",
       "       [12, 13, 14]])"
      ]
     },
     "execution_count": 5,
     "metadata": {},
     "output_type": "execute_result"
    }
   ],
   "source": [
    "a+5"
   ]
  },
  {
   "cell_type": "markdown",
   "metadata": {},
   "source": [
    "#### Multiply"
   ]
  },
  {
   "cell_type": "markdown",
   "metadata": {},
   "source": [
    "`````{tab} Python\n",
    "<div class=\"cell tag_thebe-init docutils container\">\n",
    "<div class=\"cell_input docutils container\">\n",
    "<div class=\"highlight-ipython3 notranslate\"><div class=\"highlight\"><pre id=\"codecell10\"><span></span><span class=\"n\">b</span><span class=\"o\">=</span><span class=\"n\">s</span><span class=\"o\">*</span><span class=\"n\">v</span><span class=\"o\">*</span><span class=\"mi\">2</span>\n",
    "<span class=\"nb\">print</span><span class=\"p\">(</span><span class=\"s1\">'b='</span><span class=\"p\">,</span><span class=\"n\">b</span><span class=\"p\">)</span>\n",
    "</pre></div>\n",
    "</div>\n",
    "</div>\n",
    "</div>\n",
    "`````\n",
    "`````{tab} Matlab\n",
    "````matlab\n",
    "b = s * v * 2;\n",
    "disp(['b = ', mat2str(b)]);\n",
    "````\n",
    "`````"
   ]
  },
  {
   "cell_type": "code",
   "execution_count": 6,
   "metadata": {
    "tags": [
     "remove-input",
     "remove-output",
     "thebe-init"
    ]
   },
   "outputs": [
    {
     "name": "stdout",
     "output_type": "stream",
     "text": [
      "b= [ 4 20 36]\n"
     ]
    }
   ],
   "source": [
    "b=s*v*2\n",
    "print('b=',b)"
   ]
  },
  {
   "cell_type": "markdown",
   "metadata": {},
   "source": [
    "#### Multiply element-wise"
   ]
  },
  {
   "cell_type": "markdown",
   "metadata": {},
   "source": [
    "`````{tab} Python\n",
    "<div class=\"cell tag_thebe-init docutils container\">\n",
    "<div class=\"cell_input docutils container\">\n",
    "<div class=\"highlight-ipython3 notranslate\"><div class=\"highlight\"><pre id=\"codecell12\"><span></span><span class=\"n\">np</span><span class=\"o\">.</span><span class=\"n\">multiply</span><span class=\"p\">(</span><span class=\"n\">v</span><span class=\"p\">,</span><span class=\"n\">b</span><span class=\"p\">)</span>\n",
    "</pre></div>\n",
    "</div>\n",
    "</div>\n",
    "</div>\n",
    "`````\n",
    "`````{tab} Matlab\n",
    "````matlab\n",
    "elementwise_product = v .* b;\n",
    "disp(elementwise_product);\n",
    "````\n",
    "`````"
   ]
  },
  {
   "cell_type": "code",
   "execution_count": 7,
   "metadata": {
    "tags": [
     "remove-input",
     "remove-output",
     "thebe-init"
    ]
   },
   "outputs": [
    {
     "data": {
      "text/plain": [
       "array([  4, 100, 324])"
      ]
     },
     "execution_count": 7,
     "metadata": {},
     "output_type": "execute_result"
    }
   ],
   "source": [
    "np.multiply(v,b)"
   ]
  },
  {
   "cell_type": "markdown",
   "metadata": {},
   "source": [
    "#### Check the length of a vector"
   ]
  },
  {
   "cell_type": "markdown",
   "metadata": {},
   "source": [
    "`````{tab} Python\n",
    "<div class=\"cell tag_thebe-init docutils container\">\n",
    "<div class=\"cell_input docutils container\">\n",
    "<div class=\"highlight-ipython3 notranslate\"><div class=\"highlight\"><pre id=\"codecell14\"><span></span><span class=\"nb\">len</span><span class=\"p\">(</span><span class=\"n\">v</span><span class=\"p\">)</span>\n",
    "</pre></div>\n",
    "</div>\n",
    "</div>\n",
    "</div>\n",
    "`````\n",
    "`````{tab} Matlab\n",
    "````matlab\n",
    "length_v = length(v);\n",
    "disp(length_v);\n",
    "````\n",
    "`````"
   ]
  },
  {
   "cell_type": "code",
   "execution_count": 8,
   "metadata": {
    "tags": [
     "remove-input",
     "remove-output",
     "thebe-init"
    ]
   },
   "outputs": [
    {
     "data": {
      "text/plain": [
       "3"
      ]
     },
     "execution_count": 8,
     "metadata": {},
     "output_type": "execute_result"
    }
   ],
   "source": [
    "len(v)"
   ]
  },
  {
   "cell_type": "markdown",
   "metadata": {},
   "source": [
    "#### Check the size of a matrix"
   ]
  },
  {
   "cell_type": "markdown",
   "metadata": {},
   "source": [
    "`````{tab} Python\n",
    "<div class=\"cell tag_thebe-init docutils container\">\n",
    "<div class=\"cell_input docutils container\">\n",
    "<div class=\"highlight-ipython3 notranslate\"><div class=\"highlight\"><pre id=\"codecell16\"><span></span><span class=\"n\">a</span><span class=\"o\">.</span><span class=\"n\">shape</span>   <span class=\"c1\"># για array: np.array(a.shape)</span>\n",
    "</pre></div>\n",
    "</div>\n",
    "</div>\n",
    "</div>\n",
    "`````\n",
    "`````{tab} Matlab\n",
    "````matlab\n",
    "shape_a = size(a);  % This will return a 2-element vector: [rows, columns]\n",
    "disp(shape_a);\n",
    "````\n",
    "`````"
   ]
  },
  {
   "cell_type": "code",
   "execution_count": 9,
   "metadata": {
    "tags": [
     "remove-input",
     "remove-output",
     "thebe-init"
    ]
   },
   "outputs": [
    {
     "data": {
      "text/plain": [
       "(3, 3)"
      ]
     },
     "execution_count": 9,
     "metadata": {},
     "output_type": "execute_result"
    }
   ],
   "source": [
    "a.shape   # για array: np.array(a.shape)"
   ]
  },
  {
   "cell_type": "markdown",
   "metadata": {},
   "source": [
    "#### Access specific elements of a matrix (Part 1)"
   ]
  },
  {
   "cell_type": "markdown",
   "metadata": {},
   "source": [
    "`````{tab} Python\n",
    "<div class=\"cell tag_thebe-init docutils container\">\n",
    "<div class=\"cell_input docutils container\">\n",
    "<div class=\"highlight-ipython3 notranslate\"><div class=\"highlight\"><pre id=\"codecell18\"><span></span><span class=\"n\">a</span><span class=\"p\">[</span><span class=\"mi\">0</span><span class=\"p\">,</span><span class=\"mi\">1</span><span class=\"p\">]</span>   <span class=\"c1\"># Η δεικτοδότηση αρχίζει από το 0</span>\n",
    "</pre></div>\n",
    "</div>\n",
    "</div>\n",
    "</div>\n",
    "`````\n",
    "`````{tab} Matlab\n",
    "````matlab\n",
    "element_0_1 = a(1,2);  % MATLAB indexing starts at 1\n",
    "disp(element_0_1);\n",
    "````\n",
    "`````"
   ]
  },
  {
   "cell_type": "code",
   "execution_count": 10,
   "metadata": {
    "tags": [
     "remove-input",
     "remove-output",
     "thebe-init"
    ]
   },
   "outputs": [
    {
     "data": {
      "text/plain": [
       "2"
      ]
     },
     "execution_count": 10,
     "metadata": {},
     "output_type": "execute_result"
    }
   ],
   "source": [
    "a[0,1] # Η δεικτοδότηση αρχίζει από το 0"
   ]
  },
  {
   "cell_type": "markdown",
   "metadata": {},
   "source": [
    "#### Access specific elements of a matrix (Part 2)"
   ]
  },
  {
   "cell_type": "markdown",
   "metadata": {},
   "source": [
    "`````{tab} Python\n",
    "<div class=\"cell tag_thebe-init docutils container\">\n",
    "<div class=\"cell_input docutils container\">\n",
    "<div class=\"highlight-ipython3 notranslate\"><div class=\"highlight\"><pre id=\"codecell20\"><span></span><span class=\"n\">a</span><span class=\"p\">[</span><span class=\"mi\">1</span><span class=\"p\">,</span><span class=\"o\">-</span><span class=\"mi\">1</span><span class=\"p\">]</span>   <span class=\"c1\"># Αρνητικές τιμές μετρούν από το τέλος, π.χ. το -1 αναφέρεται στο τελευταίο στοιχείο</span>\n",
    "</pre></div>\n",
    "</div>\n",
    "</div>\n",
    "</div>\n",
    "`````\n",
    "`````{tab} Matlab\n",
    "````matlab\n",
    "element_1_end = a(2,end);  % 'end' keyword is used for the last element in MATLAB\n",
    "disp(element_1_end);\n",
    "````\n",
    "`````"
   ]
  },
  {
   "cell_type": "code",
   "execution_count": 11,
   "metadata": {
    "tags": [
     "remove-input",
     "remove-output",
     "thebe-init"
    ]
   },
   "outputs": [
    {
     "data": {
      "text/plain": [
       "6"
      ]
     },
     "execution_count": 11,
     "metadata": {},
     "output_type": "execute_result"
    }
   ],
   "source": [
    "a[1,-1] # Αρνητικές τιμές μετρούν από το τέλος, π.χ. το -1 αναφέρεται στο τελευταίο στοιχείο"
   ]
  },
  {
   "cell_type": "markdown",
   "metadata": {},
   "source": [
    "#### Access a specific segment of a vector"
   ]
  },
  {
   "cell_type": "markdown",
   "metadata": {},
   "source": [
    "`````{tab} Python\n",
    "<div class=\"cell tag_thebe-init docutils container\">\n",
    "<div class=\"cell_input docutils container\">\n",
    "<div class=\"highlight-ipython3 notranslate\"><div class=\"highlight\"><pre id=\"codecell22\"><span></span><span class=\"n\">v1</span> <span class=\"o\">=</span> <span class=\"n\">v</span><span class=\"p\">[</span><span class=\"mi\">1</span><span class=\"p\">:</span><span class=\"mi\">3</span><span class=\"p\">]</span>\n",
    "<span class=\"n\">v2</span> <span class=\"o\">=</span> <span class=\"n\">v</span><span class=\"p\">[</span><span class=\"mi\">1</span><span class=\"p\">:</span><span class=\"mi\">2</span><span class=\"p\">]</span>\n",
    "<span class=\"nb\">print</span><span class=\"p\">(</span><span class=\"s1\">'v1 ='</span><span class=\"p\">,</span><span class=\"n\">v1</span><span class=\"p\">)</span>\n",
    "<span class=\"nb\">print</span><span class=\"p\">(</span><span class=\"s1\">'v2 ='</span><span class=\"p\">,</span><span class=\"n\">v2</span><span class=\"p\">)</span>   <span class=\"c1\"># ΠΡΟΣΟΧΗ: τα στοιχεία [2ο,3ο] δίνονται ως 1:3 και όχι ως 1:2</span>\n",
    "</pre></div>\n",
    "</div>\n",
    "</div>\n",
    "</div>\n",
    "`````\n",
    "`````{tab} Matlab\n",
    "````matlab\n",
    "v1 = v(2:3);\n",
    "v2 = v(2);\n",
    "disp(['v1 = ', mat2str(v1)]);\n",
    "disp(['v2 = ', mat2str(v2)]);\n",
    "````\n",
    "`````"
   ]
  },
  {
   "cell_type": "code",
   "execution_count": 12,
   "metadata": {
    "tags": [
     "remove-input",
     "remove-output",
     "thebe-init"
    ]
   },
   "outputs": [
    {
     "name": "stdout",
     "output_type": "stream",
     "text": [
      "v1 = [5 9]\n",
      "v2 = [5]\n"
     ]
    }
   ],
   "source": [
    "v1 = v[1:3]\n",
    "v2 = v[1:2]\n",
    "print('v1 =',v1)\n",
    "print('v2 =',v2)\n",
    "# ΠΡΟΣΟΧΗ: τα στοιχεία [2ο,3ο] δίνονται ως 1:3 και όχι ως 1:2"
   ]
  },
  {
   "cell_type": "markdown",
   "metadata": {},
   "source": [
    "#### Access specific segments of a matrix"
   ]
  },
  {
   "cell_type": "markdown",
   "metadata": {},
   "source": [
    "`````{tab} Python\n",
    "<div class=\"cell tag_thebe-init docutils container\">\n",
    "<div class=\"cell_input docutils container\">\n",
    "<div class=\"highlight-ipython3 notranslate\"><div class=\"highlight\"><pre id=\"codecell24\"><span></span><span class=\"n\">a</span><span class=\"p\">[</span><span class=\"mi\">0</span><span class=\"p\">:</span><span class=\"mi\">2</span><span class=\"p\">,:]</span>   <span class=\"c1\"># Ομοίως: οι γραμμές 1 & 2 δίνονται ως 0:2 και όχι ως 0:1</span>\n",
    "</pre></div>\n",
    "</div>\n",
    "</div>\n",
    "</div>\n",
    "`````\n",
    "`````{tab} Matlab\n",
    "````matlab\n",
    "a_slice = a(1:2,:);\n",
    "disp(a_slice);\n",
    "````\n",
    "`````"
   ]
  },
  {
   "cell_type": "code",
   "execution_count": 13,
   "metadata": {
    "tags": [
     "remove-input",
     "remove-output",
     "thebe-init"
    ]
   },
   "outputs": [
    {
     "data": {
      "text/plain": [
       "array([[1, 2, 3],\n",
       "       [4, 5, 6]])"
      ]
     },
     "execution_count": 13,
     "metadata": {},
     "output_type": "execute_result"
    }
   ],
   "source": [
    "a[0:2,:] # Ομοίως: οι γραμμές 1 & 2 δίνονται ως 0:2 και όχι ως 0:1"
   ]
  },
  {
   "cell_type": "markdown",
   "metadata": {},
   "source": [
    "#### Create a vector with elements from 0 to 0.5 with a step of 0.1"
   ]
  },
  {
   "cell_type": "markdown",
   "metadata": {},
   "source": [
    "`````{tab} Python\n",
    "<div class=\"cell tag_thebe-init docutils container\">\n",
    "<div class=\"cell_input docutils container\">\n",
    "<div class=\"highlight-ipython3 notranslate\"><div class=\"highlight\"><pre id=\"codecell26\"><span></span><span class=\"n\">t</span><span class=\"o\">=</span><span class=\"n\">np</span><span class=\"o\">.</span><span class=\"n\">arange</span><span class=\"p\">(</span><span class=\"mi\">0</span><span class=\"p\">,</span><span class=\"mf\">0.5</span><span class=\"p\">,</span><span class=\"mf\">0.1</span><span class=\"p\">)</span>\n",
    "<span class=\"nb\">print</span><span class=\"p\">(</span><span class=\"s1\">'t='</span><span class=\"p\">,</span><span class=\"n\">t</span><span class=\"p\">)</span>\n",
    "</pre></div>\n",
    "</div>\n",
    "</div>\n",
    "</div>\n",
    "`````\n",
    "`````{tab} Matlab\n",
    "````matlab\n",
    "t = 0:0.1:0.5;  % The endpoint is inclusive in MATLAB, so you might want to adjust it if you want the exact same output as NumPy\n",
    "t(end) = [];  % Remove the last element to match Python's exclusive endpoint\n",
    "disp(['t = ', mat2str(t)]);\n",
    "````\n",
    "`````"
   ]
  },
  {
   "cell_type": "code",
   "execution_count": 14,
   "metadata": {
    "tags": [
     "remove-input",
     "remove-output",
     "thebe-init"
    ]
   },
   "outputs": [
    {
     "name": "stdout",
     "output_type": "stream",
     "text": [
      "t= [0.  0.1 0.2 0.3 0.4]\n"
     ]
    }
   ],
   "source": [
    "t=np.arange(0,0.5,0.1)\n",
    "print('t=',t)"
   ]
  },
  {
   "cell_type": "markdown",
   "metadata": {},
   "source": [
    "## Part 2: Theory\n",
    "### Sampling - Digitization\n",
    "Primary signals are mainly analog (continuous time). To represent and process them on our computer (or another digital machine), we must first digitize them. Consider a continuous-time signal $x(t)$ with Fourier transform (Continuous Time Fourier Transform – CTFT):\n",
    "  \n",
    "$$\n",
    " \n",
    "X(f)=\\int_{-\\infty}^{\\infty} x(t)e^{-j2\\pi ft} dt\n",
    " \n",
    "$$"
   ]
  },
  {
   "cell_type": "markdown",
   "metadata": {},
   "source": [
    "![lab1_1.png](../content/images/lab1_1.png)"
   ]
  },
  {
   "cell_type": "markdown",
   "metadata": {},
   "source": [
    "\n",
    "By sampling $x(t)$ at a rate $f_s=1/T_s$, a discrete-time signal $x(nT_s)$ is produced. Mathematically, it is represented as a series of delta functions\n",
    "\n",
    "$$\n",
    " \n",
    "x_\\delta (t)=\\sum_{n=-\\infty}^{\\infty}x(nT_s)\\delta(t-nT_s)=x(t)\\sum_{n=-\\infty}^{\\infty}\\delta(t-nT_s)\n",
    " \n",
    "$$\n",
    "\n",
    "with Fourier transform\n",
    "\n",
    "$$\n",
    " \n",
    "X_\\delta (f)=\\sum_{n=-\\infty}^{\\infty}x(nT_s)e^{-j2\\pi fnT_s}=X(f)*1/T_s\\sum_{n=-\\infty}^{\\infty}\\delta(f-k/T_s)=1/T_s\\sum_{n=-\\infty}^{\\infty}X(f-k/T_s)\n",
    " \n",
    "$$\n",
    "\n",
    "which is a periodic function."
   ]
  },
  {
   "cell_type": "markdown",
   "metadata": {},
   "source": [
    "![lab1_2.png](../content/images/lab1_2.png)"
   ]
  },
  {
   "cell_type": "markdown",
   "metadata": {},
   "source": [
    "For band-limited signals $x(t)$ with bandwidth W, assuming that the sampling rate $fs ≥ 2W$, it holds that $X(f) = T_s X_\\delta(f)$, $0 ≤ f ≤ W$, meaning, the signal $X(f)$ results from passing the sampled $x_\\delta(t)$ through an ideal low-pass filter with gain $T_s$. From the previous schema, it becomes evident that if the sampling is done with a frequency less than twice the highest frequency $W$ of the signal (undersampling), then \"images\" of the spectrum from higher frequencies appear in the signal's frequency domain, preventing the accurate restoration of the original continuous-time signal. This phenomenon is called aliasing, and the error during the restoration of the original signal is referred to as aliasing error.\n",
    "Sampling in the time domain is the basis for defining the Discrete Time Fourier Transform (DTFT). For a series of discrete numbers $x[n]$, the discrete-time Fourier transform is defined as:"
   ]
  },
  {
   "cell_type": "markdown",
   "metadata": {},
   "source": [
    "$$ \n",
    " \n",
    "X_d(\\phi) \\triangleq \\sum_{n=-\\infty}^{\\infty} x[n] \\exp (-j 2 \\pi n \\phi)\n",
    " \n",
    "$$"
   ]
  },
  {
   "cell_type": "markdown",
   "metadata": {},
   "source": [
    "The DTFT is a periodic function with a period of $1$, therefore, it is sufficient to compute it in the frequency interval $[0,1]$ or equivalently $[-½,½]$. Note that the DTFT, although it arises from a series of discrete numbers $x[n]$, is a continuous function of the variable $\\phi$ as illustrated in the next schema."
   ]
  },
  {
   "cell_type": "markdown",
   "metadata": {},
   "source": [
    "![lab1_3.png](../content/images/lab1_3.png)"
   ]
  },
  {
   "cell_type": "markdown",
   "metadata": {},
   "source": [
    "With the series of discrete numbers arising as a result of sampling, $x[n]=x(nT_s)$, the DTFT and the Fourier transform $X_\\delta(f)$ of the sampled signal are connected through the correspondence $\\phi ↔ f/f_s$. The common practice is to represent the ratio $f/f_s$ as normalized frequency $\\phi$ ($f_D$, in your notes) and the real frequencies to arise as multiples of it (usually fractional). To link the DTFT with the Fourier transform $X(f)$ of the signal, an additional conversion to the sampling period by multiplying by $T_s$ (or dividing by $f_s$) is required.\n",
    "Analogous to sampling signals in time, we can sample in the frequency domain by taking discrete values $X(kf_o)$ of the Fourier transform corresponding to a frequency analysis $f_o=1/T_o$. This is equivalent to the periodic repetition of the continuous-time signal $x(t)$ every $Τ_ο$, since the periodic signal"
   ]
  },
  {
   "cell_type": "markdown",
   "metadata": {},
   "source": [
    "$$\n",
    " \n",
    "x_p(t)=\\sum_{n=-\\infty}^{\\infty} x\\left(t-n T_{o}\\right)\n",
    " \n",
    "$$"
   ]
  },
  {
   "cell_type": "markdown",
   "metadata": {},
   "source": [
    "has Fourier transform"
   ]
  },
  {
   "cell_type": "markdown",
   "metadata": {},
   "source": [
    "$$\n",
    " \n",
    "X(f) \\sum_{n=-\\infty}^{\\infty} \\exp \\left(-j 2 \\pi f n T_{o}\\right)=X(f) \\frac{1}{T_{o}} \\sum_{k=-\\infty}^{\\infty} \\delta\\left(f-k / T_{o}\\right)=\\frac{1}{T_{o}} \\sum_{k=-\\infty}^{\\infty} X\\left(k / T_{o}\\right) \\delta\\left(f-k / T_{o}\\right)\n",
    " \n",
    "$$"
   ]
  },
  {
   "cell_type": "markdown",
   "metadata": {},
   "source": [
    "Therefore, $X[k] = X(kf_o)/Τ_o$ are the coefficients of the Fourier series expansion of the periodic signal $x_p(t)$. Obviously, for signals $x(t)$ of finite duration, where $x(t)=0$ for $|t| ≥ T$, assuming that the period $T_o ≥ 2T$, it holds that $x(t) = x_p(t)$ for $|t| ≤ T$.\n",
    "In practice, signals have a very long duration to be analyzed in their entirety. Thus, we apply a rectangular time window to retain only their most significant part for the observation period and $x(t)= 0$ elsewhere. In computing the DTFT $X_d(\\phi)$ of such a truncated signal, instead of an infinite sum, we are limited to a finite-length $L$ series of numbers $x[n]$, therefore"
   ]
  },
  {
   "cell_type": "markdown",
   "metadata": {},
   "source": [
    "$$ \n",
    " \n",
    "X_d(\\phi)=\\sum_{n=0}^{L-1} x[n] \\exp (-j 2 \\pi n \\phi)\n",
    " \n",
    "$$"
   ]
  },
  {
   "cell_type": "markdown",
   "metadata": {},
   "source": [
    "The sampling of $X_d(\\phi)$ in the frequency domain at $N$ equidistant normalized frequencies $0$, $1/N$, $2/N$, $…$, $(N-1)/N$, gives"
   ]
  },
  {
   "cell_type": "markdown",
   "metadata": {},
   "source": [
    "$$ \n",
    " \n",
    "X[k]=X_{d}\\left(\\frac{k}{N}\\right)=\\sum_{n=0}^{N-1} x[n] \\exp \\left(-j 2 \\pi n \\frac{k}{N}\\right), \\quad 0 \\leq k \\leq N-1\n",
    " \n",
    "$$"
   ]
  },
  {
   "cell_type": "markdown",
   "metadata": {},
   "source": [
    "where, if $N≥L$, we set $x[n]=0$ for $n≥L$. The last relationship is recognized as the Discrete Fourier Transform (DFT), which for a finite series $xn$, $n=0$, $1$, $…$, $N-1$, is defined as:"
   ]
  },
  {
   "cell_type": "markdown",
   "metadata": {},
   "source": [
    "$$ \n",
    " \n",
    "X_{k} \\triangleq \\sum_{n=0}^{N-1} x_{n} \\exp \\left(-j 2 \\pi n \\frac{k}{N}\\right), \\quad 0 \\leq k \\leq N-1\n",
    " \n",
    "$$"
   ]
  },
  {
   "cell_type": "markdown",
   "metadata": {},
   "source": [
    "and its inverse is"
   ]
  },
  {
   "cell_type": "markdown",
   "metadata": {},
   "source": [
    "$$ \n",
    " \n",
    "x_{n}=\\frac{1}{N} \\sum_{k=0}^{N-1} X_{k} \\exp \\left(j 2 \\pi n \\frac{k}{N}\\right), \\quad 0 \\leq n \\leq N-1\n",
    " \n",
    "$$"
   ]
  },
  {
   "cell_type": "markdown",
   "metadata": {},
   "source": [
    "The $X_d(\\phi)$ as DTFT is a periodic function and if the original series xn was periodic (and we didn't apply the window), then $X_d(\\phi)$ would be zero everywhere except at the sampling points $k/N$. That is, if we consider a finite-length series of numbers that repeats periodically, the discrete-time Fourier transform of it (DTFT) is also periodic and discrete. Moreover, the DFT and its inverse IDFT, if we did not limit the indices $n$ and $k$ between $0$ and $N-1$, would be periodic functions. Therefore, the finite series xn can be considered as a periodic discrete-time signal observed only during a period and the DFT, the series $X_k$, as the samples with resolution $1/N$ of the DTFT $X_d(\\phi)$ in the domain of normalized frequencies $[0,1]$, as shown in the next schema."
   ]
  },
  {
   "cell_type": "markdown",
   "metadata": {},
   "source": [
    "![lab1_4.png](../content/images/lab1_4.png)"
   ]
  },
  {
   "cell_type": "markdown",
   "metadata": {},
   "source": [
    "### Spectral Analysis\n",
    "To calculate the energy or power of the waveform $x(t)$, depending on the case of the signal, it holds"
   ]
  },
  {
   "cell_type": "markdown",
   "metadata": {},
   "source": [
    "$$\n",
    " \n",
    "E_{X}=\\int_{-\\infty}^{\\infty} x^{2}(t) d t=\\int_{-\\infty}^{\\infty}|X(f)|^{2} d f\n",
    " \n",
    "$$"
   ]
  },
  {
   "cell_type": "markdown",
   "metadata": {},
   "source": [
    "$$ \n",
    " \n",
    "P_{X}=\\lim _{T \\rightarrow \\infty} \\frac{1}{T} \\int_{-T / 2}^{T / 2} x^{2}(t) d t=\\int_{-\\infty}^{\\infty} S_{X}(f) d f\n",
    " \n",
    "$$"
   ]
  },
  {
   "cell_type": "markdown",
   "metadata": {},
   "source": [
    "where for power signals $S_Χ(f)$ is the power spectral density (PSD) of $x(t)$. For discrete-time signals resulting from sampling of $x(t)$ with period $T_s$, the corresponding relations for calculating the energy or power become"
   ]
  },
  {
   "cell_type": "markdown",
   "metadata": {},
   "source": [
    "$$ \n",
    " \n",
    "E_{X}=T_{s} \\sum_{n=-\\infty}^{\\infty} x^{2}[n]\n",
    " \n",
    "$$"
   ]
  },
  {
   "cell_type": "markdown",
   "metadata": {},
   "source": [
    "$$ \n",
    " \n",
    "P_{X}=\\lim _{N \\rightarrow \\infty} \\frac{1}{2 N+1} \\sum_{n=-N}^{N} x^{2}[n]\n",
    " \n",
    "$$"
   ]
  },
  {
   "cell_type": "markdown",
   "metadata": {},
   "source": [
    "A simple way to estimate the power spectral density of the waveform $x(t)$ is to take the DTFT of the signal's samples and then square the magnitude of the result. This estimator is called a periodogram. The periodogram of a finite-length $L$ signal $x[n]$ is defined as"
   ]
  },
  {
   "cell_type": "markdown",
   "metadata": {},
   "source": [
    "$$ \n",
    " \n",
    "P_{x x}(f) \\triangleq \\frac{\\left|X_{d}\\left(f / f_{s}\\right)\\right|^{2}}{f_{s} L}\n",
    " \n",
    "$$"
   ]
  },
  {
   "cell_type": "markdown",
   "metadata": {},
   "source": [
    "where $X_d(\\phi)$ the DTFT of the signal. As the length $L$ tends to infinity, the periodogram $P_{xx}(f)$ approaches the power spectral density $S_Χ(f)$. The calculation of the periodogram at a finite number of frequencies $kf_s/N$, $k=0$, $1$, $…$, $N$ gives"
   ]
  },
  {
   "cell_type": "markdown",
   "metadata": {},
   "source": [
    "$$ \n",
    " \n",
    "P_{x x}[k]=\\frac{\\left|X_{k}\\right|^{2}}{f_{s} L}, \\quad k=0,1, \\ldots, N-1\n",
    " \n",
    "$$"
   ]
  },
  {
   "cell_type": "markdown",
   "metadata": {},
   "source": [
    "where $X_k$ is the DFT of the finite-length $L$ series of signal samples. The power of the signal is then"
   ]
  },
  {
   "cell_type": "markdown",
   "metadata": {},
   "source": [
    "$$ \n",
    " \n",
    "P_{X}=\\frac{1}{f_{s} L} \\sum_{k=0}^{N-1}\\left|X_{k}\\right|^{2} f_{o}=\\frac{1}{N L} \\sum_{k=0}^{N-1}\\left|X_{k}\\right|^{2}=\\frac{1}{L} \\sum_{n=0}^{L-1}\\left|x_{n}\\right|^{2}\n",
    " \n",
    "$$"
   ]
  },
  {
   "cell_type": "markdown",
   "metadata": {},
   "source": [
    "where the last equality results from the Parseval's theorem, which for the DFT case is expressed as:"
   ]
  },
  {
   "cell_type": "markdown",
   "metadata": {},
   "source": [
    "$$ \n",
    " \n",
    "\\sum_{n=0}^{N-1}\\left|x_{n}\\right|^{2}=\\frac{1}{N} \\sum_{k=0}^{N-1}\\left|X_{k}\\right|^{2}\n",
    " \n",
    "$$"
   ]
  },
  {
   "cell_type": "markdown",
   "metadata": {},
   "source": [
    "In the special case of periodic signals we have"
   ]
  },
  {
   "cell_type": "markdown",
   "metadata": {},
   "source": [
    "$$ \n",
    " \n",
    "S_x(f) = \\sum_{k=-\\infty}^{\\infty} |X[k]|^2 \\delta(f - k/T_0)\n",
    " \n",
    "$$"
   ]
  },
  {
   "cell_type": "markdown",
   "metadata": {},
   "source": [
    "$$ \n",
    " \n",
    "P_x = \\sum_{k=-\\infty}^{\\infty} |X[k]|^2\n",
    " \n",
    "$$"
   ]
  },
  {
   "cell_type": "markdown",
   "metadata": {},
   "source": [
    "where $X[k]$ are the coefficients of the Fourier series expansion and $T_o$ the period of the signal."
   ]
  },
  {
   "cell_type": "markdown",
   "metadata": {},
   "source": [
    "### Application in Practice"
   ]
  },
  {
   "cell_type": "markdown",
   "metadata": {},
   "source": [
    "#### Create a sine wave signal"
   ]
  },
  {
   "cell_type": "markdown",
   "metadata": {},
   "source": [
    "``````{dropdown} Code\n",
    "\n",
    "`````{tab} Python\n",
    "````python\n",
    "import numpy as np\n",
    "import matplotlib.pyplot as plt\n",
    "\n",
    "# ==============================================================================\n",
    "# 2.1 Create a Sinusoidal Signal\n",
    "# ==============================================================================\n",
    "Fs = 2000                  # Sampling frequency in Hz\n",
    "Ts = 1 / Fs                # Sampling period in seconds\n",
    "T = 0.1                    # Signal duration in seconds\n",
    "t = np.arange(0, T, Ts)    # Time vector for signal\n",
    "A = 1                      # Signal amplitude\n",
    "x = A * np.sin(2 * np.pi * 100 * t)  # Generate sinusoidal signal\n",
    "L = len(x)                 # Length of the signal\n",
    "\n",
    "# Plot the sinusoidal signal in time domain\n",
    "plt.figure()\n",
    "plt.plot(t, x)\n",
    "plt.title('Sinusoidal Signal')\n",
    "plt.xlabel('Time (s)')\n",
    "plt.ylabel('Amplitude')\n",
    "plt.show(block=False)\n",
    "plt.pause(1)  # Pause to view the plot, press any key in the console to continue\n",
    "\n",
    "\n",
    "\n",
    "````\n",
    "`````\n",
    "`````{tab} Matlab\n",
    "````matlab\n",
    "% ==============================================================================\n",
    "% 2.1 Create a Sinusoidal Signal\n",
    "% ==============================================================================\n",
    "Fs = 2000;                 % Sampling frequency in Hz\n",
    "Ts = 1 / Fs;               % Sampling period in seconds\n",
    "T = 0.1;                   % Signal duration in seconds\n",
    "t = 0:Ts:T-Ts;             % Time vector for signal\n",
    "A = 1;                     % Signal amplitude\n",
    "x = A * sin(2 * pi * 100 * t); % Generate sinusoidal signal\n",
    "L = length(x);             % Length of the signal\n",
    "plot(t, x);                % Plot the sinusoidal signal in time domain\n",
    "title('Sinusoidal Signal');% Title for the plot\n",
    "xlabel('Time (s)');        % X-axis label\n",
    "ylabel('Amplitude');       % Y-axis label\n",
    "pause;                     % Pause to view the plot, press any key to continue\n",
    "````\n",
    "`````\n",
    "\n"
   ]
  },
  {
   "cell_type": "code",
   "execution_count": 15,
   "metadata": {
    "tags": [
     "remove-input"
    ]
   },
   "outputs": [
    {
     "data": {
      "image/png": "[encoded data removed]",
      "text/plain": [
       "<Figure size 640x480 with 1 Axes>"
      ]
     },
     "metadata": {},
     "output_type": "display_data"
    }
   ],
   "source": [
    "import numpy as np\n",
    "import matplotlib.pyplot as plt\n",
    "\n",
    "# ==============================================================================\n",
    "# 2.1 Create a Sinusoidal Signal\n",
    "# ==============================================================================\n",
    "Fs = 2000                  # Sampling frequency in Hz\n",
    "Ts = 1 / Fs                # Sampling period in seconds\n",
    "T = 0.1                    # Signal duration in seconds\n",
    "t = np.arange(0, T, Ts)    # Time vector for signal\n",
    "A = 1                      # Signal amplitude\n",
    "x = A * np.sin(2 * np.pi * 100 * t)  # Generate sinusoidal signal\n",
    "L = len(x)                 # Length of the signal\n",
    "\n",
    "# Plot the sinusoidal signal in time domain\n",
    "plt.figure()\n",
    "plt.plot(t, x)\n",
    "plt.title('Sinusoidal Signal')\n",
    "plt.xlabel('Time (s)')\n",
    "plt.ylabel('Amplitude')\n",
    "plt.show(block=False)"
   ]
  },
  {
   "cell_type": "markdown",
   "metadata": {},
   "source": [
    "#### Plot the discrete Fourier transform of the sine wave signal"
   ]
  },
  {
   "cell_type": "markdown",
   "metadata": {},
   "source": [
    "``````{dropdown} Code\n",
    "\n",
    "`````{tab} Python\n",
    "````python\n",
    "# ==============================================================================\n",
    "# 2.2 Plot Fourier Transform (FT) of the Signal\n",
    "# ==============================================================================\n",
    "N = 1 * L                  # Length of Fourier Transform\n",
    "Fo = Fs / N                # Frequency resolution\n",
    "Fx = np.fft.fft(x, N)      # Discrete Fourier Transform (DFT) of the signal\n",
    "freq = np.arange(0, N) * Fo  # Frequency vector\n",
    "\n",
    "# Plot the magnitude of the DFT\n",
    "plt.figure()\n",
    "plt.plot(freq, np.abs(Fx))\n",
    "plt.title('FFT of the Signal')\n",
    "plt.xlabel('Frequency (Hz)')\n",
    "plt.ylabel('Magnitude')\n",
    "plt.show(block=False)\n",
    "plt.pause(1)  # Pause to view the plot, press any key in the console to continue\n",
    "plt.axis([0, 100, 0, L/2])\n",
    "plt.pause(1)\n",
    "\n",
    "\n",
    "````\n",
    "`````\n",
    "`````{tab} Matlab\n",
    "````matlab\n",
    "\n",
    "\n",
    "% ==============================================================================\n",
    "% 2.2 Plot Fourier Transform (FT) of the Signal\n",
    "% ==============================================================================\n",
    "N = 1 * L;                 % Length of Fourier Transform\n",
    "Fo = Fs / N;               % Frequency resolution\n",
    "Fx = fft(x, N);            % Discrete Fourier Transform (DFT) of the signal\n",
    "freq = (0:N-1) * Fo;       % Frequency vector\n",
    "plot(freq, abs(Fx));       % Plot the magnitude of the DFT\n",
    "title('FFT of the Signal');% Title for the plot\n",
    "xlabel('Frequency (Hz)');  % X-axis label\n",
    "ylabel('Magnitude');       % Y-axis label\n",
    "pause;                     % Pause to view the plot, press any key to continue\n",
    "axis([0 100 0 L/2]);       % Set axis limits\n",
    "pause;                     % Pause, press any key to continue\n",
    "\n",
    "````\n",
    "`````\n",
    "\n"
   ]
  },
  {
   "cell_type": "code",
   "execution_count": 16,
   "metadata": {
    "tags": [
     "remove-input"
    ]
   },
   "outputs": [
    {
     "data": {
      "image/png": "[encoded data removed]",
      "text/plain": [
       "<Figure size 640x480 with 1 Axes>"
      ]
     },
     "metadata": {},
     "output_type": "display_data"
    }
   ],
   "source": [
    "# ==============================================================================\n",
    "# 2.2 Plot Fourier Transform (FT) of the Signal\n",
    "# ==============================================================================\n",
    "N = 1 * L                  # Length of Fourier Transform\n",
    "Fo = Fs / N                # Frequency resolution\n",
    "Fx = np.fft.fft(x, N)      # Discrete Fourier Transform (DFT) of the signal\n",
    "freq = np.arange(0, N) * Fo  # Frequency vector\n",
    "\n",
    "# Plot the magnitude of the DFT\n",
    "plt.figure()\n",
    "plt.plot(freq, np.abs(Fx))\n",
    "plt.title('FFT of the Signal')\n",
    "plt.xlabel('Frequency (Hz)')\n",
    "plt.ylabel('Magnitude')\n",
    "plt.show(block=False)\n"
   ]
  },
  {
   "cell_type": "markdown",
   "metadata": {},
   "source": [
    "#### Plot the periodogram"
   ]
  },
  {
   "cell_type": "markdown",
   "metadata": {},
   "source": [
    "``````{dropdown} Code\n",
    "\n",
    "`````{tab} Python\n",
    "````python\n",
    "# ==============================================================================\n",
    "# 2.3 Plot Signal Periodogram\n",
    "# ==============================================================================\n",
    "power = (Fx * np.conj(Fx)) / (Fs * L)  # Calculate spectral density\n",
    "\n",
    "plt.figure()\n",
    "plt.plot(freq, power)\n",
    "plt.title('Periodogram')\n",
    "plt.xlabel('Frequency (Hz)')\n",
    "plt.ylabel('Power')\n",
    "plt.show(block=False)\n",
    "plt.pause(1)\n",
    "\n",
    "\n",
    "\n",
    "````\n",
    "`````\n",
    "`````{tab} Matlab\n",
    "````matlab\n",
    "\n",
    "\n",
    "% ==============================================================================\n",
    "% 2.3 Plot Signal Periodogram\n",
    "% ==============================================================================\n",
    "power = Fx .* conj(Fx) / Fs / L; % Calculate spectral density\n",
    "plot(freq, power);         % Plot the periodogram\n",
    "title('{\\bf Periodogram}');% Title for the plot with bold characters\n",
    "xlabel('Frequency (Hz)');  % X-axis label\n",
    "ylabel('Power');           % Y-axis label\n",
    "\n",
    "````\n",
    "`````\n",
    "\n"
   ]
  },
  {
   "cell_type": "code",
   "execution_count": 17,
   "metadata": {
    "tags": [
     "remove-input"
    ]
   },
   "outputs": [
    {
     "data": {
      "image/png": "[encoded data removed]",
      "text/plain": [
       "<Figure size 640x480 with 1 Axes>"
      ]
     },
     "metadata": {},
     "output_type": "display_data"
    }
   ],
   "source": [
    "# ==============================================================================\n",
    "# 2.3 Plot Signal Periodogram\n",
    "# ==============================================================================\n",
    "power = ((Fx * np.conj(Fx)) / (Fs * L)).real  # Calculate spectral density\n",
    "\n",
    "plt.figure()\n",
    "plt.plot(freq, power)\n",
    "plt.title('Periodogram')\n",
    "plt.xlabel('Frequency (Hz)')\n",
    "plt.ylabel('Power')\n",
    "plt.show(block=False)"
   ]
  },
  {
   "cell_type": "markdown",
   "metadata": {},
   "source": [
    "#### Calculate the power of the sine wave signal"
   ]
  },
  {
   "cell_type": "markdown",
   "metadata": {},
   "source": [
    "``````{dropdown} Code\n",
    "\n",
    "`````{tab} Python\n",
    "````python\n",
    "# ==============================================================================\n",
    "# 2.4 Calculate Signal Power\n",
    "# ==============================================================================\n",
    "power_theory = A**2 / 2                # Theoretical power based on signal amplitude\n",
    "dB = 10 * np.log10(power_theory)       # Convert power to decibels (dB)\n",
    "power_time_domain = np.sum(np.abs(x)**2) / L  # Calculate power in time domain\n",
    "power_frequency_domain = np.sum(power) * Fo  # Calculate power in frequency domain\n",
    "\n",
    "# Display calculated power values\n",
    "print(f'Power (Theory): {power_theory}')\n",
    "print(f'Power (dB): {dB}')\n",
    "print(f'Power (Time Domain): {power_time_domain}')\n",
    "print(f'Power (Frequency Domain): {power_frequency_domain}')\n",
    "\n",
    "````\n",
    "`````\n",
    "`````{tab} Matlab\n",
    "````matlab\n",
    "\n",
    "% ==============================================================================\n",
    "% 2.4 Calculate Signal Power\n",
    "% ==============================================================================\n",
    "power_theory = A^2 / 2;            % Theoretical power based on signal amplitude\n",
    "dB = 10 * log10(power_theory);     % Convert power to decibels (dB)\n",
    "power_time_domain = sum(abs(x).^2) / L; % Calculate power in time domain\n",
    "power_frequency_domain = sum(power) * Fo; % Calculate power in frequency domain\n",
    "\n",
    "% Display calculated power values\n",
    "disp(['Power (Theory): ', num2str(power_theory)]);\n",
    "disp(['Power (dB): ', num2str(dB)]);\n",
    "disp(['Power (Time Domain): ', num2str(power_time_domain)]);\n",
    "disp(['Power (Frequency Domain): ', num2str(power_frequency_domain)]);\n",
    "````\n",
    "`````\n",
    "``````"
   ]
  },
  {
   "cell_type": "markdown",
   "metadata": {},
   "source": [
    "- Power (Theory): 0.5\n",
    "- Power (dB): -3.010299956639812\n",
    "- Power (Time Domain): 0.5000000000000001\n",
    "- Power (Frequency Domain): 0.5000000000000001"
   ]
  },
  {
   "cell_type": "code",
   "execution_count": 18,
   "metadata": {
    "tags": [
     "remove-input",
     "remove-output"
    ]
   },
   "outputs": [
    {
     "name": "stdout",
     "output_type": "stream",
     "text": [
      "Power (Theory): 0.5\n",
      "Power (dB): -3.010299956639812\n",
      "Power (Time Domain): 0.5000000000000001\n",
      "Power (Frequency Domain): 0.5000000000000001\n"
     ]
    }
   ],
   "source": [
    "# ==============================================================================\n",
    "# 2.4 Calculate Signal Power\n",
    "# ==============================================================================\n",
    "power_theory = A**2 / 2                # Theoretical power based on signal amplitude\n",
    "dB = 10 * np.log10(power_theory)       # Convert power to decibels (dB)\n",
    "power_time_domain = np.sum(np.abs(x)**2) / L  # Calculate power in time domain\n",
    "power_frequency_domain = np.sum(power * Fo).real  # Calculate power in frequency domain\n",
    "\n",
    "# Display calculated power values\n",
    "print(f'Power (Theory): {power_theory}')\n",
    "print(f'Power (dB): {dB}')\n",
    "print(f'Power (Time Domain): {power_time_domain}')\n",
    "print(f'Power (Frequency Domain): {power_frequency_domain}')"
   ]
  },
  {
   "cell_type": "markdown",
   "metadata": {},
   "source": [
    "## Part 3: Application A"
   ]
  },
  {
   "cell_type": "markdown",
   "metadata": {},
   "source": [
    "### Step 1: Signal creation and display\n",
    "Next, you will apply what you have learned in a more complex example of signal generation that includes modulation and noise addition. For convenience, incomplete PYTHON/MATLAB code with comments is provided, which you need to complete and save."
   ]
  },
  {
   "cell_type": "markdown",
   "metadata": {},
   "source": [
    "``````{dropdown} Code\n",
    "\n",
    "`````{tab} Python\n",
    "````python\n",
    "    # ==============================================================================\n",
    "    # Part 1: Create the signal\n",
    "    # ==============================================================================\n",
    "    import numpy as np\n",
    "    import matplotlib.pyplot as plt\n",
    "\n",
    "    # Close all figure windows\n",
    "    ______\n",
    "\n",
    "    # Clear workspace\n",
    "    # In Python, variables need to be explicitly deleted if needed. Typically, just overwrite or ignore.\n",
    "\n",
    "    # Clear command window\n",
    "    # This is not applicable in Python in the same way as in MATLAB.\n",
    "\n",
    "    Fs = 4000  # Sampling frequency in Hz\n",
    "    Ts = ___  # Sampling period\n",
    "    L = 3000  # Signal length (number of samples)\n",
    "    T = L * Ts  # Signal duration\n",
    "    t = np.arange(0, L) * Ts  # Timestamps of signal calculation\n",
    "\n",
    "    # Signal creation\n",
    "    x = np.sin(2 * np.pi * 200 * t) \\\n",
    "        + 0.3 * np.sin(2 * np.pi * 300 * (t - 2)) \\\n",
    "        + np.sin(2 * np.pi * 400 * t)\n",
    "\n",
    "    # Plot signal x in time\n",
    "    plt.figure(1)\n",
    "    plt.plot(t, x)\n",
    "    plt.title('Time domain plot of x')\n",
    "    plt.xlabel('t (sec)')\n",
    "    plt.ylabel('Amplitude')\n",
    "    plt.show(block=False)  # block=False allows the script to continue while the plot is shown\n",
    "    plt.pause(1)  # Pause for 1 second; adjust as needed\n",
    "\n",
    "    plt.axis([0, 0.3, -2, 2])  # Adjust axes\n",
    "    plt.pause(1)  # Pause for 1 second; adjust as needed\n",
    "\n",
    "    # Calculate Fourier Transform\n",
    "    N = 2 ** np.ceil(np.log2(L)).astype(int)  # FFT length\n",
    "    Fo = ___  # Frequency analysis step\n",
    "    f = np.arange(0, N) * Fo  # Frequency vector\n",
    "    X = ___  # DFT for N points, fill in with the correct function\n",
    "\n",
    "    # Plot signal in frequency domain\n",
    "    plt.figure(2)\n",
    "    plt.plot(f[:N // 2], np.abs(X[:N // 2]))  # Plot signal only for positive frequency values\n",
    "    plt.title('Frequency domain plot of x')\n",
    "    plt.xlabel('f (Hz)')\n",
    "    plt.ylabel('Amplitude')\n",
    "    plt.show(block=False)\n",
    "    plt.pause(1)\n",
    "\n",
    "    # For a two-sided signal plot\n",
    "    plt.figure(3)\n",
    "    f = f - Fs / 2  # Shift frequency vector\n",
    "    X = np.fft.fftshift(X)  # Shift the zero to the center\n",
    "    plt.plot(f, np.abs(X))\n",
    "    plt.title('Two sided spectrum of x')\n",
    "    plt.xlabel('f (Hz)')\n",
    "    plt.ylabel('Amplitude')\n",
    "    plt.show(block=False)\n",
    "    plt.pause(1)\n",
    "\n",
    "    # Calculate power of signal\n",
    "    power = (X * np.conj(X)) / N / L\n",
    "    plt.figure(4)\n",
    "    plt.plot(f, power)\n",
    "    plt.xlabel('Frequency (Hz)')\n",
    "    plt.ylabel('Power')\n",
    "    plt.title('Periodogram')\n",
    "    plt.show(block=False)\n",
    "    plt.pause(1)\n",
    "````\n",
    "`````\n",
    "\n",
    "`````{tab} Matlab\n",
    "````matlab\n",
    "% ==============================================================================\n",
    "% Part 1 Create the signal\n",
    "% ==============================================================================\n",
    "_________ % close all figure windows\n",
    "_________ % clear workspace\n",
    "_________ % clear command window\n",
    "Fs=4000; % sampling frequency 4000 Hz\n",
    "Ts=____; % sampling period\n",
    "L=3000; % signal length (number of samples)\n",
    "T=L*Ts; % signal duration\n",
    "t=0:Ts:(L-1)*Ts; % timestamps of signal calculation\n",
    "x=sin(2*pi*200*t)... % sinusoidal signal of frequency 200 Hz\n",
    "+ 0.3*sin(2*pi*300*(t-2))... % plus sinusoidal signal of frequency 300 Hz\n",
    "+ sin(2*pi*400*t); % plus sinusoidal signal of frequency 400 Hz\n",
    "% Plot signal x in time\n",
    "figure(1) % open a new figure window\n",
    "plot(t,x) % plot the signal\n",
    "title('Time domain plot of x') % plot title\n",
    "xlabel('t (sec)') % x axis label\n",
    "ylabel('Amplitude') % y axis label\n",
    "pause % pause, press any key to continue\n",
    "axis([0 0.3 -2 2]) % x axis values from 0 to 0.3 sec and\n",
    "% y axis values from -2 to 2\n",
    "pause % pause, press any key to continue\n",
    "% Calculate Fourier Transform\n",
    "N = 2^nextpow2(L); % FFT length\n",
    "% nextpow2 calculates next power of 2\n",
    "% grater or equal to L\n",
    "Fo=____; % frequency analysis\n",
    "f=(0:N-1)*Fo; % frequency vector\n",
    "X=________; % DFT for Ν points\n",
    "% Plot signal in frequency domain\n",
    "% As signal is real you can plot the one sided signal(positive frequency values)\n",
    "figure(2) % open a new figure window\n",
    "plot(f(1:_____)),abs(X(1:_____))) % plot signal only for positive\n",
    "%frequency values\n",
    "title('Frequency domain plot of x') % plot title\n",
    "xlabel('f (Hz)') % set x axis label\n",
    "ylabel('Amplitude') % set y axis label\n",
    "pause % pause, press any key to continue\n",
    "% in order to plot the 2-sided signal you can use fftshift matlab\n",
    "% function, type help fftshift for more details\n",
    "figure(3) % open a new figure window\n",
    "f=f-Fs/2; % shift frequency vector to the left by –Fs/2\n",
    "X=fftshift(X); % create 2-sided signal\n",
    "plot(f,abs(X));title('Two sided spectrum of x'); xlabel('f (Hz)');\n",
    "ylabel('Amplitude')\n",
    "pause % pause, press any key to continue\n",
    "% Calculate power of signal\n",
    "power=X.*conj(X)/N/L; % Calculate power of signal\n",
    "figure(4) % open a new figure window\n",
    "plot(f,power) % plot signal power to frequency\n",
    "xlabel('Frequency (Hz)') % x axis label\n",
    "ylabel('Power') % y axis label\n",
    "title('{\\bf Periodogram}') % plot title\n",
    "pause\n",
    "\n",
    "````\n",
    "`````\n",
    "``````"
   ]
  },
  {
   "cell_type": "code",
   "execution_count": 19,
   "metadata": {
    "tags": [
     "thebe-init",
     "hide-code-cell"
    ]
   },
   "outputs": [
    {
     "data": {
      "application/vnd.jupyter.widget-view+json": {
       "model_id": "0f0d8cd266854df8999a103b57e2c04a",
       "version_major": 2,
       "version_minor": 0
      },
      "text/plain": [
       "HBox(children=(VBox(children=(IntText(value=500, description='Freq 1 (Hz):'), IntText(value=1000, description=…"
      ]
     },
     "metadata": {},
     "output_type": "display_data"
    },
    {
     "data": {
      "application/vnd.jupyter.widget-view+json": {
       "model_id": "4e4c988c7fb7457aae0bf3a92ff50455",
       "version_major": 2,
       "version_minor": 0
      },
      "text/plain": [
       "Output()"
      ]
     },
     "metadata": {},
     "output_type": "display_data"
    }
   ],
   "source": [
    "# HTML code for a loading spinner animation\n",
    "loading = \"\"\"\n",
    "    <div style='display: flex; justify-content: center; align-items: center; height: 80px;'>\n",
    "        <div class='loader' style='border: 12px solid #f3f3f3; /* Light grey */\n",
    "                                     border-top: 12px solid #01cc97; /* Green */\n",
    "                                     border-radius: 50%;\n",
    "                                     width: 40px;\n",
    "                                     height: 40px;\n",
    "                                     animation: spin 2s linear infinite;'></div>\n",
    "    </div>\n",
    "    <style>\n",
    "    @keyframes spin {\n",
    "        0% { transform: rotate(0deg); }\n",
    "        100% { transform: rotate(360deg); }\n",
    "    }\n",
    "    </style>\n",
    "    \"\"\"\n",
    "\n",
    "# HTML code to display a checkmark when loading is complete\n",
    "done = \"\"\"\n",
    "        <div style='display: flex; justify-content: center; align-items: center; height: 80px;'>\n",
    "            <div style='font-size: 40px; color: #01cc97;'>&#10003;</div>\n",
    "        </div>\n",
    "        \"\"\"\n",
    "\n",
    "# Create HTML widgets to display the loading animation and elapsed time\n",
    "loader_html1 = widgets.HTML(\n",
    "  value=loading\n",
    ")\n",
    "timer_html1 = widgets.HTML(\n",
    "    value=\"Elapsed time: - seconds\"\n",
    ")\n",
    "\n",
    "# Function to calculate the next highest power of 2\n",
    "def nextpow2(i):\n",
    "    \"\"\"\n",
    "    Calculate the next highest power of 2 for a given integer.\n",
    "\n",
    "    Parameters:\n",
    "    i (int): Input integer.\n",
    "\n",
    "    Returns:\n",
    "    int: Next power of 2 greater than or equal to i.\n",
    "    \"\"\"\n",
    "    n = 1\n",
    "    while n < i:\n",
    "        n *= 2\n",
    "    return n\n",
    "\n",
    "# Output widget where plots will be displayed\n",
    "plot_output1 = widgets.Output()\n",
    "\n",
    "# Callback function to update graphs when input frequencies change\n",
    "def update_plots1(freq1, freq2, freq3):\n",
    "    \"\"\"\n",
    "    Update the plots based on the input frequencies.\n",
    "\n",
    "    Parameters:\n",
    "    freq1 (int): Frequency of the first sine wave.\n",
    "    freq2 (int): Frequency of the second sine wave.\n",
    "    freq3 (int): Frequency of the third sine wave.\n",
    "    \"\"\"\n",
    "    # Start timer and show loading animation\n",
    "    loader_html1.value = loading\n",
    "    start_time = time.time()\n",
    "    \n",
    "    # Sampling frequency (samples per second)\n",
    "    Fs = 8000  # Hardcoded sampling frequency\n",
    "    Ts = 1 / Fs  # Sampling period (seconds per sample)\n",
    "    L = Fs  # Number of samples (one second of data)\n",
    "    T = L * Ts  # Total time duration\n",
    "    t = np.arange(0, L) * Ts  # Time vector from 0 to T-Ts (inclusive)\n",
    "    \n",
    "    # Declare new_x as global variable to be accessed outside the function if needed\n",
    "    global new_x\n",
    "    # Generate the composite signal new_x as a sum of three sine waves at specified frequencies\n",
    "    # The amplitudes are 1, 0.8, and 1 respectively\n",
    "    new_x = np.sin(2 * np.pi * freq1 * t) \\\n",
    "            + 0.8 * np.sin(2 * np.pi * freq2 * t) \\\n",
    "            + np.sin(2 * np.pi * freq3 * t)\n",
    "\n",
    "    # Check if any of the input frequencies are out of bounds\n",
    "    if any(freq < 0 for freq in [freq1, freq2, freq3]) or any(freq > 3900 for freq in [freq1, freq2, freq3]):\n",
    "        # If invalid frequency, clear the output and display a warning message\n",
    "        with plot_output1:\n",
    "            plot_output1.clear_output(wait=True)\n",
    "            warning_html1 = widgets.HTML(\n",
    "                value=\"<div style='color: black; background-color: #ffffcc; padding: 10px; border-radius: 5px; font-size: 16px; text-align: center;'>\" \n",
    "                      \"<b>⚠️ Warning:</b> Frequency should not exceed 3900 and must be non-negative!</div>\",\n",
    "                placeholder='',\n",
    "                description='',\n",
    "            )\n",
    "            display(warning_html1)\n",
    "            # Update the timer and loader to indicate completion\n",
    "            elapsed_time = time.time() - start_time\n",
    "            timer_html1.value = f\"Elapsed time: {elapsed_time:.2f} seconds\"\n",
    "            loader_html1.value = done\n",
    "    else:\n",
    "        # If frequencies are valid, proceed to update the plots\n",
    "        with plot_output1:\n",
    "            plot_output1.clear_output(wait=True)  # Clear previous outputs\n",
    "\n",
    "            # Create a figure with 4 subplots\n",
    "            fig, axs = plt.subplots(4, 1, figsize=(12, 20))\n",
    "            \n",
    "            # Calculate the number of points to plot (e.g., the first 1/10th of the data)\n",
    "            point = len(new_x) // 10\n",
    "\n",
    "            # Plot the time-domain signal new_x (only the first portion for clarity)\n",
    "            # Plotting the entire signal may be too dense to visualize\n",
    "            axs[0].plot(t[:point], new_x[:point], color='#00CC96')\n",
    "            axs[0].set_title('Time domain plot of x')\n",
    "            axs[0].set_xlabel('t (sec)')\n",
    "            axs[0].set_ylabel('Amplitude')\n",
    "            axs[0].grid(True)\n",
    "\n",
    "            # Compute the FFT length as the next power of 2 from length of new_x\n",
    "            N = nextpow2(L)          # Length of Fourier transform\n",
    "            Fo = Fs / N              # Frequency resolution\n",
    "            f = np.arange(0, N) * Fo # Frequency vector\n",
    "            X = np.fft.fft(new_x, N) # Compute DFT for N points\n",
    "\n",
    "            # Plot the single-sided amplitude spectrum (magnitude of FFT)\n",
    "            axs[1].plot(f[1:N], abs(X[1:N]), color='#1F77B4')\n",
    "            axs[1].set_title('Frequency domain plot of x')\n",
    "            axs[1].set_xlabel('f (Hz)')\n",
    "            axs[1].set_ylabel('Amplitude')\n",
    "            axs[1].grid(True)\n",
    "\n",
    "            # Shift the zero-frequency component to the center of the spectrum\n",
    "            # This is useful for visualizing both positive and negative frequencies\n",
    "            f = f - Fs / 2\n",
    "            X = np.fft.fftshift(X)\n",
    "\n",
    "            # Two-sided frequency vector\n",
    "            f_shifted = f \n",
    "\n",
    "            # Plot the two-sided amplitude spectrum\n",
    "            axs[2].plot(f_shifted, abs(X), color='#1F77B4')\n",
    "            axs[2].set_title('Two sided spectrum of x')\n",
    "            axs[2].set_xlabel('f (Hz)')\n",
    "            axs[2].set_ylabel('Amplitude')\n",
    "            axs[2].grid(True)\n",
    "\n",
    "            # Calculate the power spectral density\n",
    "            # Power is calculated as (magnitude squared of X) divided by N and L\n",
    "            power = np.multiply(X, np.conj(X)) / N / L  # Power spectral density\n",
    "\n",
    "            # Plot the periodogram (power vs frequency)\n",
    "            axs[3].plot(f_shifted, power.real, color='#1F77B4')\n",
    "            axs[3].set_title('Periodogram')\n",
    "            axs[3].set_xlabel('Frequency (Hz)')\n",
    "            axs[3].set_ylabel('Power')\n",
    "            axs[3].grid(True)\n",
    "\n",
    "            # Adjust layout to prevent overlap\n",
    "            plt.tight_layout()\n",
    "            plt.show()\n",
    "\n",
    "            # Update the timer and loader to indicate completion\n",
    "            elapsed_time = time.time() - start_time\n",
    "            timer_html1.value = f\"Elapsed time: {elapsed_time:.2f} seconds\"\n",
    "            loader_html1.value = done\n",
    "\n",
    "# Create three IntText widgets for input frequencies, with default values and specified ranges\n",
    "freq1_input1 = widgets.IntText(value=500, description='Freq 1 (Hz):', min=0, max=3900, continuous_update=False)\n",
    "freq2_input1 = widgets.IntText(value=1000, description='Freq 2 (Hz):', min=0, max=3900, continuous_update=False)\n",
    "freq3_input1 = widgets.IntText(value=1500, description='Freq 3 (Hz):', min=0, max=3900, continuous_update=False)\n",
    "\n",
    "# Group the frequency input widgets vertically\n",
    "inputs_box = widgets.VBox([freq1_input1, freq2_input1, freq3_input1])\n",
    "\n",
    "# Group the loader and timer widgets vertically, with some left margin for alignment\n",
    "loader_timer_box = widgets.VBox([loader_html1, timer_html1], layout=widgets.Layout(margin='0 0 0 40px'))\n",
    "\n",
    "# Arrange the inputs and loader/timer widgets horizontally next to each other\n",
    "ui = widgets.HBox([inputs_box, loader_timer_box])\n",
    "\n",
    "# Create an interactive output that updates plots when input frequencies change\n",
    "out = widgets.interactive_output(update_plots1, {'freq1': freq1_input1, 'freq2': freq2_input1, 'freq3': freq3_input1})\n",
    "\n",
    "# Display the UI and the plot output\n",
    "display(ui, plot_output1)\n"
   ]
  },
  {
   "cell_type": "markdown",
   "metadata": {},
   "source": [
    "### Step 2: Add noise to the signal\n",
    "Complete the code to create the noise signal n using the randn function. The noise vector n should be the same size as the sine wave x from the first part. Plot the noise signal in the interval from 0 to 0.2 sec and scale from -2 to 2. Calculate the periodogram of n and plot the power spectral density of the noise signal. Add the noise signal and x to get the noisy signal s. Plot the noisy signal s in the time domain in the area from 0 to 0.2 sec and scale from -2 to 2 as well as its bilateral spectrum."
   ]
  },
  {
   "cell_type": "code",
   "execution_count": 20,
   "metadata": {
    "tags": [
     "thebe-init",
     "hide-code-cell"
    ]
   },
   "outputs": [
    {
     "data": {
      "application/vnd.jupyter.widget-view+json": {
       "model_id": "23a42e8d13b045f7a7260e7e259c8b0b",
       "version_major": 2,
       "version_minor": 0
      },
      "text/plain": [
       "HBox(children=(VBox(children=(IntText(value=500, description='Freq 1 (Hz):'), IntText(value=1000, description=…"
      ]
     },
     "metadata": {},
     "output_type": "display_data"
    },
    {
     "data": {
      "application/vnd.jupyter.widget-view+json": {
       "model_id": "49452da90ce144e7b8a30ad05b564e09",
       "version_major": 2,
       "version_minor": 0
      },
      "text/plain": [
       "Output()"
      ]
     },
     "metadata": {},
     "output_type": "display_data"
    }
   ],
   "source": [
    "# Loading animation HTML code\n",
    "loading = \"\"\"\n",
    "    <div style='display: flex; justify-content: center; align-items: center; height: 80px;'>\n",
    "        <div class='loader' style='border: 12px solid #f3f3f3; /* Light grey */\n",
    "                                     border-top: 12px solid #01cc97; /* Blue */\n",
    "                                     border-radius: 50%;\n",
    "                                     width: 40px;\n",
    "                                     height: 40px;\n",
    "                                     animation: spin 2s linear infinite;'></div>\n",
    "    </div>\n",
    "    <style>\n",
    "    @keyframes spin {\n",
    "        0% { transform: rotate(0deg); }\n",
    "        100% { transform: rotate(360deg); }\n",
    "    }\n",
    "    </style>\n",
    "    \"\"\"\n",
    "\n",
    "# HTML code to display a checkmark when loading is complete\n",
    "done = \"\"\"\n",
    "        <div style='display: flex; justify-content: center; align-items: center; height: 80px;'>\n",
    "            <div style='font-size: 40px; color: #01cc97;'>&#10003;</div>\n",
    "        </div>\n",
    "        \"\"\"\n",
    "\n",
    "# Create an HTML widget to display the loading animation\n",
    "loader_html2 = widgets.HTML(\n",
    "  value=loading\n",
    ")\n",
    "\n",
    "# Create an HTML widget to display the elapsed time\n",
    "timer_html2 = widgets.HTML(\n",
    "    value=\"Elapsed time: - seconds\"\n",
    ")\n",
    "\n",
    "# Output widget where plots will be displayed\n",
    "plot_output2 = widgets.Output()\n",
    "\n",
    "# Function to calculate the next highest power of 2\n",
    "def nextpow2(i):\n",
    "    \"\"\"\n",
    "    Calculate the next power of 2 greater than or equal to the integer i.\n",
    "\n",
    "    Parameters:\n",
    "    i (int): Input integer.\n",
    "\n",
    "    Returns:\n",
    "    int: Next power of 2 greater than or equal to i.\n",
    "    \"\"\"\n",
    "    n = 1\n",
    "    while n < i:\n",
    "        n *= 2\n",
    "    return n\n",
    "\n",
    "# Function to update plots with input frequencies\n",
    "def update_plots2(freq1, freq2, freq3):\n",
    "    \"\"\"\n",
    "    Update the plots based on the provided frequencies.\n",
    "\n",
    "    Parameters:\n",
    "    freq1 (int): Frequency of the first sine wave (Hz).\n",
    "    freq2 (int): Frequency of the second sine wave (Hz).\n",
    "    freq3 (int): Frequency of the third sine wave (Hz).\n",
    "    \"\"\"\n",
    "    # Start timer and show loading animation\n",
    "    loader_html2.value = loading\n",
    "    start_time = time.time()\n",
    "    \n",
    "    # Sampling parameters\n",
    "    Fs = 8000                    # Sampling frequency (Hz)\n",
    "    Ts = 1/Fs                    # Sampling period (seconds)\n",
    "    L = 8000                     # Length of signal (number of samples)\n",
    "    T = L * Ts                   # Total duration of signal (seconds)\n",
    "    t = np.arange(0, L) * Ts     # Time vector from 0 to T-Ts (inclusive)\n",
    "\n",
    "    # Create the composite signal using the three input frequencies\n",
    "    new_x = np.sin(2*np.pi*freq1*t) + 0.8*np.sin(2*np.pi*freq2*t) + np.sin(2*np.pi*freq3*t)\n",
    "    \n",
    "    # Generate random noise\n",
    "    rand_n = np.random.randn(len(new_x))  # Random noise with same length as new_x\n",
    "\n",
    "    # Check if any of the input frequencies are out of bounds\n",
    "    if any(freq < 0 for freq in [freq1, freq2, freq3]) or any(freq > 3900 for freq in [freq1, freq2, freq3]):\n",
    "        # If invalid frequency, clear the output and display a warning message\n",
    "        with plot_output2:\n",
    "            plot_output2.clear_output(wait=True)\n",
    "            warning_html2 = widgets.HTML(\n",
    "                value=\"<div style='color: black; background-color: #ffffcc; padding: 10px; border-radius: 5px; font-size: 16px; text-align: center;'>\"\n",
    "                      \"<b>⚠️ Warning:</b> Frequency should not exceed 3900 and must be non-negative!</div>\",\n",
    "                placeholder='',\n",
    "                description='',\n",
    "            )\n",
    "            display(warning_html2)\n",
    "            # Update the timer and loader to indicate completion\n",
    "            elapsed_time = time.time() - start_time\n",
    "            timer_html2.value = f\"Elapsed time: {elapsed_time:.2f} seconds\"\n",
    "            loader_html2.value = done\n",
    "    else:\n",
    "        # If frequencies are valid, proceed to update the plots\n",
    "        with plot_output2:\n",
    "            plot_output2.clear_output(wait=True)\n",
    "            # Plotting setup: create a figure with 4 subplots\n",
    "            fig, axs = plt.subplots(4, 1, figsize=(12, 20))\n",
    "            \n",
    "            # Time domain plot of random noise rand_n\n",
    "            axs[0].plot(t, rand_n, color='#00CC96')\n",
    "            axs[0].set_title('Time domain plot of n')\n",
    "            axs[0].set_xlabel('t (sec)')\n",
    "            axs[0].set_ylabel('Amplitude')\n",
    "            axs[0].grid(True)\n",
    "            \n",
    "            # Compute FFT parameters\n",
    "            N = nextpow2(L)            # Length of Fourier transform (next power of 2)\n",
    "            Fo = Fs / N                # Frequency resolution\n",
    "            f = np.arange(0, N) * Fo   # Frequency vector\n",
    "            f_shifted = f - Fs/2       # Shifted frequency vector for centered spectrum\n",
    "            \n",
    "            # Compute the FFT of the noise signal\n",
    "            rand_N = np.fft.fft(rand_n, N)           # Compute DFT for N points\n",
    "            rand_N = np.fft.fftshift(rand_N)         # Shift zero frequency component to center\n",
    "            power_n = np.multiply(rand_N, np.conj(rand_N)) / N / L  # Compute power spectral density\n",
    "            \n",
    "            # Frequency domain plot of the noise power spectrum\n",
    "            axs[1].plot(f_shifted, power_n.real, color='#1F77B4')\n",
    "            axs[1].set_title('Frequency domain plot of n')\n",
    "            axs[1].set_xlabel('f (Hz)')\n",
    "            axs[1].set_ylabel('Amplitude')\n",
    "            axs[1].grid(True)\n",
    "            \n",
    "            # Create the noisy signal by adding noise to the composite signal\n",
    "            s = new_x + rand_n\n",
    "            \n",
    "            # Time domain plot of the noisy signal s\n",
    "            axs[2].plot(t, s, color='#00CC96')\n",
    "            axs[2].set_title('Time domain plot of s')\n",
    "            axs[2].set_xlabel('t (sec)')\n",
    "            axs[2].set_ylabel('Amplitude')\n",
    "            axs[2].grid(True)\n",
    "            \n",
    "            # Compute the FFT of the noisy signal s\n",
    "            S = np.fft.fft(s, N)\n",
    "            S = np.fft.fftshift(S)\n",
    "            \n",
    "            # Frequency domain plot of the noisy signal s\n",
    "            axs[3].plot(f_shifted, np.abs(S), color='#1F77B4')\n",
    "            axs[3].set_title('Frequency domain plot of s')\n",
    "            axs[3].set_xlabel('f (Hz)')\n",
    "            axs[3].set_ylabel('Magnitude')\n",
    "            axs[3].grid(True)\n",
    "            \n",
    "            # Adjust layout to prevent overlap\n",
    "            plt.tight_layout()\n",
    "            plt.show()\n",
    "\n",
    "            # Update the timer and loader to indicate completion\n",
    "            elapsed_time = time.time() - start_time\n",
    "            timer_html2.value = f\"Elapsed time: {elapsed_time:.2f} seconds\"\n",
    "            loader_html2.value = done\n",
    "\n",
    "# Create three IntText widgets for input frequencies\n",
    "freq1_input2 = widgets.IntText(value=500, description='Freq 1 (Hz):', continuous_update=False)\n",
    "freq2_input2 = widgets.IntText(value=1000, description='Freq 2 (Hz):', continuous_update=False)\n",
    "freq3_input2 = widgets.IntText(value=1500, description='Freq 3 (Hz):', continuous_update=False)\n",
    "\n",
    "# Group the frequency inputs together in a vertical box\n",
    "inputs_box = widgets.VBox([freq1_input2, freq2_input2, freq3_input2])\n",
    "\n",
    "# Group the loader and timer together (they will appear next to each other horizontally)\n",
    "loader_timer_box = widgets.VBox([loader_html2, timer_html2], layout=widgets.Layout(margin='0 0 0 40px'))\n",
    "\n",
    "# Place the inputs and the loader/timer horizontally next to each other\n",
    "ui = widgets.HBox([inputs_box, loader_timer_box])\n",
    "\n",
    "# Create an interactive output that updates plots when input frequencies change\n",
    "out = widgets.interactive_output(update_plots2, {\n",
    "    'freq1': freq1_input2,\n",
    "    'freq2': freq2_input2,\n",
    "    'freq3': freq3_input2\n",
    "})\n",
    "\n",
    "# Display the UI and the plot output\n",
    "display(ui, plot_output2)\n"
   ]
  },
  {
   "cell_type": "markdown",
   "metadata": {},
   "source": [
    "### Step 3: Multiplication of signals\n",
    "Complete the code for creating a sine wave signal of 1500 Hz frequency and multiply it with the previous signal s. The two signals should be of the same size. Plot the result in the time domain in the area from 0 to 0.2 sec and scale from -2 to 2 as well as in the frequency domain using the fftshift function."
   ]
  },
  {
   "cell_type": "code",
   "execution_count": 21,
   "metadata": {
    "tags": [
     "thebe-init",
     "hide-code-cell"
    ]
   },
   "outputs": [
    {
     "data": {
      "application/vnd.jupyter.widget-view+json": {
       "model_id": "fddae6df5ff64d37a0c4af39a6460509",
       "version_major": 2,
       "version_minor": 0
      },
      "text/plain": [
       "HBox(children=(VBox(children=(IntText(value=100, description='Freq 1 (Hz):'), IntText(value=200, description='…"
      ]
     },
     "metadata": {},
     "output_type": "display_data"
    },
    {
     "data": {
      "application/vnd.jupyter.widget-view+json": {
       "model_id": "3af0fee3ef294150b072ed88fcfc42d8",
       "version_major": 2,
       "version_minor": 0
      },
      "text/plain": [
       "Output()"
      ]
     },
     "metadata": {},
     "output_type": "display_data"
    }
   ],
   "source": [
    "# Loading animation HTML code\n",
    "loading = \"\"\"\n",
    "    <div style='display: flex; justify-content: center; align-items: center; height: 80px;'>\n",
    "        <div class='loader' style='border: 12px solid #f3f3f3; /* Light grey */\n",
    "                                     border-top: 12px solid #01cc97; /* Blue */\n",
    "                                     border-radius: 50%;\n",
    "                                     width: 40px;\n",
    "                                     height: 40px;\n",
    "                                     animation: spin 2s linear infinite;'></div>\n",
    "    </div>\n",
    "    <style>\n",
    "    @keyframes spin {\n",
    "        0% { transform: rotate(0deg); }\n",
    "        100% { transform: rotate(360deg); }\n",
    "    }\n",
    "    </style>\n",
    "    \"\"\"\n",
    "\n",
    "# HTML code to display a checkmark when loading is complete\n",
    "done = \"\"\"\n",
    "        <div style='display: flex; justify-content: center; align-items: center; height: 80px;'>\n",
    "            <div style='font-size: 40px; color: #01cc97;'>&#10003;</div>\n",
    "        </div>\n",
    "        \"\"\"\n",
    "\n",
    "# Create an HTML widget to display the loading animation\n",
    "loader_html3 = widgets.HTML(\n",
    "  value=loading\n",
    ")\n",
    "\n",
    "# Create an HTML widget to display the elapsed time\n",
    "timer_html3 = widgets.HTML(\n",
    "    value=\"Elapsed time: - seconds\"\n",
    ")\n",
    "\n",
    "# Output widget where plots or warnings will be displayed\n",
    "plot_output3 = widgets.Output()\n",
    "\n",
    "# Function to calculate the next highest power of 2 greater than or equal to i\n",
    "def nextpow2(i):\n",
    "    \"\"\"\n",
    "    Calculate the next power of 2 greater than or equal to the given integer.\n",
    "\n",
    "    Parameters:\n",
    "    i (int): Input integer.\n",
    "\n",
    "    Returns:\n",
    "    int: Next power of 2 greater than or equal to i.\n",
    "    \"\"\"\n",
    "    n = 1\n",
    "    while n < i:\n",
    "        n *= 2\n",
    "    return n\n",
    "\n",
    "# Function to update plots based on the input frequencies\n",
    "def update_plots3(freq1, freq2, freq3):\n",
    "    \"\"\"\n",
    "    Update the plots with the given input frequencies.\n",
    "\n",
    "    Parameters:\n",
    "    freq1 (int): Frequency of the first sine wave (Hz).\n",
    "    freq2 (int): Frequency of the second sine wave (Hz).\n",
    "    freq3 (int): Frequency of the third sine wave (Hz).\n",
    "    \"\"\"\n",
    "    # Start the timer and show the loading animation\n",
    "    loader_html3.value = loading\n",
    "    start_time = time.time()\n",
    "\n",
    "    # Check if any of the input frequencies are negative or exceed 500 Hz\n",
    "    if any(freq < 0 for freq in [freq1, freq2, freq3]) or any(freq > 500 for freq in [freq1, freq2, freq3]):\n",
    "        # If invalid frequencies, display a warning message\n",
    "        with plot_output3:\n",
    "            plot_output3.clear_output(wait=True)\n",
    "            warning_html3 = widgets.HTML(\n",
    "                value=\"<div style='color: black; background-color: #ffffcc; padding: 10px; border-radius: 5px; font-size: 16px; text-align: center;'>\"\n",
    "                      \"<b>⚠️ Warning:</b> Frequency should not exceed 500 and must be non-negative!</div>\",\n",
    "                placeholder='',\n",
    "                description='',\n",
    "            )\n",
    "            display(warning_html3)\n",
    "            # Update the elapsed time and loader to indicate completion\n",
    "            elapsed_time = time.time() - start_time\n",
    "            timer_html3.value = f\"Elapsed time: {elapsed_time:.2f} seconds\"\n",
    "            loader_html3.value = done\n",
    "    else:\n",
    "        # Proceed with the plot if all frequencies are within the limit\n",
    "        with plot_output3:\n",
    "            plot_output3.clear_output(wait=True)  # Clear any existing plots or warnings\n",
    "            Fc = 1500  # Carrier frequency in Hz\n",
    "            Fs = 8000  # Sampling frequency in Hz\n",
    "            Ts = 1 / Fs  # Sampling period in seconds\n",
    "            L = int(Fs)  # Length of signal (number of samples), for a 1-second signal\n",
    "            t = np.linspace(0, 1, L, endpoint=False)  # Time vector from 0 to 1 second\n",
    "\n",
    "            # Create the composite signal s as a sum of three sine waves\n",
    "            s = np.sin(2 * np.pi * freq1 * t) + 0.8 * np.sin(2 * np.pi * freq2 * t) + np.sin(2 * np.pi * freq3 * t)\n",
    "            # Create the carrier signal z at frequency Fc\n",
    "            z = np.sin(2 * np.pi * Fc * t)\n",
    "            # Modulate the signal s using the carrier z (Amplitude Modulation)\n",
    "            y = s * z\n",
    "\n",
    "            # Plotting the modulated signal in time domain\n",
    "            fig, axs = plt.subplots(2, 1, figsize=(12, 10))\n",
    "            \n",
    "            # Plot the modulated signal y in the time domain\n",
    "            axs[0].plot(t, y, color='#00CC96')\n",
    "            axs[0].set_title('Time domain plot of modulated signal y')\n",
    "            axs[0].set_xlabel('Time (sec)')\n",
    "            axs[0].set_ylabel('Amplitude')\n",
    "            axs[0].set_xlim(0, 0.2)  # Zoom into the first 0.2 seconds for clarity\n",
    "            axs[0].set_ylim(-2, 2)   # Set the y-axis limits\n",
    "            axs[0].grid(True)\n",
    "\n",
    "            # Fourier Transform to obtain the frequency domain representation\n",
    "            N = nextpow2(L)  # Number of points for FFT, next power of 2 from L\n",
    "            Y = np.fft.fft(y, N)  # Compute the FFT of the modulated signal\n",
    "            Y = np.fft.fftshift(Y)  # Shift the zero frequency component to the center\n",
    "            f = np.linspace(-Fs/2, Fs/2, N)  # Frequency vector for plotting\n",
    "\n",
    "            # Plot the magnitude of the Fourier Transform\n",
    "            axs[1].plot(f, np.abs(Y), color='#1F77B4')\n",
    "            axs[1].set_title('Frequency domain plot of modulated signal y')\n",
    "            axs[1].set_xlabel('Frequency (Hz)')\n",
    "            axs[1].set_ylabel('Magnitude')\n",
    "            axs[1].grid(True)\n",
    "\n",
    "            # Adjust layout and display the plots\n",
    "            plt.tight_layout()\n",
    "            plt.show()\n",
    "\n",
    "            # Update the elapsed time and loader to indicate completion\n",
    "            elapsed_time = time.time() - start_time\n",
    "            timer_html3.value = f\"Elapsed time: {elapsed_time:.2f} seconds\"\n",
    "            loader_html3.value = done\n",
    "\n",
    "# Create a label to show a warning above the text boxes\n",
    "warning_label = widgets.Label(value=\"Make sure the frequencies do not exceed 500 Hz\")\n",
    "\n",
    "# Create IntText widgets for frequency input, with default values and no continuous update\n",
    "freq1_input3 = widgets.IntText(value=100, description='Freq 1 (Hz):', continuous_update=False)\n",
    "freq2_input3 = widgets.IntText(value=200, description='Freq 2 (Hz):', continuous_update=False)\n",
    "freq3_input3 = widgets.IntText(value=300, description='Freq 3 (Hz):', continuous_update=False)\n",
    "\n",
    "# Group the frequency inputs and the warning label together in a vertical box\n",
    "inputs_box = widgets.VBox([freq1_input3, freq2_input3, freq3_input3, warning_label])\n",
    "\n",
    "# Group the loader and timer together in a vertical box, with some left margin\n",
    "loader_timer_box = widgets.VBox([loader_html3, timer_html3], layout=widgets.Layout(margin='0 0 0 40px'))\n",
    "\n",
    "# Place the inputs and the loader/timer horizontally next to each other\n",
    "ui = widgets.HBox([inputs_box, loader_timer_box])\n",
    "\n",
    "# Create an interactive output that updates when the frequency inputs change\n",
    "widgets.interactive_output(update_plots3, {'freq1': freq1_input3, 'freq2': freq2_input3, 'freq3': freq3_input3})\n",
    "\n",
    "# Display the UI and the plot output widget\n",
    "display(ui, plot_output3)\n"
   ]
  },
  {
   "cell_type": "markdown",
   "metadata": {},
   "source": [
    "## Part 4: Application B\n",
    "Write a Python spectral analysis function, similar to `signal.welch()`: it will accept as input a real signal vector as well as the sampling frequency, $F_s$, and will plot the one-sided spectral density of the signal in the range $[0-F_s/2)$. The signal will be segmented into sections of length equal to the power of $2$ closest to $1/8$ of its total length, but not less than 256. The sections will overlap by $50%$. The last section, if shorter than the others, will be ignored. The spectrum of each section will be calculated with FFT and the mean value of all sections will be taken. The function should be tested with the signal from example 1.1 and the result compared with that of `signal.welch()`."
   ]
  },
  {
   "cell_type": "markdown",
   "metadata": {},
   "source": [
    "``````{dropdown} Code\n",
    "\n",
    "`````{tab} Python\n",
    "````python\n",
    "# ==============================================================================\n",
    "# Custom nextpow2 and pwelch functions\n",
    "# ==============================================================================\n",
    "def nextpow2(i):\n",
    "        n = 1\n",
    "        while n < i:\n",
    "            n *= 2\n",
    "        return n\n",
    "\n",
    "def pwelch(x,Fs):                    \n",
    "    Ts=1/Fs                    \n",
    "    L=np.size(x)+1                 \n",
    "    T=L*Ts                     \n",
    "    N = 2^nextpow2(L)\n",
    "    Fo=Fs/N                   \n",
    "    f=np.arange(0,N)*Fo       \n",
    "     \n",
    "    window_size = nextpow2(np.size(x)/8)\n",
    "    if (window_size<256):\n",
    "        window_size=256\n",
    "    windows = np.size(x)//(window_size//2)-1\n",
    "    indexer = np.arange(window_size)[None, :] + (window_size//2)*np.arange(windows)[:, None]\n",
    "    windowed_x = x[indexer]\n",
    "\n",
    "    avg_pwr=0\n",
    "    for window in windowed_x:\n",
    "        window = window * np.hanning(np.size(window))\n",
    "        L=np.size(window)+1                 \n",
    "        T=L*Ts                     \n",
    "        N = 2^nextpow2(L)\n",
    "        Fo=Fs/N                   \n",
    "        f=np.arange(0,N)*Fo\n",
    "        window_fft=np.fft.fft(window,N)\n",
    "        power=np.multiply(window_fft,np.conj(window_fft))/N/L\n",
    "        avg_pwr=avg_pwr+power\n",
    "    avg_pwr=avg_pwr/windows\n",
    "\n",
    "    fig, ax = plt.subplots()\n",
    "    fig.set_size_inches(18.5, 10.5)\n",
    "    ax.plot(f[np.arange(0,N//2)],avg_pwr[np.arange(0,N//2)])\n",
    "    ax.set(xlabel='Frequency (Hz)', ylabel='Power',\n",
    "           title='Periodogram pwelch()')\n",
    "    ax.grid()\n",
    "    plt.show()\n",
    "    \n",
    "    return f[np.arange(0,N//2)], avg_pwr[np.arange(0,N//2)]\n",
    "\n",
    "# ==============================================================================\n",
    "# Test the functions & plot the results\n",
    "# ==============================================================================   \n",
    "Fs=______\n",
    "f1,Pxx1 = pwelch(x,Fs)\n",
    "f2,Pxx2 = signal.welch(x,fs=Fs)\n",
    "\n",
    "fig, ax = plt.subplots()\n",
    "fig.set_size_inches(18.5, 10.5)\n",
    "ax.plot(f2,Pxx2)\n",
    "ax.set(xlabel='Frequency (Hz)', ylabel='Power',\n",
    "       title='Periodogram signal.welch()')\n",
    "ax.grid()\n",
    "plt.show()\n",
    "````\n",
    "`````\n",
    "`````{tab} Matlab\n",
    "````matlab\n",
    "% ==============================================================================\n",
    "% Custom nextpow2 and pwelch functions\n",
    "% ==============================================================================\n",
    "function N = nextpow2(i)\n",
    "    n = 1;\n",
    "    while n < i\n",
    "        n = n * 2;\n",
    "    end\n",
    "    N = log2(n); % This returns the exponent N such that 2^N = n, aligning with MATLAB's built-in nextpow2 behavior.\n",
    "end\n",
    "\n",
    "function [f, avgPwr] = pwelch(x, Fs)\n",
    "    Ts = 1/Fs;\n",
    "    L = length(x)+1;\n",
    "    T = L * Ts;\n",
    "    N = 2^nextpow2(L);\n",
    "    Fo = Fs / N;\n",
    "    f = (0:N-1) * Fo;\n",
    "    \n",
    "    windowSize = nextpow2(length(x)/8);\n",
    "    if (windowSize < 256)\n",
    "        windowSize = 256;\n",
    "    end\n",
    "    windows = floor(length(x) / (windowSize / 2)) - 1;\n",
    "    indexer = bsxfun(@plus, (1:windowSize)', (windowSize / 2) * (0:windows-1));\n",
    "    windowedX = x(indexer);\n",
    "    \n",
    "    avgPwr = 0;\n",
    "    for i = 1:size(windowedX, 2)\n",
    "        window = windowedX(:, i) .* hanning(size(windowedX, 1));\n",
    "        L = length(window)+1;\n",
    "        T = L * Ts;\n",
    "        N = 2^nextpow2(L);\n",
    "        Fo = Fs / N;\n",
    "        f = (0:N-1) * Fo;\n",
    "        windowFFT = fft(window, N);\n",
    "        power = (windowFFT .* conj(windowFFT)) / (N * L);\n",
    "        avgPwr = avgPwr + power;\n",
    "    end\n",
    "    avgPwr = avgPwr / windows;\n",
    "    \n",
    "    figure;\n",
    "    set(gcf, 'Position', [100, 100, 1850, 1050]);\n",
    "    plot(f(1:floor(N/2)), avgPwr(1:floor(N/2)));\n",
    "    xlabel('Frequency (Hz)');\n",
    "    ylabel('Power');\n",
    "    title('Periodogram pwelch()');\n",
    "    grid on;\n",
    "    \n",
    "    f = f(1:floor(N/2));\n",
    "    avgPwr = avgPwr(1:floor(N/2));\n",
    "end\n",
    "\n",
    "% ==============================================================================\n",
    "% Test the functions & plot the results\n",
    "% ==============================================================================\n",
    "Fs = _______; % Define your sampling frequency\n",
    "x = randn(1, 10000); % Example data, replace with your actual data\n",
    "\n",
    "[f1, Pxx1] = pwelch(x, Fs);\n",
    "[f2, Pxx2] = pwelch(x, Fs, [], [], Fs); % MATLAB's built-in function\n",
    "\n",
    "figure;\n",
    "set(gcf, 'Position', [100, 100, 1850, 1050]);\n",
    "plot(f2, Pxx2);\n",
    "xlabel('Frequency (Hz)');\n",
    "ylabel('Power');\n",
    "title('Periodogram signal.welch()');\n",
    "grid on;\n",
    "````\n",
    "`````\n",
    "``````"
   ]
  },
  {
   "cell_type": "code",
   "execution_count": 23,
   "metadata": {
    "tags": [
     "thebe-init",
     "hide-code-cell"
    ]
   },
   "outputs": [
    {
     "data": {
      "application/vnd.jupyter.widget-view+json": {
       "model_id": "73ccb813621441f6bca1512dca97efa4",
       "version_major": 2,
       "version_minor": 0
      },
      "text/plain": [
       "HBox(children=(HBox(children=(IntSlider(value=500, continuous_update=False, description='Sampling Frequency (F…"
      ]
     },
     "metadata": {},
     "output_type": "display_data"
    },
    {
     "data": {
      "application/vnd.jupyter.widget-view+json": {
       "model_id": "5ed424953a16471289225ca8d5865317",
       "version_major": 2,
       "version_minor": 0
      },
      "text/plain": [
       "Output()"
      ]
     },
     "metadata": {},
     "output_type": "display_data"
    }
   ],
   "source": [
    "# Loading animation HTML code\n",
    "loading = \"\"\"\n",
    "    <div style='display: flex; justify-content: center; align-items: center; height: 80px;'>\n",
    "        <div class='loader' style='border: 12px solid #f3f3f3; /* Light grey */\n",
    "                                     border-top: 12px solid #01cc97; /* Blue */\n",
    "                                     border-radius: 50%;\n",
    "                                     width: 40px;\n",
    "                                     height: 40px;\n",
    "                                     animation: spin 2s linear infinite;'></div>\n",
    "    </div>\n",
    "    <style>\n",
    "    @keyframes spin {\n",
    "        0% { transform: rotate(0deg); }\n",
    "        100% { transform: rotate(360deg); }\n",
    "    }\n",
    "    </style>\n",
    "    \"\"\"\n",
    "\n",
    "# HTML code to display a checkmark when loading is complete\n",
    "done = \"\"\"\n",
    "        <div style='display: flex; justify-content: center; align-items: center; height: 80px;'>\n",
    "            <div style='font-size: 40px; color: #01cc97;'>&#10003;</div>\n",
    "        </div>\n",
    "        \"\"\"\n",
    "\n",
    "# Create an HTML widget to display the loading animation\n",
    "loader_html4 = widgets.HTML(\n",
    "  value=loading\n",
    ")\n",
    "\n",
    "# Create an HTML widget to display the elapsed time\n",
    "timer_html4 = widgets.HTML(\n",
    "    value=\"Elapsed time: - seconds\"\n",
    ")\n",
    "\n",
    "# Function to calculate the next highest power of 2\n",
    "def nextpow2(i):\n",
    "    \"\"\"\n",
    "    Calculate the next power of 2 greater than or equal to the given integer.\n",
    "\n",
    "    Parameters:\n",
    "    i (int): Input integer.\n",
    "\n",
    "    Returns:\n",
    "    int: Next power of 2 greater than or equal to i.\n",
    "    \"\"\"\n",
    "    n = 1\n",
    "    while n < i:\n",
    "        n *= 2\n",
    "    return n\n",
    "\n",
    "# Custom implementation of the Welch's method for power spectral density estimation\n",
    "def pwelch(x, Fs):                    \n",
    "    \"\"\"\n",
    "    Estimate power spectral density using a custom implementation of Welch's method.\n",
    "\n",
    "    Parameters:\n",
    "    x (array_like): Input signal.\n",
    "    Fs (float): Sampling frequency.\n",
    "\n",
    "    Returns:\n",
    "    tuple: Frequencies and corresponding power spectral density estimates.\n",
    "    \"\"\"                 \n",
    "    Ts = 1 / Fs                    # Sampling period\n",
    "    L = np.size(x) + 1             # Length of the signal\n",
    "    T = L * Ts                     # Total duration\n",
    "    N = 2^nextpow2(L)              # FFT length (next power of 2)\n",
    "    Fo = Fs / N                    # Frequency resolution\n",
    "    f = np.arange(0, N) * Fo       # Frequency vector\n",
    "        \n",
    "    # Determine window size for segmenting the signal\n",
    "    window_size = nextpow2(np.size(x)/8)\n",
    "    if (window_size < 256):\n",
    "        window_size = 256\n",
    "    windows = np.size(x) // (window_size // 2) - 1  # Number of overlapping windows\n",
    "\n",
    "    # Create an indexer for overlapping windows\n",
    "    indexer = np.arange(window_size)[None, :] + (window_size // 2) * np.arange(windows)[:, None]\n",
    "    windowed_x = x[indexer]  # Segment the signal into overlapping windows\n",
    "\n",
    "    avg_pwr = 0  # Initialize average power\n",
    "    for window in windowed_x:\n",
    "        window = window * np.hanning(np.size(window))  # Apply Hanning window\n",
    "        L = np.size(window) + 1                 \n",
    "        T = L * Ts                     \n",
    "        N = 2^nextpow2(L)              # FFT length (next power of 2)\n",
    "        Fo = Fs / N                   \n",
    "        f = np.arange(0, N) * Fo\n",
    "        window_fft = np.fft.fft(window, N)  # Compute FFT\n",
    "        power = np.multiply(window_fft, np.conj(window_fft)) / N / L  # Compute power spectral density\n",
    "        avg_pwr = avg_pwr + power  # Accumulate power over all windows\n",
    "    avg_pwr = avg_pwr / windows  # Average the power spectral density\n",
    "\n",
    "    return f[np.arange(0, N // 2)], avg_pwr[np.arange(0, N // 2)]  # Return one-sided spectrum\n",
    "\n",
    "# Function to update plots based on slider value\n",
    "def update_plots3(Fs):\n",
    "    \"\"\"\n",
    "    Update the plots based on the sampling frequency slider value.\n",
    "\n",
    "    Parameters:\n",
    "    Fs (int): Sampling frequency (Hz).\n",
    "    \"\"\"\n",
    "    # Start timer and show loading animation\n",
    "    loader_html4.value = loading\n",
    "    start_time = time.time()\n",
    "\n",
    "    L = 1000  # Length of the signal\n",
    "    T = 1 / Fs  # Sampling period\n",
    "    t1 = np.arange(0, L) * T  # Time vector\n",
    "    \n",
    "    # Recompute signal x with new sampling frequency\n",
    "    last_x = np.sin(2 * np.pi * 30 * t1) + 0.8 * np.sin(2 * np.pi * 80 * (t1 - 2)) + np.sin(2 * np.pi * 60 * t1)\n",
    "    \n",
    "    # Compute power spectral density using custom pwelch function\n",
    "    f1, Pxx1 = pwelch(last_x, Fs)\n",
    "    \n",
    "    # Compute power spectral density using SciPy's signal.welch function\n",
    "    f2, Pxx2 = signal.welch(last_x, fs=Fs)\n",
    "    \n",
    "    # Create plots to compare the two methods\n",
    "    fig, axs = plt.subplots(2, 1, figsize=(15, 10))\n",
    "    \n",
    "    # Plot custom pwelch result\n",
    "    axs[0].plot(f1, Pxx1)\n",
    "    axs[0].set(xlabel='Frequency (Hz)', ylabel='Power', title='Periodogram pwelch()')\n",
    "    axs[0].grid()\n",
    "    \n",
    "    # Plot signal.welch result\n",
    "    axs[1].plot(f2, Pxx2)\n",
    "    axs[1].set(xlabel='Frequency (Hz)', ylabel='Power', title='Periodogram signal.welch()')\n",
    "    axs[1].grid()\n",
    "    \n",
    "    # Adjust layout to prevent overlap\n",
    "    plt.tight_layout()\n",
    "    # Show elapsed time\n",
    "    elapsed_time = time.time() - start_time\n",
    "    timer_html4.value = f\"Elapsed time: {elapsed_time:.2f} seconds\"\n",
    "    loader_html4.value = done\n",
    "\n",
    "# Create slider widget for sampling frequency Fs\n",
    "Fs_slider = widgets.IntSlider(\n",
    "    value=500,\n",
    "    min=100,\n",
    "    max=2000, \n",
    "    step=100,\n",
    "    description='Sampling Frequency (Fs):',\n",
    "    layout=Layout(width='auto', flex='1 1 auto'),\n",
    "    style={'description_width': 'initial'}, \n",
    "    continuous_update=False\n",
    ")\n",
    "\n",
    "# Display the sliders and output\n",
    "vbox_layout = Layout(display='flex', flex_flow='column', align_items='center')\n",
    "\n",
    "# Group the frequency inputs together in a horizontal box\n",
    "inputs_box = widgets.HBox([Fs_slider], layout=Layout(flex='1 1 auto', width='auto'))\n",
    "\n",
    "# Group the loader and timer together in a vertical box (they will appear next to each other horizontally)\n",
    "loader_timer_box = widgets.VBox([loader_html4, timer_html4], layout=widgets.Layout(margin='0 0 0 20px', width='auto'))\n",
    "\n",
    "# Arrange the inputs and the loader/timer horizontally\n",
    "ui = widgets.HBox([inputs_box, loader_timer_box], layout=Layout(display='flex', justify_content='center', width='100%', align_items='center'))\n",
    "\n",
    "# Create an interactive output that updates when the slider value changes\n",
    "out = widgets.interactive_output(update_plots3, {'Fs': Fs_slider})\n",
    "\n",
    "# Display the UI and the output\n",
    "display(ui, out)\n"
   ]
  }
 ],
 "metadata": {
  "kernelspec": {
   "display_name": "base",
   "language": "python",
   "name": "python3"
  },
  "language_info": {
   "codemirror_mode": {
    "name": "ipython",
    "version": 3
   },
   "file_extension": ".py",
   "mimetype": "text/x-python",
   "name": "python",
   "nbconvert_exporter": "python",
   "pygments_lexer": "ipython3",
   "version": "3.11.5"
  }
 },
 "nbformat": 4,
 "nbformat_minor": 4
}
