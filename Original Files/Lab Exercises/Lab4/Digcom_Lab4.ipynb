{
 "cells": [
  {
   "cell_type": "markdown",
   "metadata": {},
   "source": [
    "## Εργαστηριακή Άσκηση 4\n",
    "### Φίλτρα Nyquist"
   ]
  },
  {
   "cell_type": "code",
   "execution_count": null,
   "metadata": {},
   "outputs": [],
   "source": [
    "import numpy as np\n",
    "import matplotlib.pyplot as plt\n",
    "import random\n",
    "import scipy.signal\n",
    "import scipy.special\n",
    "from math import log"
   ]
  },
  {
   "cell_type": "code",
   "execution_count": 50,
   "metadata": {},
   "outputs": [],
   "source": [
    "# Η συνάρτηση grayCode δέχεται έναν αριθμό n και επιστρέφει έναν πίνακα g που περιέχει \n",
    "# την κωδικοποίηση Gray για αριθμούς με n bits. \n",
    "# Αυτό γίνεται καλώντας αναδρομικά την συνάρτηση gray_code_recurse\n",
    "\n",
    "def grayCode(n):\n",
    "    def gray_code_recurse (g,n):\n",
    "        k=len(g)\n",
    "        if n<=0:\n",
    "            return\n",
    "        else:\n",
    "            for i in range (k-1,-1,-1):\n",
    "                char='1'+g[i]\n",
    "                g.append(char)\n",
    "            for i in range (k-1,-1,-1):\n",
    "                g[i]='0'+g[i]\n",
    "\n",
    "            gray_code_recurse (g,n-1)\n",
    "\n",
    "    g=['0','1']\n",
    "    gray_code_recurse(g,n-1)\n",
    "    return g"
   ]
  },
  {
   "cell_type": "code",
   "execution_count": 51,
   "metadata": {},
   "outputs": [],
   "source": [
    "# Η συνάρτηση naturalBinaryCoding δέχεται έναν αριθμό n  και επιστρέφει έναν πίνακα\n",
    "# με δυαδικούς αριθμούς με n bits (ή ισοδύναμα μέχρι τον αριθμό 2**n, ο οποίος προκύπτει\n",
    "# με αριστερή ολίσθηση του 1 κατά n bits)\n",
    "\n",
    "def naturalBinaryCoding(n):\n",
    "    binary_levels = []\n",
    "    for i in range(1 << n):\n",
    "        binary_levels.append('{:0{}b}'.format(i, n))\n",
    "    return binary_levels"
   ]
  },
  {
   "cell_type": "code",
   "execution_count": 52,
   "metadata": {},
   "outputs": [],
   "source": [
    "# Η συνάρτηση generateRandomBits παράγει n_bits τυχαία δυαδικά ψηφία\n",
    "\n",
    "def generateRandomBits(n_bits):\n",
    "    bitstream = []\n",
    "    for i in range(n_bits):\n",
    "        random_bit = random.randint(0, 1)\n",
    "        bitstream.append(random_bit)\n",
    "    return bitstream"
   ]
  },
  {
   "cell_type": "code",
   "execution_count": 53,
   "metadata": {},
   "outputs": [],
   "source": [
    "# Η συνάρτηση createLevels χωρίζει το διάστημα [-Α, Α] σε L-1 ίσα διαστήματα,\n",
    "# έτσι ώστε να περιέχει πάντα τα άκρα του διαστήματος\n",
    "\n",
    "def createLevels(A, L):\n",
    "    y = []\n",
    "    step = (A - (-A)) / (L - 1)\n",
    "    for i in range(L):\n",
    "        y.append(-A + i * step)\n",
    "    return y"
   ]
  },
  {
   "cell_type": "code",
   "execution_count": 54,
   "metadata": {},
   "outputs": [],
   "source": [
    "# Η συνάρτηση createSymbols δέχεται ως όρισμα έναν πίνακα με bits και\n",
    "# ομαδοποιεί τα γειτονικά ψηφία σε σύμβολα με μήκος k\n",
    "\n",
    "def createSymbols(k, bitstream):\n",
    "    n_bits = len(bitstream)\n",
    "    symbols = []\n",
    "    for i in range(0, n_bits - k + 1, k):\n",
    "        symbol = \"\"\n",
    "        for j in range(k):\n",
    "            symbol += str(bitstream[i+j])\n",
    "        symbols.append(symbol)\n",
    "    return symbols"
   ]
  },
  {
   "cell_type": "code",
   "execution_count": 55,
   "metadata": {},
   "outputs": [],
   "source": [
    "# Η συνάρτηση rootRaisedCosine δημιουργεί έναν παλμό τετραγωνικής ρίζας ανυψωμένου συνημιτόνου \n",
    "# με συντελέστή εξάπλωσης roll_off και τάξη που καθορίζεται από τον ρυθμό δειγματόληψίας (nsample) \n",
    "# και την καθύστερηση που θα εισάγει (delay)\n",
    "\n",
    "def rootRaisedCosine(nsamp, roll_off, delay,filter_order):\n",
    "    F0 = 0.5 / nsamp\n",
    "    Fd = 1\n",
    "    Fs = Fd * nsamp\n",
    "    Td = 1 / Fd\n",
    "    Ts = 1 / Fs\n",
    "    F1 = F0 * (1 - roll_off)\n",
    "    F2 = F0 * (1 + roll_off)\n",
    "    #filter_order = 2 * nsamp * delay\n",
    "\n",
    "    t = np.arange(0, filter_order, Td)\n",
    "    h = []\n",
    "    for i in range(len(t)):\n",
    "        t_shifted = t[i] - filter_order / 2\n",
    "        if t_shifted == 0:\n",
    "            h.append(np.sqrt(2 * F0) *(1 + roll_off * ((4 / np.pi) - 1)))\n",
    "        elif t_shifted == 1 / 8 / roll_off / F0 or t_shifted == - 1 / 8 / roll_off / F0 :\n",
    "            h.append((roll_off * np.sqrt(F0)) * ((1 + 2 / np.pi) * np.sin(np.pi / 4 / roll_off) + (1 - 2 / np.pi) * np.cos(np.pi / 4 / roll_off)))\n",
    "        else:\n",
    "            factor1 = np.sqrt(2 * F0) / (1 - 64 * roll_off* roll_off * F0 * F0 * t_shifted * t_shifted)\n",
    "            factor2 = np.sin(2 * np.pi * F1 * t_shifted) / (2 * np.pi * F0 * t_shifted)\n",
    "            factor3 = (4 * roll_off / np.pi) * np.cos(2 * np.pi * F2 * t_shifted) \n",
    "            h.append(factor1 * (factor2 + factor3))\n",
    "\n",
    "\n",
    "    plt.plot(t,h)\n",
    "    plt.grid()\n",
    "    plt.title('Root raised cosine filter of order %d and roll-off factor %.1f' % (filter_order, roll_off))\n",
    "    plt.show()\n",
    "    \n",
    "    return h"
   ]
  },
  {
   "cell_type": "code",
   "execution_count": 56,
   "metadata": {},
   "outputs": [],
   "source": [
    "# Η συνάρτηση upSample αυξάνει τον αριθμό των δειγμάτων ενός σήματος signal προσθέτοντας nsamp-1\n",
    "# μηδενικά μετά από κάθε δείγμα του σήματος\n",
    "\n",
    "def upSample(signal, nsamp):\n",
    "    upSampled = []\n",
    "    for i in range(len(signal) * nsamp):\n",
    "        if i % nsamp == 0:\n",
    "            upSampled.append(signal[i // nsamp])\n",
    "        else:\n",
    "            upSampled.append(0)\n",
    "    return upSampled"
   ]
  },
  {
   "cell_type": "code",
   "execution_count": 57,
   "metadata": {},
   "outputs": [],
   "source": [
    "# Η συνάρτηση downSample μειώνει την συχνότητα δειγματοληψία ενός σήματος signal κατά έναν παράγοντα nsamp \n",
    "# κρατώντας μόνο τα δείγματα που είναι πολλάπλάσια του nsamp (0, nsamp, 2*nsamp, ...)\n",
    "\n",
    "def downSample(signal, nsamp):\n",
    "    downSampled = []\n",
    "    for i in range(0, len(signal), nsamp):\n",
    "        downSampled.append(signal[i])\n",
    "        \n",
    "    return downSampled"
   ]
  },
  {
   "cell_type": "code",
   "execution_count": 58,
   "metadata": {},
   "outputs": [],
   "source": [
    "# Προσθέτει λευκό γκαουσσιανό θόρυβο με μέση τιμή μ (mu) και διασπορά σ^2 (sigma)\n",
    "\n",
    "def generateAWGN(signal, mu, sigma):\n",
    "    noise = sigma * np.random.randn(len(signal)) + mu\n",
    "    return noise"
   ]
  },
  {
   "cell_type": "code",
   "execution_count": 59,
   "metadata": {},
   "outputs": [],
   "source": [
    "n_bits = 10000\n",
    "bitstream = generateRandomBits(n_bits) # Δημιουργία τυχαίων bits\n",
    "\n",
    "L = 32 # Αριθμός επιπέδων της ASK\n",
    "A = L-1 \n",
    "k = int(log(L,2)) # Αριθμός ψηφίων σε κάθε σύμβολο\n",
    "n_symb = n_bits / k # Αριθμός συμβόλων που προκύπτουν από τα τυχαία bits\n",
    "\n",
    "y_levels = createLevels(A, L) # [-15, -13, -11 ... 11 13 15]\n",
    "\n",
    "symbols = createSymbols(k, bitstream) # Ομαδοποίηση σε σύμβολα\n",
    "\n",
    "gray_encoding = grayCode(k) # Εφαρμογή κωδικοποίησης Gray\n",
    "\n",
    "# Η x_gray περιέχει το επίπεδο τάσης στο οποίο αντιστοιχεί καθένα από τα σύμβολα\n",
    "x_gray = [] \n",
    "for i in range(len(symbols)):\n",
    "    x_gray.append(y_levels[gray_encoding.index(symbols[i])])"
   ]
  },
  {
   "cell_type": "code",
   "execution_count": 60,
   "metadata": {},
   "outputs": [
    {
     "data": {
      "image/png": "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\n",
      "text/plain": [
       "<Figure size 432x288 with 1 Axes>"
      ]
     },
     "metadata": {
      "needs_background": "light"
     },
     "output_type": "display_data"
    },
    {
     "data": {
      "image/png": "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\n",
      "text/plain": [
       "<Figure size 432x288 with 1 Axes>"
      ]
     },
     "metadata": {
      "needs_background": "light"
     },
     "output_type": "display_data"
    }
   ],
   "source": [
    "nsamp = 16\n",
    "roll_off = 0.25\n",
    "delay = 4\n",
    "filter_order = 128\n",
    "\n",
    "# Δημιουργία του φίλτρου ανυψωμένου συνημιτόνου\n",
    "# Υπερδειγμάτιση και συνέλιξη με τους τυχαίους ακεραίους \n",
    "filt = rootRaisedCosine(nsamp, roll_off, delay,filter_order)\n",
    "y = upSample(x_gray, nsamp)\n",
    "y_transmitted = scipy.signal.convolve(y, filt)\n",
    "\n",
    "# Στον δέκτη το σήμα φιλτράρεται πάλι από το φίλτρο root raised cosine\n",
    "y_received = scipy.signal.convolve(y_transmitted, filt)\n",
    "y_final = downSample(y_received, nsamp)\n",
    "\n",
    "# Αποκόπτουμε τις ουρές που προέκυψαν από τις συνελίξεις\n",
    "y_final = y_final[2 * delay: len(y_final) - 2 *delay]\n",
    "\n",
    "# Εμφανίζουμε σε κοινό διάγραμμα το ληφθέν σήμα μετά την υποδειγμάτιση \n",
    "# και τους αρχικούς τυχαίους ακεραίους\n",
    "t = np.arange(0, len(y[:10]))\n",
    "plt.figure()\n",
    "plt.plot(t, y_final[:10])\n",
    "plt.stem(t, x_gray[:10])\n",
    "plt.legend(['Received','Transmittted'])\n",
    "plt.grid()\n",
    "plt.show()"
   ]
  },
  {
   "cell_type": "code",
   "execution_count": 61,
   "metadata": {},
   "outputs": [
    {
     "data": {
      "image/png": "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\n",
      "text/plain": [
       "<Figure size 432x288 with 1 Axes>"
      ]
     },
     "metadata": {
      "needs_background": "light"
     },
     "output_type": "display_data"
    }
   ],
   "source": [
    "# Υπολογίζουμε την φασματική πυκνότητα ισχύος του ληφθέντος σήματος\n",
    "\n",
    "f, Pxx_den = scipy.signal.welch(y_received, window='hamming', nperseg=8192)\n",
    "Pxx_den = 10 * np.log10(Pxx_den)\n",
    "fig = plt.figure()\n",
    "plt.plot(f, Pxx_den)\n",
    "plt.grid()\n",
    "plt.title('Power spectral density of the received signal')\n",
    "plt.xlabel('Normalized frequency')\n",
    "plt.ylabel('Power/frequency')\n",
    "plt.show()"
   ]
  },
  {
   "cell_type": "code",
   "execution_count": 62,
   "metadata": {},
   "outputs": [
    {
     "data": {
      "image/png": "iVBORw0KGgoAAAANSUhEUgAAAZ8AAAEWCAYAAAC5XZqEAAAABHNCSVQICAgIfAhkiAAAAAlwSFlzAAALEgAACxIB0t1+/AAAADl0RVh0U29mdHdhcmUAbWF0cGxvdGxpYiB2ZXJzaW9uIDMuMC4zLCBodHRwOi8vbWF0cGxvdGxpYi5vcmcvnQurowAAIABJREFUeJzt3Xd4VGXax/HvnU4IhF5DbwohlAAWVEIRsYDoAtYVVldfC6KyFnQRFdeyuuqKDRvqKirYAFkLgpQF6UhHpAgSeg0EAgRyv3+cCQ7DTJiEKZnk/lzXXJk59ZdDyJ1zznOeR1QVY4wxJpSiwh3AGGNM6WPFxxhjTMhZ8THGGBNyVnyMMcaEnBUfY4wxIWfFxxhjTMhZ8TGmhBDHeyKyV0TmhTuPMQWx4mNKBBHZICI5IpLt+uX7XxGp4zb/fRE56pqf/1rimldfRNRt+gYRGRK+76bILgAuBlJUtcOZbsztuMQUYp2yrmP4jZd5F4jITyKSJSJ7RGSWiLR3zRsgIjPdli3vmv+FiMSe6fdiih8rPqYk6amqSUBNYDvwisf851Q1ye3VymN+Bdf6fYBHReTiYIYtzC91P9UDNqjqwTBm6QMcAbqLSE237ZcHJuL8m1QCagNPuJb1zFIRmAxsBK5R1dwAZTPFiBUfU+Ko6mHgc6B5EddfAKwAWvtaRkRaiMgPrr/gt4vII67p74vIP9yWyxCRTLfPG0TkIRFZChwUkaEi8rnHtl8WkRGu98ki8q6IbBWRzSLyDxGJ9pLnFuAd4DzXmccTrum3ishaV84JIlLLbR0VkbtEZA2wpijHyov+wEhgKXCD2/SmAKr6iaoeV9UcVZ2kqks9vo8qwI84x/9GVT0WoFymmLHiY0ocEUkErgHmFHH9c4FUYK2P+eVw/jL/DqgFNAamFGIX1wGXAxWAD4HLXGcGuApLP+Bj17IfAMdc+2gDdAf+6rlBVX0XuB2Y7Tqre0xEugDPuLZXE+dM4lOPVXsD51DEQu1OROoCGcBo1+smt9m/AsdF5AMRudR1duOpEjAdmAvcrKp5Z5rJFF9WfExJMk5E9gH7ce59PO8x/34R2ef2+sBj/i4RyQFmA68D43zs5wpgm6q+oKqHVfWAqs4tRM4RqrrJ9df/RmARThEA6AIcUtU5IlIduBS4V1UPquoO4CXgWj/3cwMwSlUXqeoR4GGcM6P6bss8o6p7VDWnEPl9uQlYqqorgU+AFiLSBkBV9+Pck1LgbWCn60ysutv6dXDOkN5T63SyxLPiY0qS3qpaAYgHBgLTRaSG2/x/qWoFt1d/j/WrAEnA/Th/wfu60V0HWHcGOTd5fP4Y52wI4Hr+OOup58qwNb9gAm8C1fzcTy2csx0AVDUb2I1zv8VXFr94NNyo65p8E84ZD6q6Becs5sQxVtVVqjpAVVNwzixrAf922+wSnGP/bX7RMiWXFR9T4rjuKXwJHMf5a7uw674AHAbu9LHYJqCRj3kHgUS3zzW8LOP5V/1nQIaIpABX8Ufx2YRzQ76KW8Esr6ot/PhWALbgFDDAaYkGVAY2F5DFLx4NN34XkfOBJsDDIrJNRLbhXM67zltjBlX9BXgfpwi5T38ZeBb4QURSPdczJYcVH1PiuJ53uRKoCKwq4maeBR4UkQQv8yYCNUTkXhGJF5FyInKOa95inHs4lVxnXfeebkequhOYBrwH/Kaqq1zTtwKTgBdcTY+jRKSRiHTy83v4GPiLiLQWkXjgaWCuqm7wc/188SKS4Pby9nujP/ADzr2j1q5XKk4hvlREzhKRv7kKLOI0g78OL/flVPU54GVgsog0K2RWEyGs+JiS5GsRyca55/MU0F9VV7jNf9DjctGuArb1X2AvcKvnDFU9gHNPqSewDaelWGfX7A9xLh9twCkcY/zM/jHQjT/OevLdBMQBK115PsdpPHBaqjoFeBT4AtiKc7bm7/0id9lAjturi/tMV4HuB7yiqtvcXr/hHI/+wAGcM6G5InIQp+gsB/7mI/uTOK33poiIr7NME8HE7usZY4wJNTvzMcYYE3JWfIwxxoScFR9jjDEhZ8XHGGNMyAW6Y8MSo0qVKlq/fv0irXvw4EHKli0b2EBBYDkDL1KyWs7AipScENysCxcu3KWqVf1aWFXt5eWVnp6uRTV16tQirxtKljPwIiWr5QysSMmpGtyswAL183esXXYzxhgTclZ8jDHGhJwVH2OMMSFnDQ6MMSVCbm4umZmZHD58OOT7Tk5OZtWqonYjGFqByJqQkEBKSgqxsUUf4dyKjzGmRMjMzKRcuXLUr18fEQnpvg8cOEC5cuVCus+iOtOsqsru3bvJzMykQYMGRd6OXXYLpKVj4aVUOk3rDS+lOp+NMSFx+PBhKleuHPLCU9qICJUrVz7jM0w78wmUpWPh60GQm4MAZG1yPgOk9QtnMmNKDSs8oRGI42xnPoEyZTjkeoxEnJvjTDfGGHMSKz6BkpXpdbJmZbJm+wEO5x4PcSBjTDg89dRTtGjRgrS0NFq3bs3cuXP561//ysqVKwOy/fr167NrV0FDUcHTTz990ufzzz8/IPsOJLvsFijJKc6lNg+b8ypz8UszAKhWLp66lRKpWymROq6vdSs7X6uVi7dLBsZEuNmzZzNx4kQWLVpEfHw8u3bt4ujRo7zzzjshzfH000/zyCOPnPj8008/hXT//rAzn0DpOgxiy5w0SWPKkNt5KC9f25q/XdyUTk2rEh0lzFm/mxE/ruFvny2h78jZnPP0FM569DsufnE6b736LPueaoo+XoHDz53N7tkfkZdnA/4ZEwm2bt1KlSpViI+PB6BKlSrUqlWLjIwMFixYAEBSUhIPPfQQ6enpdOvWjXnz5pGRkUHDhg2ZMGECAO+//z4DBw48sd0rrriCadOmnbK/3r17k56eTosWLXjrrbcAGDJkCDk5ObRu3ZobbrjhxD7Baak2dOhQUlNTadmyJWPGOAPtTps2jYyMDPr06cNZZ53FDTfcgAZ5oFE78wmU/EYFU4ajWZlIcgrSdRgN0vrhrTHikWPH2bw3h9/3HGLTnkP8vucQ1TdO4MYdL5LAEQASDm0h77v7eODbVayodAmNqibRsGpZGlYtS4MqzvvyCUVvZ29MSfXE1ytYuWV/QLfZvFZ5HuvZosBlunfvzvDhw2natCndunXjmmuuoVOnTictc/DgQTIyMvjnP//JVVddxdChQ/nhhx9YuXIl/fv3p1evXn5nGjVqFJUqVSInJ4f27dvzpz/9iWeffZZXX32VxYsXn7L8l19+ybJly1iyZAm7du2iffv2XHTRRQD8/PPPrFixglq1atGxY0dmzZrFBRdc4HeWwrLiE0hp/SCtH9Ndf0UUJD4mmoZVk2hYNemPiS/1A1fhyZcoR3k0/nMGV+jNii1ZfLdiG8fdzoSqJMXTsGpZGlUtS0NXQWpQpSx1KyUSE20ntsaEUlJSEgsXLuR///sfU6dO5ZprruHZZ589aZm4uDh69OgBQMuWLYmPjyc2NpaWLVuyYcOGQu1vxIgRfPXVVwBs2rSJNWvWULlyZZ/Lz5w5kz59+hAdHU316tXp1KkT8+fPp3z58nTo0IGUlBQAWrduzYYNG6z4lBo+Gi1UOLqdUQPaA3D0WB6/7znIup0H+W3XQdbvzGb9zoN8v2I7ew4695x6Rc3kodix1JTd7IupxvxGA4lqdQ3NqpcjpWIZoqLs3pIp2U53hhJM0dHRZGRkkJGRQcuWLfnggw9Omh8bG3vi/m5UVNSJS3RRUVEcO3YMgJiYGPLy8k6s4+2ZmmnTpjF58mRmz55NYmIiGRkZp332pqBLafk58r+H/CzBYsWnOPHRaIHklBNv42KiaFytHI2rnfqE8r5DR9kzZzR1Z40i5rjzQ1jp2HYu/OVJhizbyq15F5AYF02T6uU4q3o5orJziV27i6bVy1G1XPzJG1s61mkmnpXp7L/rMHteyZjTWL16NVFRUTRp0gSAxYsXU69ePZYvX16o7dSvX5/XX3+dvLw8Nm/ezLx5805ZJisri4oVK5KYmMgvv/zCnDlzTsyLjY0lNzf3lO5vLrroIl577TX+7//+jz179jBjxgyef/55fvnllyJ8t2fGik9x0nXYiQdVT4gt40z3Q4XEOCoseQGOn/zXT6Ic5fmK4zm/0x38su0Av24/wORV29l98Cif/DIXgMpl42havRzNapSj+/EZnLP8CaKPu3LYA7PG+CU7O5u7776bffv2ERMTQ+PGjXnrrbfo06dPobbTsWNHGjRoQMuWLUlNTaVt27anLNOjRw9GjhxJWloazZo149xzzz0x77bbbiMtLY22bdsyevToE9Ovuuoqpk+fTqtWrRARnnvuOWrUqBGW4iPBbtEQqdq1a6f5rVMKa5of93x8OtMzjscrAN7+TQUe33fSlAnfT6Vyo5as3nbAeW13CtMk7iIl6tTnCA6XrcXRu5eGvJHDGR3PEIuUrCUx56pVqzj77LODG8iH0tS3Wz5vx1tEFqpqO3/WtzOf4sbVaKHI/Lh0l698vNCxcRU6Nq5yYlpeniLDd3vddFz2Vs56fBL1KyeSWjuZlq5Xi9rJJJexVnfGGP9Z8SlpzvDSXVSU+CxgR8vW5IGMZizLzOLn3/cxcenWE/PqeRSk1FrJJCdaQTLGeGfFp6Rxe96oyJfufBSwhB5PcFda4xOT9hw8yvLNWSzbnMXyzVks2bSP/7oKUq+omTwS/xnVdRfZCTXYc84Qal10E7GFaf7tugTZKSsTfrZGD8aUJFZ8SqIzvXTnZwGrVDaOi5pW5aKmVU9M23vwKNtnfUijOaOIzXMaPpQ7vJXoaQ8wZOoaMmtfQbv6FUmvV5G2dStSITHOewbrJdyYEs2Kj/GuiAWsYtk4Kq54CfJObXH3aPxn9M+9lDenr+eY60HZJtWSSK/nFKN29StRv3Ki8wxEQb2EW/ExJuJZ8TGB5/Nh2R2MH3gBh44eY8mmLBb9vpcFG/bwzbKtfDrfucdUuWwcbetV5K2sTLw+Cutj28aYyGLFxwTeaVrcJcbFcF6jypzXyOkGJC9PWbszm4Ub97Jgw14WbtzD5rzKXpt7a3Jt70XJmDDbvXs3Xbt2BWDbtm1ER0dTtWpVNmzYQK1atQI2pII/Fi9ezJYtW7jssssAmDBhAitXrmTIkCGF3lb9+vVZsGABVapUOf3ChWDFxwReIVvcRUUJTauXo2n1clzXoS4A++c9yfHv7yPa7YHZQxrHsL292TlqHhc0rsL5jStzdo3y1l2QKZoA9+JRuXLlE515Pv744yQlJXH//fezYcMGrrjiikClPuHYsWPExHj/Fb548WIWLFhwovj06tWrUB2WhoL1PGkCL60f9BwByXUAcb72HFGo/9jlO1xP9JWvQHIdFCGvfAprz3masunXsXlfDk99s4rLR8yk3VOTGfjxIj6Z9zub9hwK3vdkSpb8Bi1ZmwD9o0HL0rFB2d3x48e59dZbadGiBd27dycnx/nDbN26dfTo0YP09HQuvPDCEz0NbNy4ka5du5KWlkbXrl35/fffARgwYACDBw+mc+fOPPTQQxw8eJCbb76Z9u3b06ZNG8aPH8/Ro0cZNmwYY8aMoXXr1owZM+akIRp27NjBVVddRatWrWjVqtWJsX68Dc8QTHbmY4LjTFvcuW0jv5fwNCDNNWtb1mFmrd3FrHW7mLV214lnjupUKsMFrgdnz29UhUrrxlkfdeZUIW7QsmbNGj755BPefvtt+vXrxxdffMGNN97IbbfdxsiRI2nSpAlz587lzjvv5Mcff2TgwIHcdNNN9O/fn1GjRjFo0CDGjRsHwK+//srkyZOJjo7mkUceoUuXLowaNYp9+/bRoUMHunXrxvDhw1mwYAGvvvoq4IwPlO/BBx+kU6dOfPXVVxw/fpzs7GzA+/AMBfWQfaas+JiIVCM5gT+lp/Cn9BRUlXU7s5m1djcz1+5i4pKtfDJvE72iZvJc3Lsnxkey5trmBF8NV4LUoKVBgwa0bt0agPT0dDZs2EB2djY//fQTffv2PbHckSPOz+rs2bP58ssvAfjzn//Mgw8+eGKZvn37Eh0dDcCkSZOYMGEC//rXvwCn9+v8syRfpk+fzscffww4vVcnJycDhR+e4UxZ8TERT0RO9PTd//z6HDuex7LNWTQaPZiEIyePj0RuDge/HcbRRr2pWNbHM0am5CtEN1SB4DlcQU5ODnl5eVSoUMHroG+e8odgAChbtuyJ96rKF198QbNmzU5afu7cuYXKV5ThGc6U3fMxJU5MdBRt6lak/JHtXueXObSNdk9N5po3Z/PO/9azYdfBgje4dCy8lOp02vpSatDuC5gQ8jLsfWG6oQqE8uXL06BBAz777DPAKSRLliwB4Pzzz+fTTz8FYPTo0T4Hdbvkkkt45ZVXTozT8/PPPwNQrlw5Dhw44HWdTp068cYbbwDOvaj9+/cXODxDsFjxMSWXj79ijyXV4s6MRmTl5PKP/64i41/T6PbidP753S8s3Lj3pJFiQ31j2oRIABrFBMLo0aN59913adWqFS1atGD8+PGAcwnsvffeIy0tjQ8//JCXX37Z6/qPPvooubm5pKWlkZqayqOPPgpA586dWbly5YkGB+6ee+45pk6dSsuWLUlPT2fFihX06NGDY8eOkZaWxqOPPnrS8AzBYkMq+BC2IRVCqMTndOui54TYMif9ktm05xBTVm3nh1Xbmbt+D8fylCpJcXQ5qxrdzq5Ot++7ErXfy32A5Dpw36kDhJX4YxpiNqRC4NmQCsYEmx991NWplMiAjg0Y0LEBWTm5TP91J5NXbufb5dsYuyCT9fGb8fpUq/W0YMwZseJjSrZCNPlOLhNLr1a16NWqFrnH85j32x72j6lGhdxT7x3lla9t16yNOQP2/8cYL2Kjo+jYuAoVev4D9bgxfUjjeGBvb+4avYjvV2zjyLHjYUppPNlthNAIxHG2Mx9jCpLWz7nq5rp0p8kp7Gj9N8od6MD0pVv477KtlE+I4fK0mvRqVZs8++UXNgkJCezevZvKlSuf1DTZBJaqsnv3bhISEs5oO1Z8jDkdt0t3AtQHHgeGXn42M9fuYsLiLUxYvIVP5m2iUoLQN2cVvVrXonnN8vZLMIRSUlLIzMxk586dId/34cOHz/iXcagEImtCQgIpKWf2TJQVH2OKKCY6ioxm1choVo2co8f5YdV2Rk1eyrszf+PNGetpUi2J3m1q06tVLepUSgx33BIvNjaWBg0ahGXf06ZNo02bNmHZd2EVl6xWfIwJgDJx0fRqVYvye3+lVfvz+e+yrUxYvIXnv1/N89+vJr1eRXq3rsXlabWoZD0rGGPFx5hAq1g2jhvPrceN59Yjc+8hJixxLss9On4FT05cxWUta3DjufVIr1fRLsuZUsuKjzFBlFIxkTszGnNnpUUcnfQ4sdlb2LqqMs8u7cfQapdy47n16N2mNknx9l/RlC7W1NqYYHP1tBCXvRlBqSW7eDFhFF1ypzF03HLOfXoKj45bzupt3vviMqYksuJjTLB5GTsmJu8wD8SM5as7z+eSFjUYs2ATl/x7Bv1Gzmb84s0cPZYXprDGhIad6xsTbD664pGsTNrUrUibuhUZevnZfL4wk4/mbuSeTxfzZNJK+rWrw/Xn1CWlorWUMyWPFR9jgs2PsWMqlo3j1osacssFDZi5dhcfztnIyOnreGP6Oro0q8aN59WjU5OqREVZAwVTMljxMSbYug7z3ru2l7FjoqKEi5pW5aKmVdmyL4dP5/3OJ/M38Zf35lOnUhmu71CPa9rXsebaJuJZ8TEm2PzoXdubWhXKMLh7M+7u2oRJK7az/sdR9PzxVipM3c2++OrQZRgVzr0hBN+AMYFnxceYUChE79qeYqOjuJz/wcFXIMo5e6pwdBuHvr2XT1ds4/zed1C3st0XMpHFWrsZEwm8tJhLlKNc+PvrdH5hGveNWcya7dZU20QOKz7GRAIfLeZqyW5u7lif71dso/u/Z3D7hwtZvjkrxOGMKTwrPsZEgmTvPQhLcgp/v7w5sx7qwt2dGzNr3S6ueGUm/UfNY/6GPSEOaYz/rPgYEwm6DnNayLlzazFXsWwcg7s3Y9aQLjxwSTOWb86i78jZ9HtzNjN+3WmDrJlix4qPMZEgrR/0HAHJdQBxvvYccUojhvIJsdzVuTEzH+rCsCua8/vuQ9w0ah69X5vFpBXbyMuzImSKB2vtZkykKESLuTJx0dx8QQNuOLcuXy7azBvT1nHbhwu5veJCBvExnXK2wc/+Nfk2Jhis+BhTgsXHRHNdh7r0TU/h5/++TctFr5LAEWdm1ib060HOMOFWgEyI2WU3Y0qBmOgo2q975Y/C4yK5OeROejw8oUypZsXHmNLCR3Pt6ANbePjLZew8cMTrfGOCoVQUHxFpKCLvisjn4c5iTNj4aK69P74any3YROd/TeP1aWs5nHs8xMFMaVTsi4+IjBKRHSKy3GN6DxFZLSJrRWRIQdtQ1fWqektwkxpTzPlorl3hin8w6b6LOK9RZZ77bjVdX5jOhCVbrHm2CapiX3yA94Ee7hNEJBp4DbgUaA5cJyLNRaSliEz0eFULfWRjiiG35trq0Vy7YdUk3r6pHR/feg7JZWIZ9MnPXP3GTyzcuDfcqU0JJaf760ZEUlV1eYELBZmI1Acmqmqq6/N5wOOqeonr88MAqvrMabbzuar2KWD+bcBtANWrV0//9NNPi5Q3OzubpKSkIq0bSpYz8CIla0E581SZtfkYX6zJZd8RpUONaPo2jaNqYuj/Vi0Jx7O4CWbWzp07L1TVdn4trKoFvoCZwDzgTqDC6ZYPxguoDyx3+9wHeMft85+BVwtYvzIwElgHPOzPPtPT07Wopk6dWuR1Q8lyBl6kZPUnZ/bhXH1h0mptNvQbbfL3b/SZb1bp/pyjqkvGqL7YQvWxZOfrkjFhzVkcREpO1eBmBRaon7/XT/ucj6peICJNgJuBBSIyD3hPVX/wuxwGnrfhHH2ewqnqbuD24MUxpuQpGx/D4Iubcl2HOjz//WpGTl/HgXmjeULeIibvsLNQ1iZnoDywZ4VMofh1Hq2qa4ChwENAJ2CEiPwiIlcHM1wBMoE6bp9TgC1hymJMiVYzuQwv9mvNhIEduVc+/aPw5MvNcYZ8MKYQTlt8RCRNRF4CVgFdgJ6qerbr/UtBzufLfKCJiDQQkTjgWmBCmLIYUyqkpVSgSt5O7zN9PENkjC/+nPm8CiwCWqnqXaq6CEBVt+CcDQWViHwCzAaaiUimiNyiqseAgcD3OEVxrKquCHYWY0o78fGs0OHEmiFOYiKdP8XnS1X9UFVPDKMoIvcAqOqHQUvmoqrXqWpNVY1V1RRVfdc1/RtVbaqqjVT1qWDnMMbg9Vmhw8Tz4L7eDPliKfsP54YpmIk0/hSfm7xMGxDgHMaYSOBlaIeoK0dQ88KbGLtgE5e8NINpq3ecfjtLx8JLqfB4Befr0rFBj26KF5+t3UTkOuB6oIGIuN9PKQfsDnYwY0wx5TG0QxzwMNCjRQ0e/HwpA96bT9/0FIZe0ZzkMrGnrr90rNNCLtd1McVazJVKBTW1/gnYClQBXnCbfgBYGsxQxpjI06ZuRb6++wJGTFnDmzPWM2PNTp6+qiVdz65+8oJThv9RePLlt5iz4lNq+Cw+qroR2AicF7o4xphIlhAbzYM9zqJHag0e+Gwpt3ywgKvb1GZYz+ZUSIxzFvLVMs5azJUqPrvXEZGZrgdMD3DyA5wCqKqWD0XAUBORnkDP2rVr3/rRRx8VaRuR0tWG5Qy8SMkaipy5ecrX63L57/pckuKE/s3jaFs9hnNn/5WEI6c22T4cX5U5570T8pyBECk5ofh0r3Pavt1Kq3bt2umCBQuKtO60adPIyMgIbKAgsJyBFylZQ5lz+eYsHvh8Kau27qdXq1o83XgVSZMGn3zpLbbMiU5Ow5XzTERKTghuVhHxu/j4bO0mIpUKegUurjGmJEutncz4uzpyb7cmfLNsKxnfV2VJm+EntZjzVnhMyVZQg4OFOJfbfPWj1jAoiYwxJU5cTBT3dmtK9+Y1eODzJVw5ozaXp/2HJ29LpVLZuHDHM2FQUIODBqEMYowp+ZrXKs+4uzry5vR1vDxlDT9v3MvrN6bTuk6FcEczIVbQZbezXF/benuFLqIxpiSJjY5iYJcmfHlHR0SEfiNn8/Hc323k1FKmoMtug3EGVnvByzzF6VjUGGOKpGVKMhPvvoB7xizmka+WsXjTXoZfmUpCbHS4o5kQKOiy222ur51DF8cYU5pULBvHewPa8/LkXxnx41pWbNnPyBvTqVMpMdzRTJD5M6RCgogMFpEvReQLEblXRBJCEc4YU/JFRwmDuzfjnZva8fueQ1zxykz/+oczEc2fjkX/A7QAXsEZXqE5EPTerI0xpUu35tX5euAF1ExO4C/vz2fElDXk2X2gEuu0w2gDzVS1ldvnqSKyJFiBjDGlV/0qZfnqzo488tUyXvzhV1pVjSb9nFySE710UGoimj9nPj+LyLn5H0TkHGBW8CIZY0qzMnHRvNivFcOvbMHyXcfp+epMVm7ZH+5YJsAK6tttGU6rtligGfC763M9YKWqpoYqZChZ327FT6TkhMjJGik5l27JZtTqKA7mKgNaxNGxdvE8A4qU4wnFp283VNXrC6fI+Hz5Wq+kvNLT07Wopk6dWuR1Q8lyBl6kZI2knDv2H9Z+I3/Seg9N1KFfLdMjucedmUvGqL7YQvWxZOfrkjFhzRkpgpkVWKB+/o493ZAKJ4hINcBauRljQqpquXhG//Ucnvt+NW/NWM/yLVmMavsbFafcbwPSRTB/mlr3EpE1wG/AdGAD8G2QcxljzAkx0VE8ctnZvH5DW37ddoCc7x7zPSCdiQj+NDh4EjgX+FWd/t66Yg0OjDFhcFnLmowf2JEa7Pa+gA1IFzH8KT65qrobiBKRKFWdCrQOci5jjPGqcbVyUL6295nJKaENY4rMn+KzT0SSgP8Bo0XkZeBYcGMZY4xvUd0eQ2PLnDRNY8pA12FhSmQKy5/icyWQA9wLfAesA3oGM5QxxhQorR/ScwQk10ERMvOq8GrSIA40vSrcyYyfTlt8VPUgUBW4DNj3c3DlAAAdNUlEQVQDjHVdhjPGmPBJ6wf3LUce38f8q6bz7x2tuf7tuezOPhLuZMYP/rR2+yswD7ga6APMEZGbgx3MGGP8dVWbFN68MZ1ftx+g35uz2bIv5/QrmbDy57LbA0AbVR2gqv2BdOCh4MYyxpjC6da8Ov+5uQM79h+hzxs/sW5ndrgjmQL4U3wygQNunw8Am4ITxxhjiu6chpX55LZzOXIsj74jZ7N8c1a4IxkfChpGe7CIDAY2A3NF5HEReQyYA6wNVUBjjCmM1NrJfHb7eZSJjebat+Ywe53doi6OCjrzKed6rQPG4XQqCjAe2BrkXMYYU2QNqybx+R3nUSM5gf7vzeOHldvDHcl48Nmr9SkLipQDVFVL9IVU69W6+ImUnBA5WUtLzgNHlRcXHmbj/jxuSQ1er9iRcjwhAnq1zn8BqcDPwEbXayHQwt+eSyP1Zb1aFx+RklM1crKWppwHDufq9W/P1noPTdR3/rf+5JkB6hk7Uo6navHp1dqfBgdvAYNVtZ6q1gP+BrxdhKJojDEhlxQfw6gB7enRogZPTlzJC5NWO39YLx3r9ISdtQnQP3rGXjo23JFLBX+KT1l1+nMDQFWnAWWDlsgYYwIsPiaaV69vwzXt6vDKj2sZNn4FOmW49YwdRj7H83GzXkQeBT50fb4RZ3gFY4yJGDHRUTz7p5ZUSIzlzRnrGZ7gowds6xk7JPwpPjcDTwBfuj7PAP4StETGGBMkIsLDl51NhcQ4Nv9YmZSoXacuZD1jh0SBxUdEooFHVHVQiPIYY0zQ3ZHRiJ/23k+lxcNIlKN/zIi1nrFDpcB7Pqp6HKc7HWOMKVHOv+oOVnd4is1ahTyEvPIp0HOEDcMdIv5cdvtZRCYAnwEH8yeq6pe+VzHGmOKvzeW3Mb725dzz6WJ6NKrBa6ltiQ53qFLCn+JTCdgNdHGbpvxxD8gYYyLWla1rsyv7KE9OXMmj45fzVO9URCTcsUo8f4rPA6rq5a6cMcaUDLdc0ICdB44wcvo6qpWL595uTcMdqcQrqGPRniKyE1gqIpkicn4IcxljTEg91KMZfdNT+PfkNXw0Z2O445R4BTU4eAq4UFVrAX8CnglNpOARkd4i8raIjBeR7uHOY4wpPkSEZ65uSdezqvHo+OV8s8z6Tw6mgorPMVX9BUBV5+L0cF0oIlJBRD4XkV9EZJWInFeUkCIySkR2iMhyL/N6iMhqEVkrIkMK2o6qjlPVW4EBwDVFyWKMKblioqN49fq2tKlTgXs/XWzDMQRRQcWnWv6YPq5xfTw/++Nl4DtVPQtoBaxynyki1Vy9ZbtPa+xlO+8DPTwnup5Deg24FGgOXCcizUWkpYhM9HhVc1t1qGs9Y4w5SZm4aEYNaE+9yonc9p8FrNhiA9IFQ0HF523+GNOnnJfPBRKR8sBFwLsAqnpUVfd5LNYJGC8iCa51bgVGeG5LVWcAe7zspgOwVlXXq+pR4FPgSlVdpqpXeLx2iOOfwLequuh034MxpnSqkBjHf27pQLmEGAa8N5/fdx8Kd6QSx+/xfAq9YZHWOD1ir8Q561kI3KOqBz2WexA4H+c5ooHAxeplzCARqQ9MVNVUt2l9gB6q+lfX5z8D56jqQB+ZBgH9gfnAYlUd6WUZG8+nmImUnBA5WS2nf7Zk5/HU3BySYoW/n1OG8vHem2CHO2dhRMx4PkV9Ae2AYzjFAJxLcE/6WPZTYD9QtYDt1QeWe0zrC7zj9vnPwCuByG/j+RQfkZJTNXKyWk7/LdiwR5sN/UavGPE/PXA41+syxSGnvyJpPJ+iygQy1WmsAPA50NZzIRG5EGfAuq+Ax4qwjzpun1OALYWPaowx3qXXq8jrN7Rl5db9/N+HCzhy7Hi4I5UIBRYfEYkSkSJ1dKSq24BNItLMNakrziU49+23wbmXdCVOT9mVROQfhdjNfKCJiDQQkTjgWmBCUfIaY4wvXc6qzj//lMastbv529gl5OUF53ZFaXK6jkXzcO7DFNXdwGgRWQq0Bp72mJ8I9FXVda599ccZqvskIvIJMBto5nrg9RZXvmOufN/jtKQbq6orziCvMcZ41Sc9hYcvPYuJS7cyfOLK/Ev9poj86V7nBxG5HxjDyR2Lemt9dhJVXYxz78fX/Fken3PxMkS3ql5XwDa+Ab45XRZjjDlTt13UkJ0HjvDOzN+oWi6euzp7ezLE+MPfweQA7nKbpkDDwMcxxpjiS0R45LKz2ZV9hOe/X02VpDiuaV833LEi0mmLj6o2CEUQY4yJBFFRwnN9WrHnUC4Pf7mMSmXjiQ13qAh02tZuIhIrIoNc3eR8LiIDRcSOtTGm1IqLieKNG9rSMqUCAz9exK97rQVcYfnT1PoNnNFMX3e90l3TjDGm1CobH8N7A9pTu2IZ/r3wMOt3nvJsvCmAP8Wnvar2V9UfXa+/AO2DHcwYY4q7SmXj+OAvHYgSuHP0Ig7n2hmQv/wpPsdFpFH+BxFpCNgRNsYYoE6lRG5Li2f19gM8Nt6e9PCXXyOZAlNFZD0gQD2cB0KNMcYAaVVjGNi5Dq/8uJb2DSrRJz0l3JGKvQKLj4hEATlAE6AZTvH5RVWPhCCbMcZEjHu7NWXBhr0MHbeMlrWTaVaj0EOglSr+9HDwgqoeUdWlqrrECo8xxpwqOkp4+brWJMXHcsfohRw8cizckYo1f+75TBKRP4mI977EjTGmtFo6Fl5KpdO03vBSKtV+m8Ar17Vhw66DPPLVMuuCpwD+FJ/BOGPtHBGR/SJyQET2BzmXMcYUb0vHwteDIGsTgkLWJvh6EOcdnMLfujdj/OItjJ77e7hTFlun69VagBaqGqWqcapaXlXLqWr5EOUzxpjiacpwyM05eVpuDkwZzh2dGtGpaVWGf72S5ZttGG5vTjuSqYgsVNX0EOUJOxvJtPiJlJwQOVkt55nrNK23c8bjQRGmZ4zjwFHlsZ9yiBZ4/PwylI0tHncuistIpv4Un9eA91V1fiDCRYp27drpggULirTutGnTyMjICGygILCcgRcpWS1nALyU6lxq85RcB+5bDsDCjXu45s05dD27GiNvTKc43DoP5jF1naz4VXz8uefTGZgtIutEZKmILHONz2OMMaVX12EQW+bkabFlnOku6fUqMeTSs/h+xXZGzdoQ2nzFnD8PmV4a9BTGGBNp0lyDPE8ZjmZlIskpTuFJO3nw51suaMC83/bwzDeraF2nAun1KoYhbPHj88xHRLoAqOpGIEpVN+a/cDoXNcaY0i2tH9y3nOkZ45xLbR6FB5wxgJ7v24qaFRIY+PEi9hw8GoagxU9Bl93+5fb+C495Q4OQxRhjSqTkMrG8fn06u7OPMnjsYvLy7PmfgoqP+Hjv7bMxxpgCtExJ5tGezZm2eidvTF/3xwzXg6o8XsH5unRs+EKGUEH3fNTHe2+fjTHGnMaN59Rl3m97eGHSatrWrch5B6c4D6rmPy/kelAV8HoJryQpqPg0FJEJOGc5+e9xfbahtY0xppBEhGeubsmKLVkM+vRn5iQ8QbSPB1VLc/G50u39vzzmeX42xhjjh6T4GF6/oS29X5uF5G72vlBWZmhDhYHP4qOq00MZxBhjSouzapTnyStT2TKhMilRu05dILnkjwfkz0OmxhhjAqxvuzrMqHMHhzTu5BkeD6qWVFZ8jDEmTK7qfx8jEu9mC1VQxOmap+eIEn+/B/woPiLS159pxhhjCqdMXDR9bx7MxXmv0af6NxwbtLRUFB7w78znYT+nGWOMKaRGVZN4+uqWLNy4l1Gzfgt3nJDx2eBARC4FLgNqi8gIt1nlARsf1hhjAqRXq1p8vWQrL/7wK5em1qROpcRwRwq6gs58tgALgMPAQrfXBOCS4EczxpjSQUQYfmULokUYOm55qRh+u6Cm1kuAJSIyWlXtTMcYY4KoVoUy3H9JM574eiUTlmzhyta1wx0pqArq1Tq/g6GfXeP4nPQKUT5jjCk1bjqvPq1Skhn+9Ur2HSrZvV8XdNntHtfXK4CeXl7GGGMCKDpKeObqNPbl5PL0N6vCHSeofBYfVd3q+uo+js9B4HfX+4gjIr1F5G0RGS8i3cOdxxhjPDWvVZ5bL2zI2AWZzF63O9xxgqagy27nisg0EflSRNqIyHJgObBdRHr4uwMRiRaRn0VkYlFDisgoEdnhyuA5r4eIrBaRtSIypKDtqOo4Vb0VGABcU9Q8xhgTTPd0bUKdSmX4+1fLOJx7PNxxgqKgy26vAk8DnwA/An9V1RrARcAzhdjHPYDX80cRqSYi5TymNfay6PvAKQVPRKKB13CG+m4OXCcizUWkpYhM9HhVc1t1qGs9Y4wpdsrERfNU75as33WQ16euDXecoBBfTfpEZLGqtna9X6WqZ7vN+1lV25x24yIpwAfAU8BgVb3CY35f4A7gMlU9LCK3Alep6mVetlUfmKiqqW7TzgMeV9VLXJ8fBlBVr8VRRAR4FvhBVSf7WKYn0LN27dq3fvTRR6f7Fr3Kzs4mKSmpSOuGkuUMvEjJajkDK1g531x6mHlbjzO8YxlqJwWmN7RgHtPOnTsvVNV2fi2sql5fwCJv7719LmAbnwPpQAZO4fC2zIPAOOAGYDaQ5GO5+sByj2l9gHfcPv8ZeLWAPINwnlUaCdxeUPb09HQtqqlTpxZ53VCynIEXKVktZ2AFK+euA4e11RPf659en6XHj+cFZJvBPKbAAvWjNqhqgZfdWonIfhE5AKS53ud/bnm6oiYiVwA7VHXhaYrfczgPsr4B9FLV7NNt23033jZZwL5GqGq6qt6uqiMLsR9jjAm5yknx/P2ys1mwcS+fzP893HECqqDWbtGqWl5Vy6lqjOt9/udYP7bdEeglIhuAT4EuInLKdSwRuRBIBb4CHitk/kygjtvnFJyeGYwxpkTok57CeQ0r8+y3v7Bj/+FwxwmYoA2poKoPq2qKqtYHrgV+VNUb3ZcRkTbA2zijpv4FqCQi/yjEbuYDTUSkgYjEufYz4TTrGGNMxBARnr66JUeO5fHE1yvDHSdgwj2eTyLQV1XXqWoe0B845RkiEfkE535QMxHJFJFbANTp9mcg8D1Oi7qxqroiZOmNMSYEGlQpy6Aujfnvsq1MXrk93HECwmffboGkqtOAaV6mz/L4nItzJuS53HUFbPsb4JszDmmMMcXYbRc1YsKSLQwbv5xzG1UmKT4kv76DJtxnPsYYY/wQFxPFM1ensXX/YV6YtDrccc6YFR9jjIkQ6fUqcuM59fjgpw0s2bQv3HHOiBUfY4yJIA/0aEaVpHiGfLmM3ON54Y5TZFZ8jDEmgpRPiGX4lS1YtXU/o2ZG7rDbVnyMMSbCXNKiBhc3r85Lk39l055D4Y5TJFZ8jDEmwrgPu/33ccvRpWPhpVR4vILzdenY028kzKz4GGNMBKqZXIYHLmlGhbVfcXz83ZC1CVDn69eDin0BsuJjjDER6s/n1WdowufEHPfodic3B6YMD08oP1nxMcaYCBUdJVTN2+l9ZlZmaMMUkhUfY4yJYJKc4n2Gr+nFhBUfY4yJZF2HoTFlTp4WWwa6DgtPHj9Z8THGmEiW1g/pNYKcxFrkqZCdUBN6joC0fuFOVqDI7pnOGGMMpPUjoWVfrnlzDr/tPsiMszpT5vRrhZWd+RhjTAkgItx/STN2HjjCB7M3hDvOaVnxMcaYEqJDg0pkNKvKG9PWsf9wbrjjFMiKjzHGlCD3d29GVk4u78xYH+4oBbLiY4wxJUhq7WQuT6vJOzN/Y1f2kXDH8cmKjzHGlDCDL27K4dzjvDFtXbij+GTFxxhjSphGVZPok57Ch3M2smVfTrjjeGXFxxhjSqBBXZuAwogpa8IdxatSVXxEpLeIvC0i40Wke7jzGGNMsKRUTOT6c+ry2cJM1u/MDnecUwSt+IhIgojME5ElIrJCRJ44g22NEpEdIrLcy7weIrJaRNaKyJCCtqOq41T1VmAAcE1R8xhjTCS4q3Nj4mOieGly8Tv7CeaZzxGgi6q2AloDPUTkXPcFRKSaiJTzmNbYy7beB3p4ThSRaOA14FKgOXCdiDQXkZYiMtHjVc1t1aGu9YwxpsSqWi6emzs24OslW1i5ZX+445xEVDX4OxFJBGYCd6jqXLfpfYE7gMtU9bCI3ApcpaqXedlGfWCiqqa6TTsPeFxVL3F9fhhAVZ/xkUOAZ4EfVHWyj2V6Aj1r165960cffVSUb5fs7GySkpKKtG4oWc7Ai5SsljOwinPOg7nKA9MP0aRiNPelJwQ1a+fOnReqaju/FlbVoL2AaGAxkA3808cyDwLjgBuA2UCSj+XqA8s9pvUB3nH7/Gfg1QLyDAIWAiOB2wvKnp6erkU1derUIq8bSpYz8CIlq+UMrOKe87Wpa7TeQxN1wYbdQc0KLFA/60NQGxyo6nFVbQ2kAB1EJNXLMs8Bh4E3gF6qWpg7Y+JttwXkGaGq6ap6u6qOLMR+jDEmYg04vz5VkuJ57rvV+X+Ih11IWrup6j5gGt7v21wIpAJfAY8VctOZQB23zynAlqKlNMaYkikxLoa7uzRm7m97WLH7eLjjAMFt7VZVRCq43pcBugG/eCzTBngbuBL4C1BJRP5RiN3MB5qISAMRiQOuBSYEIr8xxpQk13aoQ+0KZfj819xicfYTzDOfmsBUEVmKUyR+UNWJHsskAn1VdZ2q5gH9gY2eGxKRT3DuBzUTkUwRuQVAVY8BA4HvgVXAWFVdEbTvyBhjIlR8TDT3dmvChv15fL9iW7jjBG8wOVVdCrQ5zTKzPD7n4pwJeS53XQHb+Ab4pogxjTGm1Li6bQovfbuMf036lYub1yA6yttt89AoVT0cGGNMaRYdJVzVJI61O7IZ9/PmsGax4mOMMaVIu+rRtKydzEuTf+Xosbyw5bDiY4wxpUj+cNuZe3P4dP7vYcthxccYY0qZi5pUoUODSoyYspZDR4+FJYMVH2OMKWVEhAcvacau7CN88NMpDYxDwoqPMcaUQu3qV6LLWdUYOX0dWTm5Id+/FR9jjCml/ta9KVk5ubzzv/Uh37cVH2OMKaVa1ErmirSavDvzN3ZlHwnpvq34GGNMKTb44qYcOZbH61PXhXS/VnyMMaYUa1g1iT5tU/hozkY278sJ2X6t+BhjTCk3qFsTAEaEcLhtKz7GGFPK1a5QhhvOrcvnizJZt7MwQ6oVnRUfY4wx3Fd9CTNi76bhaynwUiosHRvU/QWtV2tjjDERYulYyv8wmPLiuueTtQm+HuS8T+sXlF3amY8xxpR2U4ZDrkdjg9wcZ3qQWPExxpjSLiuzcNMDwIqPMcaUdskphZseAFZ8jDGmtOs6DGLLnDwttowzPUis+BhjTGmX1g96joDkOoA4X3uOCFpjA7DWbsYYY8ApNEEsNp7szMcYY0zIWfExxhgTclZ8jDHGhJwVH2OMMSFnxccYY0zIiaqGO0OxJCI7gY1FXL0KsCuAcYLFcgZepGS1nIEVKTkhuFnrqWpVfxa04hMEIrJAVduFO8fpWM7Ai5SsljOwIiUnFJ+sdtnNGGNMyFnxMcYYE3JWfILjrXAH8JPlDLxIyWo5AytSckIxyWr3fIwxxoScnfkYY4wJOSs+xhhjQs6KzxkQkR4islpE1orIEC/z40VkjGv+XBGpH4aMdURkqoisEpEVInKPl2UyRCRLRBa7XsEbxKPgrBtEZJkrwwIv80VERriO51IRaRuGjM3cjtNiEdkvIvd6LBO24ykio0Rkh4gsd5tWSUR+EJE1rq8Vfazb37XMGhHpH4acz4vIL65/269EpIKPdQv8OQlBzsdFZLPbv+9lPtYt8PdDiLKOccu5QUQW+1g3ZMf0BFW1VxFeQDSwDmgIxAFLgOYey9wJjHS9vxYYE4acNYG2rvflgF+95MwAJhaDY7oBqFLA/MuAbwEBzgXmFoOfgW04D9YVi+MJXAS0BZa7TXsOGOJ6PwT4p5f1KgHrXV8rut5XDHHO7kCM6/0/veX05+ckBDkfB+7342ejwN8PocjqMf8FYFi4j2n+y858iq4DsFZV16vqUeBT4EqPZa4EPnC9/xzoKiISwoyo6lZVXeR6fwBYBdQOZYYAuhL4jzrmABVEpGYY83QF1qlqUXvCCDhVnQHs8Zjs/nP4AdDby6qXAD+o6h5V3Qv8APQIZU5VnaSqx1wf5wDBG8PZTz6Opz/8+f0QUAVldf3e6Qd8EswMhWHFp+hqA5vcPmdy6i/1E8u4/lNlAZVDks4L12W/NsBcL7PPE5ElIvKtiLQIabA/KDBJRBaKyG1e5vtzzEPpWnz/Zy4OxzNfdVXdCs4fI0A1L8sUt2N7M85Zrjen+zkJhYGuy4OjfFzGLG7H80Jgu6qu8TE/5MfUik/ReTuD8Wy37s8yISEiScAXwL2qut9j9iKcS0etgFeAcaHO59JRVdsClwJ3ichFHvOL0/GMA3oBn3mZXVyOZ2EUp2P7d+AYMNrHIqf7OQm2N4BGQGtgK87lLE/F5ni6XEfBZz0hP6ZWfIouE6jj9jkF2OJrGRGJAZIp2in8GRGRWJzCM1pVv/Scr6r7VTXb9f4bIFZEqoQ4Jqq6xfV1B/AVzqULd/4c81C5FFikqts9ZxSX4+lme/7lSdfXHV6WKRbH1tXQ4QrgBnXdjPDkx89JUKnqdlU9rqp5wNs+9l8sjiec+N1zNTDG1zLhOKZWfIpuPtBERBq4/gq+FpjgscwEIL/VUB/gR1//oYLFda33XWCVqr7oY5ka+feiRKQDzs/F7tClBBEpKyLl8t/j3Hxe7rHYBOAmV6u3c4Gs/MtJYeDzL8nicDw9uP8c9gfGe1nme6C7iFR0XUbq7poWMiLSA3gI6KWqh3ws48/PSVB53Ge8ysf+/fn9ECrdgF9UNdPbzLAd01C2bihpL5zWV7/itGr5u2vacJz/PAAJOJdl1gLzgIZhyHgBzun+UmCx63UZcDtwu2uZgcAKnBY5c4Dzw5CzoWv/S1xZ8o+ne04BXnMd72VAuzD9uyfiFJNkt2nF4njiFMStQC7OX9+34NxnnAKscX2t5Fq2HfCO27o3u35W1wJ/CUPOtTj3SfJ/TvNbitYCvino5yTEOT90/fwtxSkoNT1zuj6f8vsh1Fld09/P/9l0WzZsxzT/Zd3rGGOMCTm77GaMMSbkrPgYY4wJOSs+xhhjQs6KjzHGmJCz4mOMMSbkrPgYE2Aictyj5+shrukbfD1sKiI1RWSSiNQXERWRu93mvSoiA1zvffZQLSK9xUcP2iKS7fqaISITfSwz2UdXMcYEnBUfYwIvR1Vbu72e9WOdHvzxUOcO4B7Xw4mehgBTVLUJzjM77l31Pwi8fga5P8Tpid2YoLPiY0xoPSAi81yvxm7Te/BHR5o7cQqLtzF1vPZQLSJNgSOqusv1uYGIzBaR+SLypMc2yoszXs5KERkpIvm/Bybg9NxgTNBZ8TEm8Mp4XHa7xm3eflXtALwK/BtARKKBZqq60m25Z4G/uea589VDdUecDk3zvQy8oartccYcctcB+BvQEqeDzKtd29sLxItI2HpeN6WHFR9jAs/zspt7h46fuH09z/X+HDyGuVDV33C6ZLrez33WxDljytfRbV8feiw7T51xZo67lrnAbd4OnK5XjAkqKz7GhJZ6eX8p8J2XZZ/G6WjT/f+prx6qc3D6EvS1r4Kmu39OcG3LmKCy4mNMaF3j9nW2631XnHs8J1HVX4CVOEMM5PPVQ/UqwP0e0iycnpQBbvDYdAfXPaEoV46ZcKIH9Bo4QyobE1RWfIwJPM97Pu6t3eJFZC5wD3CfiFQFDuupA/zle4qTh5N+FrhYRNYAF7s+A8wA2uQP5eDa/l0iMh9nHCl3s13rLQd+wxm/BSAdmKN/DGVtTNBYr9bGhJGI3Aik+Nkc+3Tbehn4WlUnn8H6E1T1lLMwYwLNio8xJYSIVAfOUdUiDVomIreq6tsBjmWMV1Z8jDHGhJzd8zHGGBNyVnyMMcaEnBUfY4wxIWfFxxhjTMhZ8THGGBNy/w/cV9Uk4FquvgAAAABJRU5ErkJggg==\n",
      "text/plain": [
       "<Figure size 432x288 with 1 Axes>"
      ]
     },
     "metadata": {
      "needs_background": "light"
     },
     "output_type": "display_data"
    }
   ],
   "source": [
    "# Υπολογισμός της πιθανότητας εσφαλμένου ψηφίου θεωρητικά και μέσω προσομοίωσης\n",
    "\n",
    "berTheoretical = []\n",
    "berSimulation = []\n",
    "EbN0_max = 20\n",
    "\n",
    "for EbN0_db in range(1,EbN0_max):\n",
    "    \n",
    "    # SNR και Eb/N0 σε γραμμική κλίμακα και dB\n",
    "    EbN0 = 10 ** (EbN0_db * 0.1)\n",
    "    SNR_db = EbN0_db - 10*np.log10(nsamp/2/k)\n",
    "    SNR = 10 ** (SNR_db * 0.1)\n",
    "\n",
    "    # Υπολογισμός της ισχύος του μεταδιδομένου σήματος και της ισχύος θορύβου \n",
    "    # ώστε να έχουμε το επιθυμητό SNR\n",
    "    P = sum(y_transmitted * y_transmitted) / len(y_transmitted)\n",
    "    P_db = 10 * np.log10(P)\n",
    "    Pn_db = P_db - SNR_db\n",
    "    Pn = 10 ** (Pn_db * 0.1)\n",
    "\n",
    "    # Προσθήκη θορύβου AWG\n",
    "    mu = 0\n",
    "    sigma = np.sqrt(Pn)\n",
    "    noise = generateAWGN(y_transmitted, mu, sigma)\n",
    "    y_noisy = y_transmitted + noise\n",
    "\n",
    "    # Στον δέκτη γίνεται φιλτράρισμα και υποδειγμάτιση\n",
    "    z_received = scipy.signal.convolve(y_noisy, filt)\n",
    "    z_final = downSample(z_received, nsamp)\n",
    "    \n",
    "    # Περικοπή των ουρών λόγω των συνελίξεων\n",
    "    z_final = z_final[2 * delay : len(z_final) - 2 * delay]\n",
    "\n",
    "    # Απόφαση για το επίπεδο στο οποίο αντιστοιχεί το σύμβολο που ελήφθη\n",
    "    for i in range(len(z_final)):\n",
    "        # Πίνακας με τις διαφορές του σήματος από τα επίπεδα\n",
    "        differences = np.abs(y_levels - z_final[i]) \n",
    "        m = min(differences) # Εύρεση ελάχιστης απόστασης\n",
    "        [index], = np.where(differences == m)\n",
    "        z_final[i] = y_levels[index]\n",
    "    \n",
    "    # Λόγω της κωδικοποίησης Gray θεωρούμε ότι σε κάθε λάθος έχουμε ένα εσφαλμένο bit\n",
    "    error = 0\n",
    "    for i in range(len(z_final)):\n",
    "        if x_gray[i] != z_final[i]:\n",
    "            error += 1\n",
    "    \n",
    "    # Πιθανότητα λάθους = αριθμός λαθών / αριθμών ψηφίων\n",
    "    berSimulation.append(error/n_bits)\n",
    "    # Θεωρητική τιμή της πιθανότητας εσφαλμένου ψηφίου\n",
    "    Pe = (L - 1) / L * scipy.special.erfc(np.sqrt(3 * k / (L * L - 1) * EbN0))\n",
    "    berTheoretical.append(Pe / k)\n",
    "\n",
    "plt.figure()\n",
    "plt.semilogy(berTheoretical)\n",
    "plt.semilogy(berSimulation,'o')\n",
    "plt.legend(['Simulation', 'Theoretical'])\n",
    "plt.xlabel('Eb/N0(db)')\n",
    "plt.ylabel('Bit Error Probability')\n",
    "plt.title('BER curve for L-ASK')\n",
    "plt.grid(which='both')\n",
    "plt.show()"
   ]
  },
  {
   "cell_type": "code",
   "execution_count": 63,
   "metadata": {},
   "outputs": [
    {
     "data": {
      "image/png": "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� ύψιστο κύρος	140
Η συνωμοσία για τον αφελληνισμό της ιστορίας	144
Γ' ΜΕΡΟΣ: Ο ΚΑΘΟΡΙΣΤΙΚΟΣ ΡΟΛΟΣ ΤΩΝ ΕΘΝΙΚΩΝ ΙΔΕΩΝ 149
6	Η επίσημη εθνική ιδεολογία και ο ρατσισμός	151
Η κρίση της εθνικής ταυτότητας	152
Η επίσημη εθνική ιδεολογία είναι ανεπίκαιρη	159
Η εύθραυστη και ανασφαλής εθνική ταυτότητα	166
Η εθνική ιδεολογία και η παρανόηση του ρατσισμού	171
Η εθνική ιδεολογία και η διαχείριση των εθνικών θεμάτων	176
7	Η πολιτική χιονοστιβάδα με την οικονομική κρίση	183
Η αντιμετώπιση της οικονομικής κρίσης και η διαχείρισή της	184
«Η Αθήνα καίγεται»	188
Τι συνέβη το «Δεκέμβρη του 2008»	192
Η αντιμνημονιακή πολιτική	198
Η κατευθυνόμενη αμφισβήτηση της κοινοβουλευτικής νομιμότητας	207
8	Οι συνέπειες της αντιμνημονιακής πολιτικής	211
Το κίνημα των «αγανακτισμένων»	211
Το άλλοθι του ανεπίκαιρου εθνικισμού	219
Το αδιέξοδο της αντιμνημονιακής αντιπολίτευσης	222
Είναι αντικειμενικό το αδιέξοδο ή μήπως υπάρχουν λύσεις;	228
ΕΠΙΜΕΤΡΟ ΜΕ ΤΡΙΑ ΚΑΤΑΛΗΚΤΙΚΑ ΣΧΟΛΙΑ Για την ελληνική δημοκρατία, την ακροδεξιά
και τον εθνικισμό	235
Καταληκτικό σχόλιο για την κρίση των πολιτικών θεσμών	236
Καταληκτικό σχόλιο για την κρίση των ιδεολογικών αξιών	238
Επίμετρο σχόλιο για το έθνος και τον εθνικισμό	243
Σημειώσεις	253
Βιβλιογραφικές αναφορές
277                                                                                                                                                                                                                                                                                                                                                                                                                                                                                                                                                                                                                                                                                                                                                                                                                                                                                                                                                                                                                                                                                                                                                                                                                                                                                                                                                                                                                                                                                                                                                                                                                                                                                                                                                                                                                                                                                                                                                                                                                                                                                                                                                                                                                                                                                                                                                                                                                                                                                                                                                                                                                                                                                                                                                                                                                                                                                                                                                                                                                                                                                                                                                                                                                                                                                                                                                                                                                                                                                                                                                                                                                                                                                                                                                                                                                                                                                                                                                                                                                                                                                          INDX( 	 ��9�           (   �   �      �                      �    h V     �     �i�]��yH�b��yH�b���3�Ig�                       
v e r s i o n 0 . 0                 �    h V     �     �i�]���i�]���i�]��X�0��                       
v e r s i o n 0 . 0                 h V     �     �i�]���i�]���i�]��X�0��                       
v e r s i o n 0 . 0                 h V     �     �i�]���i�]���i�]��X�0��                       
v e r s i o n 0 . 0 �              h V     �     �i�]���i�]���i�]��X�0��                       
v e r s i o n 0 . 0                 �    h V     �     �i�]���i�]���i�]��X�0��                       
v e r s i o n 0 . 0                 h V     �     �i�]���i�]���i�]��X�0��                       
v e r s i o n 0 . 0                 �     �i�]���i�]���i�]��X�0��                       
v e r s i o n 0 . 0                                                               �                                                                                                                                                                                                                                                                                                                                                                                                                                                                                                                              �                                                                                                                                                                                                                                                                                                                                                                                                                                                                                                                              �                                                                                                                                                                                                                                                                                                                                                                                                                                                                                                                              �                                                                                                                                                                                                                                                                                                                                                                                                                                                                                                                              �                                                                                                                                                                                                                                                                                                                                                                                                                                                                                                                              �                                                                                                                                                                                                                                                                                                                                                                                                                                                                                                                              �` �5  ��.� FeRpv~s� �   
 �  `   H d 8 `�h<%( � V X: ` 	dc 44e9a08a b146f194 ea406e42�a938f3+%' 9e80c934 6e714b00 b2716eb4 a4c42fbeOfa2bda cbc87748 50ab8135 fc4c1605ac�;e1970 ba1e3a04 16999556 f3601d65bb��^27333a7 h�ebf9 1cedd 473b7�'6d6c fe95-490 848-855 4-fd824e 83ac65 �<����                                                                                                                                                                                                                                                                                                                                                                                                                                                                                                                                                                                                                                                                                                                                                                                                                                                                                                                                                                                                                                                                                                                                                                                                                                                                                                                                                                                                                                                                                                                                                                                                                                                                                                                                                                                                                                                                                                                                                                                                                                                                                                                                                                                                                                                                                                                                                                                                                                                                                                                                                                                                                                                                                                                                                                                                                                                                                                                                                                                                                                                                                                                                                                                                                                                                                                                                                                                                                                                                                                                                                                                                                                                                                                                                                                                                                                                                                                                                    INDX( 	 >(�           (   �  �      r0 ��Y    �          ��   # � �     ��   Y jp�@� �I�{A��<3>� �w��A�        ۈ       @ @ �00 0   -   ����������  -   2 0 2 0 1 0 0 9 0 3 5 3 0 9 9 8 0 1 8 0 2 3 6 1 2 . x l s x 716eb4��   # p Z     ��   Y jp�@� �I�{A��<3>� �w��A�        ۈ       @ @ �0 0 - - 2 0 ~ 1 . X L S bf91c��   T � �     ��   Y ��@� �߀���<3>� ��P��        ;      @ @ �/0 0 . 0 0   -   �������  -   2 0 2 0 1 0 0 9 0 3 5 3 0 9 9 8 r1 8 0 2 3 6 1 2 . p d f ��   Y � �     ��   Y #��@� �I�{A��<3>� �w��A�        ��!      @ @ �A0 0 . 0 2   -   ����������  ��������- �����  -   2 0 2 0 1 0 0 9 0 3 5 3 0 9 9 8 0 1 8 0 2 3 6 1 2 . z i p     ��    � �     ��   Y �D�@� �I�{A��<3>� �w��A�        E�      @ @ �D0 0 . 0 3   -   �������  �������  ���  ��������  -   2 0 2 0 1 0 0 9 0 3 5 3 0 9 9 8 0 1 8 0 2 3 6 1 2 . p d f       ��   T p Z     ��   Y ��@� �߀���<3>r ��P��        ;      @ @ �0 0 0 0 - - ~ 1 . P D F       ��   Y p Z     ��   Y #��@� �I�{A��<3>� �w��A�        ��!      @ @ �0 0 0 2 - - ~ 1 . Z I P       ��    p Z     ��   Y �D�@� �I�{A��<3>� �w��A�        E�      @ @ �0 0 0 3 - - ~ 1 . P D F       ��    � �     ��   Y 9�E�@��6��=3>� ����        [      @ @ �70 1 . 0 0 . 0 0   ������  ������  ���������  -   ��������  �������. p d f ��   $ � �     ��   Y ��G�@r �I�{A�=3>� �w��A�        +�      @ @ �N0 1 . 0 0 . 0 1   ������  ������  ���������  -   ��������  �������  -   ���������  ����������. p d f   ��   J     ��   Y lJ�@� �I�{A�=3>��&��A�        �w      @ @ �b0 1 . 0 0 . 0 2   ������  ������  ���������  -   ��������  �������  -   ���  ��������  �������- �������  �����������. p d f                 ��   rCvM�@� ^|;9�ZBS�@�CvM�@�        �a      @ @ �X0 1 . 0 0 . 0 3   ������  ������  ���������  -   ��������  �������  -   ���������  �������������  ������. p d f |;9���   B  �     ��   Y �qO�@� ^|;9�aiS�@��qO�@�        _h      @ @ �W0 1 . 0 0 . 0 4   ������  ������  ���������  -   ��������  �������  -   ���������  ������������  ������. p d f ��    p Z   r��   Y 9�E�@����:9�ZBS�@�9�E�@�        [      @ @ �0 1 0 0 0 0 ~ 1 . P D F       ��   $ p Z     ��   Y ��G�@� ^|;9�ZBS�@���G�@�        +�      @ @ �0 1 0 0 0 1 ~ 1 . P D F       ��   J p Z     ��   Y lJ�@� ^|;9�ZBS�@�lJ�@�        �w      @ @ �0 1 0 0 0 2 ~ 1 . P D F       ��   ' p Z     ��   Y CvM�@� ^|;9�ZBS�@�CvM�@�        �a      @ @ �0 1 0 0 0 3 ~ 1 . P D F       ��   B p Z     ��   Y �qO�@� ^|;9�aiS�@��qO�@�        _h      @ @r0 1 0 0 0 4 ~ 1 . P D F       ��   " � �     ��   Y >FQ�@��!F=9�aiS�@�>FQ�@�        �!      @ @ �A0 2 . 0 1 . 0 0   ������  ���- ���������  �����  �������  -   ��������  ������. p d f     ��   8 �     ��   Y �WR�@� ��=9�aiS�@��WR�@�        �/      @ @ �X0 2 . 0 1 . 0 1   ������  ���- ���������  �����  �������  -   ��������  ������  -   ���������  ����������. p d f     r��   " p Z     ��   Y >FQ�@��!F=9�aiS�@�>FQ�@�        �!      @ @ �0 2 0 1 0 0 ~ 1 . P D F       ��   8 p Z     ��   Y �WR�@� ��=9�aiS�@��WR�@�        �/      @ @ �0 2 0 1 0 1 ~ 1 . P D F                                                                                                                                                                                                                                                                                                   rINDX( 	 �y(�          (   �  �      � �����            ��   B  �     ��   Y �qO�@��>�{A�$2=3>��&��A�        _h      @ @ �W0 1 . 0 0 . 0 4   ������  ������  ���������  -   ��������  �������  -   ���������  ������������  ������. p d f ��    p Z     ��   Y 9�E�@��6��=3>� ����        [      @ @ �0 1 0 0 0 0 ~ 1 . P D F       ��   $ p Z     ��   Y ��G�@� �I�{A�=3>� �w��A�        +�      @ @�0 1 0 0 0 1 ~ 1 . P D F       ��   J p Z     ��   Y lJ�@� �I�{A�=3>��&��A�        �w      @ @ �0 1 0 0 0 2 ~ 1 . P D F       ��   ' p Z     ��   Y CvM�@��>�{A�$2=3>��&��A�        �a      @ @ �0 1 0 0 0 3 ~ 1 . P D F       ��   B p Z     ��   Y �qO�@��>�{A�$2=3>��&��A�        _h      @ @ �0 1 0 0 0 4 ~ 1 . P D F       ��   " � �     ��   Y >FQ�@� ���=Y=3>������        �!      @ @ �A0 2 . 0 1 . 0 0   ������  ���- ���������  �����  �������  -   ��������  ������. p d f     ��   8 �     ��   Y �WR�@��>�{A�=Y=3>��&��A�        �/      @ @ �X0 2 . 0 1 . 0 1   ������  ���- ���������  �����  �������  -   ��������  ������  -   ���������  ����������. p d f       ��   �     ��   Y aiS�@� �z�{A�G�=3>��&��A�        ��      @ @ �b0 2 . 0 1 . 0 2   ������  ���- ���������  �����  �������  -   ��������  ������  -   ���������  �������������  ������. p d f   ��   G     ��   Y S�T�@� �z�{A�G�=3>��&��A�        ��      @ @ �a0 2 . 0 1 . 0 3   ������  ���- ���������  �����  �������  -   ��������  ������  -   ���������  ������������  ������. p d f @���    � �     ��   Y �k�@� �z�{A�G�=3>��&��A�        �]      @ @ �S0 2 . 0 1 . 0 4   ������  ���- ���������  �����  �������  -   ��������  ������  -   ��������  ������. p d f ��   " p Z     ��   Y >FQ�@� ���=Y=3>������        �!      @ @ �0 2 0 1 0 0 ~ 1 . P D F       ��   8 p Z     ��   Y �WR�@��>�{A�=Y=3>��&��A�        �/      @ @ �0 2 0 1 0 1 ~ 1 . P D F       ��   � p Z     ��   Y aiS�@� �z�{A�G�=3>��&��A�        ��      @ @ �0 2 0 1 0 2 ~ 1 . P D F       ��   G p Z     ��   Y S�T�@� �z�{A�G�=3>��&��A�        ��      @ @ �0 2 0 1 0 3 ~ 1 . P D F       ��    p Z     ��   Y �k�@� �z�{A�G�=3>��&��A�        �]      @ @ �0 2 0 1 0 4 ~ 1 . P D F       ��   ? � �     ��   Y �_n�@� �z�{A�Q�=3>��&��A�        ��       @ @ �@0 4 . 0 1 -   ������  ���  -   0 0 . 0 1 - ��������_ ���_ �����������- ��������. d o c x       ��   ? p Z     ��   Y �_n�@� �z�{A�Q�=3>��&��A�        ��       @ @ �0 4 0 1 - - ~ 1 . D O C                   �                                                                                                                                                                                                                                                                                                                                                                                                                                                                                                                              �                                                                                                                                                                                                                                                                                                                                                                                                                                                                                                                              �classdef(Hidden) FunctionHandleConstraint < matlab.unittest.constraints.Constraint & handle
    
    %  Copyright 2011-2015 The MathWorks, Inc.
    
    properties(Constant,Access=private)
        FcnConstraint = matlab.unittest.constraints.IsInstanceOf(?function_handle);
    end
    
    properties(Access=private)
        FcnInvoked;
    end
    
    methods
        function diag = getDiagnosticFor(constraint, actual)
            % Generate the diagnostic
            diag = constraint.buildIsFunctionDiagnosticFor(actual);
        end
    end

    methods(Hidden, Access=protected)
        function diag = generateFailingFcnDiagnostic(constraint, consType)
            import matlab.unittest.internal.diagnostics.ConstraintDiagnosticFactory;
            import matlab.unittest.internal.diagnostics.DiagnosticSense;
            
            diag = ConstraintDiagnosticFactory.generateFailingDiagnostic(constraint, ...
                consType, constraint.FcnInvoked);
            diag.ActValHeader = getString(message('MATLAB:unittest:FunctionHandleConstraint:EvaluatedFunctionHandle'));
        end
        
        function diag = generatePassingFcnDiagnostic(constraint, consType)
            import matlab.unittest.internal.diagnostics.ConstraintDiagnosticFactory;
            import matlab.unittest.internal.diagnostics.DiagnosticSense;
            
            diag = ConstraintDiagnosticFactory.generatePassingDiagnostic(constraint, ...
                consType, constraint.FcnInvoked);
            diag.ActValHeader = getString(message('MATLAB:unittest:FunctionHandleConstraint:EvaluatedFunctionHandle'));
        end
        
        function varargout = invoke(constraint, fcn)
            constraint.FcnInvoked = fcn;
            [varargout{1:nargout}] = fcn();
        end
        
        function tf = isFunction(constraint, value)
            % Determine whether some value meets the def'n of being a function that can
            % be operated on by this constraint.
            
            tf = constraint.FcnConstraint.satisfiedBy(value);
        end
        
        function tf = shouldInvoke(constraint, fcn)
            % Determine whether the given actual function is the last value to be
            % invoked by this constraint.
            
            tf = isempty(constraint.FcnInvoked) || ~isequal(constraint.FcnInvoked, fcn);
        end
        
        function diag = buildIsFunctionDiagnosticFor(constraint, actual)
            import matlab.unittest.internal.diagnostics.ConstraintDiagnosticFactory;
            import matlab.unittest.internal.diagnostics.DiagnosticSense;
            
            diag = ConstraintDiagnosticFactory.generateFailingDiagnostic(constraint, ...
                    DiagnosticSense.Positive, actual);
            diag.addConditionsFrom(constraint.FcnConstraint.getDiagnosticFor(actual));            
        end
    end
    
end

% LocalWords:  def'n
                                                                                                                                                                                                                                                                                                                                                                                                                                                                                                                                                                                                                                                                                                                                                                                                                                                                                                                                                                                                                                                                                                                                                                                                                       classdef ActualAlertVisitor < matlab.mixin.Heterogeneous & ...
                              matlab.unittest.internal.mixin.UnsortedUniqueMixin & ...
                              matlab.unittest.internal.mixin.TrimRepeatedElementsMixin
    % ActualAlertVisitor - Abstract interface that holds on to an alert, e.g.,
    % an exception or warning.
    
    % Copyright 2015 The MathWorks, Inc.
    properties(Access=protected)
        Alert;
    end
    
    methods(Access=protected) 
        
        function thisAlertObject = ActualAlertVisitor(actualAlerts)
            thisAlertObject = repmat(thisAlertObject, 1, numel(actualAlerts));           
            alertsCell = num2cell(actualAlerts);
            if ~isempty(thisAlertObject)
                [thisAlertObject.Alert] = alertsCell{:};
            end
        end
    end
    
    methods
        
        function tf = eq(alert1, alert2)
            if isempty(alert1) && isempty(alert2)
                tf = logical.empty(1, 0);
            elseif size(alert1) == size(alert2)
                tf = arrayfun(@(x, y)isEquivalentTo(x, y), alert1, alert2);
            elseif isscalar(alert2) && numel(alert1) > 1
                tf = arrayfun(@(x)isEquivalentTo(x, alert2), alert1);
            end
        end
        
    end
    
    methods(Abstract)
        tf = conformsToID(thisAlert, expectedAlertSpec);
        tf = conformsToMessageObject(thisAlert, expectedAlertSpec);
        tf = conformsToClass(thisAlert, expectedAlertSpec);
        
        tf = isEquivalentTo(alert1, alert2);
        
        str = toStringForDisplayID(thisAlert);
        str = toStringForDisplayMessageObject(thisAlert)
        str = toStringForDisplayClass(thisAlert);
    end
end                                                                                                                                                                                                                                                                                                                                                                                                                                                                                                                                                                                                                                                                                                                                                                                                                                                                                                                                                                                                                                                                                                                                                                                                                                                                                                                                                                                                                                                                                                                                                                                                                                                                                                                                                                                                                                                                                                                                                                                                                                                                                                                                                                                                                                                                                                                                                                                                                                                              INDX( 	  %h           (   h  �       �� �t �          �:    � |     �:   
 |����� ���|�����|����� p      �k              C o n s t r a i n t D i a g n o s t i c F a c t o r y . m m   �:    h V     �:   
 |����� ���|�����|����� p      �k              
C O N S T R ~ 1 . M o �:   
 � �     �:   
 |����� ��5i�|�����|������      �              !c r e a t e C l a s s N a m e F o r C o m m a n d W i n d o w . m ����:   
 � ~     �:   
 ����� n޳������ �����       �              c r e a t e C o m m a n d W i n d o w H y p e r l i n k . m 
 �:   
 � �     �:   
 ����� B�o�������������       �              'c r e a t e C o n s t r a i n t D i a g n o s t i c D e s c r i p t i o n . m �:   
 x d     �:   
 |����� ���Q�|�����|�����       ;              c r e a t e S t a c k I n f o . m i n �:   
 h V     �:   
 |����� ���Q�|�����|�����       ;              
C R E A T E ~ 1 . M o �:   
 h V     �:   
 |����  ��5i�|�����|������      �              
C R E A T E ~ 2 . M o �:   
 h V     �:   
 ����� n޳������������       �              
C R E A T E ~ 3 . M l �:   
 h V     �:   
 ����� B�o�������������       �              
C R E A T E ~ 4 . M S �:   
 x d     �:   
 ����� s#������������       �              D i a g n o s t i c S e n s e . m s T �:   
 h V     �:   
 ����� s#������������       �              
D I A G N O ~ 1 . M l �:    � t     �:   
 |����� :���������|������       �               d i s p l a y C e l l A r r a y A s T a b l e . m e x �:   
 � ~     �:   
 |����� l�l��|�����|������       �               d i s p l a y T o C o m m a n d W i n d o w A s T e x t . m   �:   
 h V     �:   
 |����� l�l��|�����|������       �               
D I S P L A ~ 1 . M   �:    h V     �:   
 |����� :���������|������       �               
D I S P L A ~ 2 . M s �:   
 x d     �:   
 ����  �+:�i�����������                     E m p t y D i a g n o s t i c . m i n �:   
 h V     �:   
 ����� �+:�i�����������                     
E M P T Y D ~ 1 . M t �:   
 � l     �:   
 ����� ��9wK�����������       =              E r r o r R e p o r t i n g M i x i n . m   
 �:   
 h V     �:   
 ����� ��9wK�����������       =              
E R R O R R ~ 1 . M s �:   
 x d     �:   
 |����� ��^�|�����|�����(      &              g e  V a l u e D i s p l a y . m n t �:   
 h V     �:   
 |����� ��^�|�����|�����(      &              
G E T V A L ~ 1 . M o �:   
 h R     �:   
 ����� Ԛ�������������       �               i n d e n t . m e C o �:   
 x d     �:   
 ����� Z���������������       �               i n d e n t W i t h A r r o w . m n t �:   
 h V     �:   
 ����� Z���������������       �               
I N D E N T ~ 1 . M o �:    � �     �:   
 |����� ��L��|���� |�����        }              R e c u r s i v e C o n s t r a i n t D i a g n o s t i c . m �:    h V     �:   
 |����� ��L��|�����|�����        }              
R E C U R S ~ 1 . M e �:    � v     �:   
 |����� wU���|�����|�����(      (              S c r i p t C o n t e n t s D i a g n o s t i c . m   �:    h V     �:   
 |����� wU���|�����|�����(      (              
S C R I P T ~ 1 . M   �:    x d     �:   
 ����� N�mE*������������       �              s h o u l d H y p e r L i n k . m    �:    h V     �:   
 ����� N�mE*������������       �               
S H O U L D ~ 1 . M . �:    p Z     �:   
 |����� =�w��|�����|�����      	              w r a p H e a d e r . m       �:    h V     �:   
 |����� =�w��|�����|�����      	              
W R A P H E ~ 1 . M                                                                                                                                                function registerUndoInsertAxes(hAxes)
% Utility function for undo insertion of an axes

if isempty(hAxes) || ~ishghandle(hAxes)
    return
end

container = ancestor(hAxes,{'figure','uipanel','uicontainer'});
proxyVal = plotedit({'getProxyValueFromHandle',hAxes});
serialized = getCopyStructureFromObject(hAxes);

vectorSerialized = getappdata(0,'ScribeAxesCopyBuffer');
id = length(vectorSerialized) + 1;

% add hAxes to the buffer 
setappdata(0,'ScribeAxesCopyBuffer',[vectorSerialized serialized]);

cmd.Name = 'Insertaxes';
cmd.Function = @localInsertAxes;
cmd.Varargin = {container,id};
cmd.InverseFunction = @localRemoveAxes;
cmd.InverseVarargin = {container,proxyVal,id};

hFig = ancestor(hAxes,'figure');
% Register with undo/redo
uiundo(hFig,'function',cmd);


function localRemoveAxes(container,proxyVal,id)
% CTRL+Z - serializes the axes before deleting. The most recent state of
% the axes is saved in ScribeAxesCopyBuffer .
hAxesVector = findall(container,'type','axes');
for i =1:length(hAxesVector)  
    if isequal(proxyVal, plotedit({'getProxyValueFromHandle',hAxesVector(i)}))        
        serialized = getCopyStructureFromObject(hAxesVector(i));
        vectorSerialized = getappdata(0,'ScribeAxesCopyBuffer');
        vectorSerialized(id) = serialized;        
        setappdata(0,'ScribeAxesCopyBuffer',vectorSerialized);
        delete (hAxesVector(i));
        break
    end
end
    

function localInsertAxes(container,id)     
%CTRL +Y - retrieves the axes with the specified id and adds to its
%contianer
if ~ishghandle(container)
    return
end

vectorSerialized = getappdata(0,'ScribeAxesCopyBuffer');   

hAx = getObjectFromCopyStructure(vectorSerialized(id));
hAx.Parent = container;
hFig = ancestor(container,'figure');

if isactiveuimode(hFig,'Standard.EditPlot')
    selectobject(hAx,'replace');
end
                                                                                                                                                                                                                                                                                                                                                                                                                                                                                                                                                                                                                                                                                                                                                                                                                                                                                                                                                                                                                                                                                                                                                                                                                                                                                                                                                                                                                                                                                                                                                                                                                                                                                                                                                                                                                                                                                                                                                                                                                                                                                                                                                                                                                                                                                                                                                   <PAMDataset>
  <Metadata>
    <MDI key="AREA_OR_POINT">Point</MDI>
  </Metadata>
  <PAMRasterBand band="1">
    <Histograms>
      <HistItem>
        <HistMin>29.4098505</HistMin>
        <HistMax>169.8491495</HistMax>
        <BucketCount>1000</BucketCount>
        <IncludeOutOfRange>0</IncludeOutOfRange>
        <Approximate>0</Approximate>
        <HistCounts>2|3|24|32|14|8|2|17|11|6|6|3|7|10|14|14|13|9|12|16|18|13|19|31|26|36|31|53|44|59|56|36|31|41|22|42|40|46|35|29|43|34|39|43|49|54|35|53|27|43|42|39|32|36|30|24|30|22|32|24|33|37|41|42|47|51|36|41|47|52|61|38|64|48|57|106|46|38|31|29|28|32|27|24|33|41|40|34|34|34|43|42|65|76|93|117|106|146|115|105|98|72|91|65|67|73|59|52|60|57|83|74|91|75|71|76|58|55|54|59|53|52|58|45|71|60|58|68|57|56|61|68|52|48|71|52|61|57|45|52|35|51|39|49|58|65|98|60|54|42|40|43|27|34|28|29|34|28|24|33|29|30|30|34|31|31|33|35|39|33|46|32|49|22|51|38|42|38|28|40|34|47|30|30|41|28|26|42|34|35|27|45|39|43|41|32|41|41|29|35|32|35|43|27|36|31|32|37|39|38|26|33|46|38|51|37|65|70|90|64|49|54|37|44|57|38|40|42|41|56|62|74|72|101|96|79|105|83|87|76|72|87|65|83|99|90|82|86|84|70|90|64|69|82|72|73|71|66|76|70|69|90|79|75|95|72|94|71|93|78|91|95|91|100|89|97|77|90|95|91|96|99|102|92|114|114|112|122|146|125|119|93|89|86|82|81|77|106|93|73|92|77|86|81|71|76|76|58|82|89|66|70|65|79|76|98|103|70|93|86|97|91|84|97|83|81|76|73|80|68|80|90|73|80|72|72|73|74|76|73|81|65|64|74|64|99|67|64|66|69|54|92|67|85|70|94|94|86|112|100|113|117|66|82|85|80|76|74|70|60|77|60|62|74|50|62|50|45|61|65|69|46|66|70|56|60|60|64|47|56|57|55|55|63|42|58|46|86|60|61|65|55|65|53|54|43|38|49|56|53|32|29|48|41|32|43|28|32|41|26|37|29|31|34|25|28|34|45|45|41|34|38|45|42|44|43|30|34|31|26|36|22|24|35|21|22|24|28|20|16|25|22|22|23|10|25|26|31|25|19|24|20|21|20|14|15|18|15|13|16|28|18|16|14|12|23|21|26|11|18|22|17|16|16|33|27|18|14|22|19|22|26|16|24|32|24|24|25|28|27|22|18|28|21|22|19|22|28|19|23|23|31|24|16|18|24|23|17|18|19|10|22|25|19|21|21|19|19|14|26|17|13|18|12|14|14|14|14|15|19|16|11|23|22|16|8|6|12|7|19|10|17|15|12|14|17|16|20|15|19|19|18|21|12|18|20|18|15|9|17|21|16|25|24|26|22|11|21|19|29|18|22|23|21|22|13|22|19|19|18|13|19|18|18|10|16|15|9|15|19|14|19|21|15|12|11|17|18|15|14|9|16|15|13|13|8|20|20|16|13|14|15|13|12|9|14|15|8|11|13|5|7|15|10|10|5|12|13|7|12|9|11|8|9|8|7|11|1|4|5|8|8|5|5|2|8|12|5|6|4|8|6|3|5|6|5|9|7|9|5|7|5|8|9|6|4|4|2|4|4|0|8|5|5|7|9|4|2|6|6|8|5|7|6|5|7|6|3|5|3|6|4|7|5|7|8|4|3|5|6|1|1|4|4|4|5|7|3|4|4|3|6|7|2|8|2|8|4|3|6|6|3|6|5|4|6|1|3|2|3|5|2|4|3|3|2|6|5|3|4|2|0|2|5|3|2|6|2|2|0|0|3|4|5|4|5|4|5|4|1|3|1|1|2|1|1|1|2|6|2|5|8|3|9|7|2|4|8|3|5|7|5|4|4|3|5|2|5|5|3|2|8|3|7|3|3|4|3|5|2|1|3|3|3|4|9|4|1|6|2|2|0|5|1|6|4|0|3|1|1|1|7|3|4|3|3|2|2|2|1|2|0|2|6|3|4|1|5|5|5|6|7|3|5|1|7|6|3|5|3|8|5|9|5|7|5|8|7|5|3|7|6|5|4|11|8|5|9|2|6|5|3|6|11|3|3|6|0|7|3|3|8|2|5|2|4|4|7|4|5|5|2|10|6|4|7|6|3|4|5|5|1|6|0|5|5|5|3|4|2|4|5|3|6|4|7|3|7|5|7|2|4|8|9|6|2|4|4|3|5|5|5|7|1|3|8|0|3|4|4|2|4|7|5|2|3|2|5|2|2|5|0|3|4|1|4|2|4|5|3|3|2|4|3|2|1|0|3|1|0|1|2|2|1|1|1|1|2|0|0|1|1|2|0|0|0|0|3|1|1</HistCounts>
      </HistItem>
    </Histograms>
    <Metadata>
      <MDI key="STATISTICS_MAXIMUM">169.779</MDI>
      <MDI key="STATISTICS_MEAN">72.154850686517</MDI>
      <MDI key="STATISTICS_MINIMUM">29.48</MDI>
      <MDI key="STATISTICS_STDDEV">25.571289317543</MDI>
    </Metadata>
  </PAMRasterBand>
</PAMDataset>
                                                                                                                                                                                                                                                                                                                                                                                                                                                                                                                                                                                                                                                                                                                                                                                         �5YPA30S/Ȼ����^���� 
��e3��!G�oT�=�4 �}
        ��{]�,����