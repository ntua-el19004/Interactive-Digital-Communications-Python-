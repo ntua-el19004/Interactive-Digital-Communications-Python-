{
 "cells": [
  {
   "cell_type": "markdown",
   "metadata": {
    "colab": {},
    "colab_type": "code",
    "id": "P5idIsFDghwJ"
   },
   "source": [
    "### Εργαστηριακή Άσκηση 6 FSK-MSK\n"
   ]
  },
  {
   "cell_type": "markdown",
   "metadata": {},
   "source": [
    "1. Να συμπληρωθεί  ο παρακάτω κώδικας  των σημειώσεων ώστε να εξομοιώνει και την\n",
    "ασύμφωνη FSK (υπόδειξη: προσθέστε τυχαία φάση στο λαμβανόμενο σήμα, πριν\n",
    "την αποδιαμόρφωση-φώραση).\n",
    "2. Χρησιμοποιείστε τη νέα σας συνάρτηση για εξομοίωση συστήματος 16-FSK και\n",
    "σχεδιάστε τις καμπύλες Pb<-> Eb/No για σύμφωνη και ασύμφωνη\n",
    "αποδιαμόρφωση (θεωρητικές και από εξομοίωση)"
   ]
  },
  {
   "cell_type": "code",
   "execution_count": 1,
   "metadata": {},
   "outputs": [],
   "source": [
    "import math\n",
    "import matplotlib.pyplot as plt\n",
    "import numpy as np\n",
    "import pandas as pd\n",
    "import random\n",
    "import scipy.io\n",
    "import scipy.signal\n",
    "\n",
    "\n",
    "from math import log\n",
    "from scipy import signal\n",
    "from scipy.signal import upfirdn, decimate\n",
    "from scipy.special import erfc"
   ]
  },
  {
   "cell_type": "code",
   "execution_count": 52,
   "metadata": {
    "colab": {},
    "colab_type": "code",
    "id": "X6E0InNughwR"
   },
   "outputs": [],
   "source": [
    "def bin2int(binary):\n",
    "    \"\"\"Converts binary as list to integer.\n",
    "\n",
    "    Args:\n",
    "        binary (np.array | list[ints]): binary number as array of ints\n",
    "\n",
    "    Returns:\n",
    "        integer (int): result of conversion\n",
    "    \"\"\"\n",
    "    list_as_str = ''.join(str(e) for e in binary)\n",
    "    return int(list_as_str, 2)\n",
    "    \n",
    "\n",
    "def int2bin(x, pad):\n",
    "    num = bin(x).replace(\"0b\", \"\")  # 9 = '0b1001'\n",
    "    num = f'{num:0>{pad}}' # zero-pads to the right\n",
    "    return [int(d) for d in num]\n",
    "\n",
    "\n",
    "def addAWGN(sig, SNR_dB):\n",
    "    \"\"\"Add white gaussian noise to the signal.\n",
    "\n",
    "    Args:\n",
    "        sig (np.array): signal\n",
    "        SNR_dB (float): target signal-to-noise ratio in dB\n",
    "\n",
    "    Returns:\n",
    "        y_noisy (np.array): noisy signal\n",
    "    \"\"\"\n",
    "\n",
    "    # Calculate signal power and convert to dB\n",
    "    sig_avg_watts = np.mean(sig**2)\n",
    "\n",
    "    sig_avg_db = 10 * np.log10(sig_avg_watts)\n",
    "\n",
    "    # SNR_dB = Psignal_dB - Pnoise_dB\n",
    "    noise_avg_db = sig_avg_db - SNR_dB\n",
    "    noise_avg_watts = 10 ** (noise_avg_db / 10)\n",
    "\n",
    "    # Generate an sample of white noise\n",
    "    mean_noise = 0\n",
    "    noise_volts = np.random.normal(\n",
    "        mean_noise, np.sqrt(noise_avg_watts), len(sig))\n",
    "\n",
    "    # Noise up the original signal\n",
    "    y_noisy = sig + noise_volts\n",
    "\n",
    "    return y_noisy\n"
   ]
  },
  {
   "cell_type": "code",
   "execution_count": 112,
   "metadata": {
    "colab": {
     "base_uri": "https://localhost:8080/",
     "height": 34
    },
    "colab_type": "code",
    "id": "B5hp9-Hsghw8",
    "outputId": "c01733e9-4ce1-4c3e-f866-5d6c520036f9"
   },
   "outputs": [],
   "source": [
    "def fsk_errors(bps, Nsymb, ns, EbNo, coherence=True):\n",
    "    \"\"\"Calculates errors on transmision w/ (non- ) coherent detection.\n",
    "\n",
    "    Args:\n",
    "        bps (int): bits per symbol\n",
    "        Nsymb (int): Number of symbols\n",
    "        ns (int): Number of samples per symbol (oversampling)\n",
    "        EbNo (int): SNR per bit\n",
    "        coherence (bool, optional): Coherent detection. Defaults to True.\n",
    "\n",
    "    Returns:\n",
    "        errors (int): Errors on transmision\n",
    "    \"\"\"\n",
    "\n",
    "    M = 2 ** bps # number of different symbols\n",
    "    BR = 1 # Baud Rate\n",
    "    fc = 2 * M * BR # RF frequency\n",
    "    \n",
    "    # Derived parameters\n",
    "    nb = bps * Nsymb # number of simulated data bits\n",
    "    T = 1 / BR # one symbol period\n",
    "    Ts = T / ns # oversampling period\n",
    "    \n",
    "    # M frequencies in \"non-coherent\" distance (BR)\n",
    "    f = fc + BR * (np.arange(1, M+1) - (M+1)/2)\n",
    "    \n",
    "    # AWGN channel in db\n",
    "    SNR = EbNo + 10*np.log10(bps) - 10*np.log10(ns/2)\n",
    "    \n",
    "    # input data bits and .T = transpose\n",
    "    x = np.random.randint(2, size=(bps, Nsymb)).T\n",
    "    tks = np.arange(0, T, Ts).T\n",
    "\n",
    "    # Sender: FSK signal\n",
    "    s = np.empty(shape=(x.shape[0], tks.shape[0]))\n",
    "    A = np.sqrt(2/T/ns)\n",
    "    for k in range(x.shape[0]):\n",
    "        idx = bin2int(x[k, :])\n",
    "        fk = f[idx]\n",
    "        tk = k * T + tks\n",
    "        s[k] = np.sin(2 * np.pi * fk * tk)\n",
    "\n",
    "    # add noise to the FSK (passband) signal\n",
    "    s_noise = addAWGN(s.flatten(), SNR)\n",
    "\n",
    "    # Receiver: FSK signal\n",
    "    xr = np.empty(x.shape)\n",
    "    for k in range(Nsymb):\n",
    "        tk = k * T + tks\n",
    "        sk = s_noise[k * ns : (k+1) * ns]\n",
    "        \n",
    "        sm = np.empty(M)\n",
    "        for i in range(M):\n",
    "            if coherence:\n",
    "                si = np.sin(2*np.pi*f[i]*tk)\n",
    "                sm[i] = np.sum(sk * si)\n",
    "            if not coherence:\n",
    "                th = np.random.normal() # random phase on receiver\n",
    "                si = np.sin(2 * np.pi * (f[i]*tk + th))\n",
    "                sq = np.cos(2 * np.pi * (f[i]*tk + th))\n",
    "                smi = np.sum(sk * si)\n",
    "                smq = np.sum(sk * sq)\n",
    "                sm[i] = np.sqrt(smi**2 + smq**2)\n",
    "\n",
    "        idx_max = np.argmax(sm)\n",
    "        bits = int2bin(idx_max, bps)\n",
    "\n",
    "        xr[k, :] = [d for d in bits]\n",
    "\n",
    "    # count errors\n",
    "    return s, np.count_nonzero(x.flatten()-xr.flatten())\n"
   ]
  },
  {
   "cell_type": "code",
   "execution_count": 113,
   "metadata": {},
   "outputs": [
    {
     "data": {
      "text/plain": [
       "<matplotlib.legend.Legend at 0x7fe93dd61f10>"
      ]
     },
     "execution_count": 113,
     "metadata": {},
     "output_type": "execute_result"
    },
    {
     "data": {
      "image/png": "[encoded data removed]",
      "text/plain": [
       "<Figure size 432x288 with 1 Axes>"
      ]
     },
     "metadata": {
      "needs_background": "light"
     },
     "output_type": "display_data"
    }
   ],
   "source": [
    "bps = 4\n",
    "Nsymb = 10000\n",
    "ns = 16\n",
    "EbNo = np.arange(7)\n",
    "\n",
    "ber = np.empty(EbNo.shape)\n",
    "ber_theory = np.empty(EbNo.shape)\n",
    "coherence = True\n",
    "for ebno in EbNo:\n",
    "    res = fsk_errors(bps, Nsymb, ns, ebno, coherence)\n",
    "    ber[ebno] = res[1] / (ns*Nsymb)\n",
    "plt.semilogy(EbNo, ber, 'ro', label='BER experimental')\n",
    "# plt.semilogy(EbNo, ber_theory, 'k', label='BER theoretical')\n",
    "plt.xlabel('Eb/N0')\n",
    "plt.ylabel('BER')\n",
    "plt.title(f'BER Experimental for {2**bps}-FSK\\n{\"\" if coherence else \"Not\"} Coherent demodulation')\n",
    "plt.legend()"
   ]
  },
  {
   "cell_type": "code",
   "execution_count": 104,
   "metadata": {},
   "outputs": [
    {
     "data": {
      "text/plain": [
       "[<matplotlib.lines.Line2D at 0x7fe93e98ca30>]"
      ]
     },
     "execution_count": 104,
     "metadata": {},
     "output_type": "execute_result"
    },
    {
     "data": {
      "image/png": "[encoded data removed]",
      "text/plain": [
       "<Figure size 432x288 with 1 Axes>"
      ]
     },
     "metadata": {
      "needs_background": "light"
     },
     "output_type": "display_data"
    }
   ],
   "source": [
    "sig = fsk_errors(bps, Nsymb, ns, ebno, coherence)[0].flatten()\n",
    "f, welch = scipy.signal.welch(sig, 1/ns)\n",
    "plt.semilogy(f, welch)\n"
   ]
  },
  {
   "cell_type": "markdown",
   "metadata": {},
   "source": [
    "### BONUS\n",
    "Με βάση τον Κώδικα 6.2 των σημειώσεων, να εξομοιωθεί σύστημα MSK μετάδοσης σε ζωνοπερατό δίαυλο με κεντρική συχνότητα 8 ΜΗz και ρυθμό μετάδοσης 2 Mbps. Να σχεδιάσετε το φάσμα του ζωνοπερατού σήματος και να υπολογίσετε (θεωρητικά και με εξομοίωση) το BER, όταν Eb/No=10db."
   ]
  },
  {
   "cell_type": "code",
   "execution_count": 5,
   "metadata": {},
   "outputs": [],
   "source": [
    "def upsample(x, n, phase=0):\n",
    "    \"\"\" Increases the sample rate of x by inserting\n",
    "    n - 1 zeros between samples.\n",
    "\n",
    "    Args:\n",
    "        x (np.array): signal to be upsampled\n",
    "        n (int): upsampling\n",
    "        phase (int, optional): offset of the unsampled sequence. Defaults to 0.\n",
    "    Returns:\n",
    "        y(np.array): upsampled signal\n",
    "    \"\"\"\n",
    "    if x.ndim != 1:\n",
    "        raise ValueError(f'x.ndim = {x.ndim} > 1.')\n",
    "    else:\n",
    "        y = x.T\n",
    "        y = np.c_[y, np.zeros(shape=(len(x), n-1))]\n",
    "        y = np.roll(y, phase, axis=1)\n",
    "\n",
    "        return y.flatten()"
   ]
  },
  {
   "cell_type": "code",
   "execution_count": 6,
   "metadata": {},
   "outputs": [],
   "source": [
    "def msk_error(Nbits, Nsamp, EbNo, precoding=False):\n",
    "    # Parameters\n",
    "    \n",
    "    n = Nbits # number data bits\n",
    "    R = 2*(10**6) # bit rate \n",
    "    fc = 8/3 * R # carrier frequency\n",
    "    ns = Nsamp # oversampling factor\n",
    "    \n",
    "    # AWGN channel\n",
    "    SNR = EbNo - 10*np.log10(ns/2) # in db\n",
    "    \n",
    "    # Derived Parametres\n",
    "    T = 1/R #  1 bit period\n",
    "    Ts = T/ns # sampling frequency\n",
    "    \n",
    "    y = np.sign(np.random.random(size=n) - 0.5)  \n",
    "    # input, n random -1 or 1\n",
    "\n",
    "    \n",
    "    x = np.array(\n",
    "        [y[i]*y[i-1] if i > 0 else 1 for i in range(len(y))]\n",
    "    ) # [ 1, y[1]*y[0], y[2]*y[1], ...]\n",
    "    \n",
    "    g = np.ones(ns)\n",
    "\n",
    "    xx = np.convolve(upsample(x, ns), g) # size = ns * (n+1)\n",
    "\n",
    "    # time frame\n",
    "    ts = np.linspace(0, len(xx)*Ts, len(xx)) \n",
    "\n",
    "    # MSK Sender\n",
    "    xs = xx.copy()\n",
    "    theta = np.cumsum(xs) * np.pi / 2 /ns\n",
    "    xs_i = np.cos(theta)\n",
    "    xs_i = np.append(xs_i, xs_i[-1]) # one more sample\n",
    "    \n",
    "    xs_q = np.sin(theta)\n",
    "    xs_q = np.append(xs_q, xs_q[-1]) # one more sample\n",
    "\n",
    "    # modulation\n",
    "    phase = 2 * np.pi * fc * ts\n",
    "    s = np.dot(\n",
    "        [xs_i, xs_q],\n",
    "        [np.cos(phase), (-1) * np.sin(phase)]\n",
    "    )\n",
    "    \n",
    "    pwelch = signal.welch(s, 1/Ts)\n",
    "\n",
    "    s_noise = addAWGN(s, SNR)\n",
    "\n",
    "    # MSK receiver\n",
    "    xs_i = s * np.cos(phase)\n",
    "    xs_q = -s* np.sin(phase)\n",
    "    \n",
    "    # LP filter (Parks-McClellan)\n",
    "    f1 = 0.75/ns\n",
    "    f2 = 4*f1\n",
    "\n",
    "    order = 4*ns\n",
    "    bands = [0, f1, f2, 1]\n",
    "    mag = [1, 1, 0, 0]\n",
    "    wt = [1, 1]\n",
    "\n",
    "    b = signal.remez(order, bands, mag, wt) # filter coefs\n",
    "    a = 1\n",
    "\n",
    "    f_in = np.append(xs_i, np.zeros(order)) # test signal\n",
    "    f_out = scipy.signal.lfilter(b, a, f_in) # pass it through filter\n",
    "\n",
    "\n",
    "    for k in range(1, n, 2):\n",
    "        li = np.arange(k*ns, (k+2)*ns)\n",
    "        lq = np.arange((k-1)*ns,  (k+1)*ns)\n",
    "\n",
    "        xi = xs_i[li]\n",
    "        xq = xs_q[lq]\n",
    "\n",
    "        gmi = np.cos(np.pi / 2 / T * Ts * li) # παλμός matched-filter\n",
    "        gmq = -gmi # = np.sin\n",
    "        \n",
    "        bi = np.sign(np.sum(xi * gmi))\n",
    "        bq = np.sign(np.sum(xq * gmq))\n",
    "        \n",
    "        bi_1, xr_1 = 1, 1\n",
    "        xr = np.empty(n)\n",
    "        if precoding:\n",
    "            xr[k] = xr_1 * bi_1 * bq\n",
    "            xr[k+1] = xr[k] * bi * bq\n",
    "            xr_1 = xr[k+1]\n",
    "        else:\n",
    "            xr[k] = bi_1 * bq\n",
    "            xr[k+1] = bi * bq\n",
    "\n",
    "    return np.count_nonzero(xr-x)"
   ]
  }
 ],
 "metadata": {
  "colab": {
   "collapsed_sections": [],
   "name": "LAB6.ipynb",
   "provenance": [],
   "version": "0.3.2"
  },
  "kernelspec": {
   "display_name": "Python 3.9.12 ('base')",
   "language": "python",
   "name": "python3"
  },
  "language_info": {
   "codemirror_mode": {
    "name": "ipython",
    "version": 3
   },
   "file_extension": ".py",
   "mimetype": "text/x-python",
   "name": "python",
   "nbconvert_exporter": "python",
   "pygments_lexer": "ipython3",
   "version": "3.9.12"
  },
  "vscode": {
   "interpreter": {
    "hash": "c4353fa2223bcff818cc061505deebebd3ad0598b3b9db22646ace266afa50fc"
   }
  }
 },
 "nbformat": 4,
 "nbformat_minor": 4
}
